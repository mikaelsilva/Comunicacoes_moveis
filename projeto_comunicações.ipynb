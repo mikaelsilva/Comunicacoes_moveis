{
  "nbformat": 4,
  "nbformat_minor": 0,
  "metadata": {
    "colab": {
      "name": "projeto comunicações.ipynb",
      "provenance": [],
      "collapsed_sections": [],
      "authorship_tag": "ABX9TyNCA3S3SQtR5E64ExbIUEtT",
      "include_colab_link": true
    },
    "kernelspec": {
      "name": "python3",
      "display_name": "Python 3"
    },
    "language_info": {
      "name": "python"
    }
  },
  "cells": [
    {
      "cell_type": "markdown",
      "metadata": {
        "id": "view-in-github",
        "colab_type": "text"
      },
      "source": [
        "<a href=\"https://colab.research.google.com/github/mvs22/Comunicacoes_moveis/blob/main/projeto_comunica%C3%A7%C3%B5es.ipynb\" target=\"_parent\"><img src=\"https://colab.research.google.com/assets/colab-badge.svg\" alt=\"Open In Colab\"/></a>"
      ]
    },
    {
      "cell_type": "code",
      "execution_count": null,
      "metadata": {
        "id": "s_D7Q_r-WO8e"
      },
      "outputs": [],
      "source": [
        "import pandas as pd\n",
        "import matplotlib.pyplot as plt"
      ]
    },
    {
      "cell_type": "code",
      "source": [
        "df = pd.read_csv(\"LocTreino_Equipe_1.csv\")"
      ],
      "metadata": {
        "id": "FjuoYo77WZtF"
      },
      "execution_count": null,
      "outputs": []
    },
    {
      "cell_type": "code",
      "source": [
        "len(df)"
      ],
      "metadata": {
        "colab": {
          "base_uri": "https://localhost:8080/"
        },
        "id": "VwH4wKmC2PhX",
        "outputId": "9be68a2f-55d0-4014-f726-5999442f9939"
      },
      "execution_count": null,
      "outputs": [
        {
          "output_type": "execute_result",
          "data": {
            "text/plain": [
              "1500"
            ]
          },
          "metadata": {},
          "execution_count": 67
        }
      ]
    },
    {
      "cell_type": "code",
      "source": [
        "df.head()"
      ],
      "metadata": {
        "colab": {
          "base_uri": "https://localhost:8080/",
          "height": 270
        },
        "id": "ziOBv4LTY4-s",
        "outputId": "b032a4ed-3f51-44d5-839e-78e334e387f0"
      },
      "execution_count": null,
      "outputs": [
        {
          "output_type": "execute_result",
          "data": {
            "text/plain": [
              "   pontoId       lat        lon    pathBTS1  pathBTS2    pathBTS3    pathBTS4  \\\n",
              "0     2025 -8.068464 -34.897129  106.790000   122.190  114.056667  123.456667   \n",
              "1     1073 -8.071859 -34.897263  104.056667   114.790  122.523333  104.023333   \n",
              "2      889 -8.072604 -34.896393  104.790000   114.990  114.256667  107.556667   \n",
              "3     1619 -8.069527 -34.889515  121.815000   135.215  132.565000  115.340000   \n",
              "4     2932 -8.060418 -34.905537  134.640000   120.090  129.190000  128.440000   \n",
              "\n",
              "     pathBTS5    pathBTS6  taBTS1  taBTS2  taBTS3  taBTS4  taBTS5  taBTS6  \n",
              "0  130.123333  111.190000     0.0       1       2       1       1     0.0  \n",
              "1  129.923333  114.323333     1.0       0       2       0       1     1.0  \n",
              "2  126.190000  135.790000     1.0       0       2       0       1     1.0  \n",
              "3  100.790000  135.140000     0.0       1       3       1       0     1.0  \n",
              "4  137.040000  129.290000     3.0       3       3       3       3     2.0  "
            ],
            "text/html": [
              "\n",
              "  <div id=\"df-fc754c40-5ee6-4271-bf7c-da4a62305c9b\">\n",
              "    <div class=\"colab-df-container\">\n",
              "      <div>\n",
              "<style scoped>\n",
              "    .dataframe tbody tr th:only-of-type {\n",
              "        vertical-align: middle;\n",
              "    }\n",
              "\n",
              "    .dataframe tbody tr th {\n",
              "        vertical-align: top;\n",
              "    }\n",
              "\n",
              "    .dataframe thead th {\n",
              "        text-align: right;\n",
              "    }\n",
              "</style>\n",
              "<table border=\"1\" class=\"dataframe\">\n",
              "  <thead>\n",
              "    <tr style=\"text-align: right;\">\n",
              "      <th></th>\n",
              "      <th>pontoId</th>\n",
              "      <th>lat</th>\n",
              "      <th>lon</th>\n",
              "      <th>pathBTS1</th>\n",
              "      <th>pathBTS2</th>\n",
              "      <th>pathBTS3</th>\n",
              "      <th>pathBTS4</th>\n",
              "      <th>pathBTS5</th>\n",
              "      <th>pathBTS6</th>\n",
              "      <th>taBTS1</th>\n",
              "      <th>taBTS2</th>\n",
              "      <th>taBTS3</th>\n",
              "      <th>taBTS4</th>\n",
              "      <th>taBTS5</th>\n",
              "      <th>taBTS6</th>\n",
              "    </tr>\n",
              "  </thead>\n",
              "  <tbody>\n",
              "    <tr>\n",
              "      <th>0</th>\n",
              "      <td>2025</td>\n",
              "      <td>-8.068464</td>\n",
              "      <td>-34.897129</td>\n",
              "      <td>106.790000</td>\n",
              "      <td>122.190</td>\n",
              "      <td>114.056667</td>\n",
              "      <td>123.456667</td>\n",
              "      <td>130.123333</td>\n",
              "      <td>111.190000</td>\n",
              "      <td>0.0</td>\n",
              "      <td>1</td>\n",
              "      <td>2</td>\n",
              "      <td>1</td>\n",
              "      <td>1</td>\n",
              "      <td>0.0</td>\n",
              "    </tr>\n",
              "    <tr>\n",
              "      <th>1</th>\n",
              "      <td>1073</td>\n",
              "      <td>-8.071859</td>\n",
              "      <td>-34.897263</td>\n",
              "      <td>104.056667</td>\n",
              "      <td>114.790</td>\n",
              "      <td>122.523333</td>\n",
              "      <td>104.023333</td>\n",
              "      <td>129.923333</td>\n",
              "      <td>114.323333</td>\n",
              "      <td>1.0</td>\n",
              "      <td>0</td>\n",
              "      <td>2</td>\n",
              "      <td>0</td>\n",
              "      <td>1</td>\n",
              "      <td>1.0</td>\n",
              "    </tr>\n",
              "    <tr>\n",
              "      <th>2</th>\n",
              "      <td>889</td>\n",
              "      <td>-8.072604</td>\n",
              "      <td>-34.896393</td>\n",
              "      <td>104.790000</td>\n",
              "      <td>114.990</td>\n",
              "      <td>114.256667</td>\n",
              "      <td>107.556667</td>\n",
              "      <td>126.190000</td>\n",
              "      <td>135.790000</td>\n",
              "      <td>1.0</td>\n",
              "      <td>0</td>\n",
              "      <td>2</td>\n",
              "      <td>0</td>\n",
              "      <td>1</td>\n",
              "      <td>1.0</td>\n",
              "    </tr>\n",
              "    <tr>\n",
              "      <th>3</th>\n",
              "      <td>1619</td>\n",
              "      <td>-8.069527</td>\n",
              "      <td>-34.889515</td>\n",
              "      <td>121.815000</td>\n",
              "      <td>135.215</td>\n",
              "      <td>132.565000</td>\n",
              "      <td>115.340000</td>\n",
              "      <td>100.790000</td>\n",
              "      <td>135.140000</td>\n",
              "      <td>0.0</td>\n",
              "      <td>1</td>\n",
              "      <td>3</td>\n",
              "      <td>1</td>\n",
              "      <td>0</td>\n",
              "      <td>1.0</td>\n",
              "    </tr>\n",
              "    <tr>\n",
              "      <th>4</th>\n",
              "      <td>2932</td>\n",
              "      <td>-8.060418</td>\n",
              "      <td>-34.905537</td>\n",
              "      <td>134.640000</td>\n",
              "      <td>120.090</td>\n",
              "      <td>129.190000</td>\n",
              "      <td>128.440000</td>\n",
              "      <td>137.040000</td>\n",
              "      <td>129.290000</td>\n",
              "      <td>3.0</td>\n",
              "      <td>3</td>\n",
              "      <td>3</td>\n",
              "      <td>3</td>\n",
              "      <td>3</td>\n",
              "      <td>2.0</td>\n",
              "    </tr>\n",
              "  </tbody>\n",
              "</table>\n",
              "</div>\n",
              "      <button class=\"colab-df-convert\" onclick=\"convertToInteractive('df-fc754c40-5ee6-4271-bf7c-da4a62305c9b')\"\n",
              "              title=\"Convert this dataframe to an interactive table.\"\n",
              "              style=\"display:none;\">\n",
              "        \n",
              "  <svg xmlns=\"http://www.w3.org/2000/svg\" height=\"24px\"viewBox=\"0 0 24 24\"\n",
              "       width=\"24px\">\n",
              "    <path d=\"M0 0h24v24H0V0z\" fill=\"none\"/>\n",
              "    <path d=\"M18.56 5.44l.94 2.06.94-2.06 2.06-.94-2.06-.94-.94-2.06-.94 2.06-2.06.94zm-11 1L8.5 8.5l.94-2.06 2.06-.94-2.06-.94L8.5 2.5l-.94 2.06-2.06.94zm10 10l.94 2.06.94-2.06 2.06-.94-2.06-.94-.94-2.06-.94 2.06-2.06.94z\"/><path d=\"M17.41 7.96l-1.37-1.37c-.4-.4-.92-.59-1.43-.59-.52 0-1.04.2-1.43.59L10.3 9.45l-7.72 7.72c-.78.78-.78 2.05 0 2.83L4 21.41c.39.39.9.59 1.41.59.51 0 1.02-.2 1.41-.59l7.78-7.78 2.81-2.81c.8-.78.8-2.07 0-2.86zM5.41 20L4 18.59l7.72-7.72 1.47 1.35L5.41 20z\"/>\n",
              "  </svg>\n",
              "      </button>\n",
              "      \n",
              "  <style>\n",
              "    .colab-df-container {\n",
              "      display:flex;\n",
              "      flex-wrap:wrap;\n",
              "      gap: 12px;\n",
              "    }\n",
              "\n",
              "    .colab-df-convert {\n",
              "      background-color: #E8F0FE;\n",
              "      border: none;\n",
              "      border-radius: 50%;\n",
              "      cursor: pointer;\n",
              "      display: none;\n",
              "      fill: #1967D2;\n",
              "      height: 32px;\n",
              "      padding: 0 0 0 0;\n",
              "      width: 32px;\n",
              "    }\n",
              "\n",
              "    .colab-df-convert:hover {\n",
              "      background-color: #E2EBFA;\n",
              "      box-shadow: 0px 1px 2px rgba(60, 64, 67, 0.3), 0px 1px 3px 1px rgba(60, 64, 67, 0.15);\n",
              "      fill: #174EA6;\n",
              "    }\n",
              "\n",
              "    [theme=dark] .colab-df-convert {\n",
              "      background-color: #3B4455;\n",
              "      fill: #D2E3FC;\n",
              "    }\n",
              "\n",
              "    [theme=dark] .colab-df-convert:hover {\n",
              "      background-color: #434B5C;\n",
              "      box-shadow: 0px 1px 3px 1px rgba(0, 0, 0, 0.15);\n",
              "      filter: drop-shadow(0px 1px 2px rgba(0, 0, 0, 0.3));\n",
              "      fill: #FFFFFF;\n",
              "    }\n",
              "  </style>\n",
              "\n",
              "      <script>\n",
              "        const buttonEl =\n",
              "          document.querySelector('#df-fc754c40-5ee6-4271-bf7c-da4a62305c9b button.colab-df-convert');\n",
              "        buttonEl.style.display =\n",
              "          google.colab.kernel.accessAllowed ? 'block' : 'none';\n",
              "\n",
              "        async function convertToInteractive(key) {\n",
              "          const element = document.querySelector('#df-fc754c40-5ee6-4271-bf7c-da4a62305c9b');\n",
              "          const dataTable =\n",
              "            await google.colab.kernel.invokeFunction('convertToInteractive',\n",
              "                                                     [key], {});\n",
              "          if (!dataTable) return;\n",
              "\n",
              "          const docLinkHtml = 'Like what you see? Visit the ' +\n",
              "            '<a target=\"_blank\" href=https://colab.research.google.com/notebooks/data_table.ipynb>data table notebook</a>'\n",
              "            + ' to learn more about interactive tables.';\n",
              "          element.innerHTML = '';\n",
              "          dataTable['output_type'] = 'display_data';\n",
              "          await google.colab.output.renderOutput(dataTable, element);\n",
              "          const docLink = document.createElement('div');\n",
              "          docLink.innerHTML = docLinkHtml;\n",
              "          element.appendChild(docLink);\n",
              "        }\n",
              "      </script>\n",
              "    </div>\n",
              "  </div>\n",
              "  "
            ]
          },
          "metadata": {},
          "execution_count": 68
        }
      ]
    },
    {
      "cell_type": "code",
      "source": [
        "df.info()"
      ],
      "metadata": {
        "colab": {
          "base_uri": "https://localhost:8080/"
        },
        "id": "QO76civhWfCu",
        "outputId": "81a322fa-1b4f-41c1-8994-1fa1a875fb08"
      },
      "execution_count": null,
      "outputs": [
        {
          "output_type": "stream",
          "name": "stdout",
          "text": [
            "<class 'pandas.core.frame.DataFrame'>\n",
            "RangeIndex: 1500 entries, 0 to 1499\n",
            "Data columns (total 15 columns):\n",
            " #   Column    Non-Null Count  Dtype  \n",
            "---  ------    --------------  -----  \n",
            " 0   pontoId   1500 non-null   int64  \n",
            " 1   lat       1500 non-null   float64\n",
            " 2   lon       1500 non-null   float64\n",
            " 3   pathBTS1  1500 non-null   float64\n",
            " 4   pathBTS2  1500 non-null   float64\n",
            " 5   pathBTS3  1500 non-null   float64\n",
            " 6   pathBTS4  1500 non-null   float64\n",
            " 7   pathBTS5  1500 non-null   float64\n",
            " 8   pathBTS6  1499 non-null   float64\n",
            " 9   taBTS1    1499 non-null   float64\n",
            " 10  taBTS2    1500 non-null   int64  \n",
            " 11  taBTS3    1500 non-null   int64  \n",
            " 12  taBTS4    1500 non-null   int64  \n",
            " 13  taBTS5    1500 non-null   int64  \n",
            " 14  taBTS6    1498 non-null   float64\n",
            "dtypes: float64(10), int64(5)\n",
            "memory usage: 175.9 KB\n"
          ]
        }
      ]
    },
    {
      "cell_type": "markdown",
      "source": [
        "segundo o professor, time advance deveria ser um inteiro entre 0 e 63 (representa passos de 550 metros).... então vamos fazer um cast de float para inteiro"
      ],
      "metadata": {
        "id": "t3wxi2GT1tyc"
      }
    },
    {
      "cell_type": "code",
      "source": [
        "df = df.dropna()"
      ],
      "metadata": {
        "id": "onBXU9z32JNs"
      },
      "execution_count": null,
      "outputs": []
    },
    {
      "cell_type": "code",
      "source": [
        "df.taBTS1 = df.taBTS1.astype('int64')\n",
        "df.taBTS6 = df.taBTS6.astype('int64')\n",
        "df[\"pathBTS1\"] = df[\"pathBTS1\"].astype(float)\n",
        "df[\"pathBTS2\"] = df[\"pathBTS2\"].astype(float)\n",
        "df[\"pathBTS3\"] = df[\"pathBTS3\"].astype(float)\n",
        "df[\"pathBTS4\"] = df[\"pathBTS4\"].astype(float)\n",
        "df[\"pathBTS5\"] = df[\"pathBTS5\"].astype(float)\n",
        "df[\"pathBTS6\"] = df[\"pathBTS6\"].astype(float)"
      ],
      "metadata": {
        "id": "dyyNmTt312jN"
      },
      "execution_count": null,
      "outputs": []
    },
    {
      "cell_type": "code",
      "source": [
        "df.describe(include=\"all\")"
      ],
      "metadata": {
        "colab": {
          "base_uri": "https://localhost:8080/",
          "height": 364
        },
        "id": "Z4fF6O-AWdiJ",
        "outputId": "ee65bec8-61d8-40c9-8cd2-c58de7b1d3f6"
      },
      "execution_count": null,
      "outputs": [
        {
          "output_type": "execute_result",
          "data": {
            "text/plain": [
              "           pontoId          lat          lon     pathBTS1     pathBTS2  \\\n",
              "count  1496.000000  1496.000000  1496.000000  1496.000000  1496.000000   \n",
              "mean   1439.524733    -8.070247   -34.895093   116.413469   118.708401   \n",
              "std     851.146153     0.004239     0.004318    12.123122    12.534384   \n",
              "min       1.000000    -8.077576   -34.906830    85.690000    76.423333   \n",
              "25%     699.750000    -8.073529   -34.898252   106.590000   111.381667   \n",
              "50%    1392.500000    -8.070139   -34.895741   117.556667   119.523333   \n",
              "75%    2172.250000    -8.067198   -34.891866   124.723333   128.565000   \n",
              "max    2955.000000    -8.059339   -34.885078   144.290000   144.890000   \n",
              "\n",
              "          pathBTS3     pathBTS4     pathBTS5     pathBTS6       taBTS1  \\\n",
              "count  1496.000000  1496.000000  1496.000000  1496.000000  1496.000000   \n",
              "mean    123.592616   115.980256   122.051927   126.663599     0.760695   \n",
              "std       9.183161    12.338160    12.475839    27.802419     1.448867   \n",
              "min      88.790000    84.056667    80.123333    87.523333     0.000000   \n",
              "25%     118.935833   107.056667   114.315000   115.835833     0.000000   \n",
              "50%     124.190000   116.606667   123.512561   128.656667     1.000000   \n",
              "75%     129.752500   125.798333   131.002500   136.056667     1.000000   \n",
              "max     145.890000   145.423333   146.890000   779.603100    33.000000   \n",
              "\n",
              "            taBTS2       taBTS3       taBTS4       taBTS5       taBTS6  \n",
              "count  1496.000000  1496.000000  1496.000000  1496.000000  1496.000000  \n",
              "mean      0.985963     2.457219     0.985963     1.140374     1.123663  \n",
              "std       0.818966     0.966067     0.818966     0.838266     1.120834  \n",
              "min       0.000000     1.000000     0.000000     0.000000     0.000000  \n",
              "25%       0.000000     2.000000     0.000000     1.000000     1.000000  \n",
              "50%       1.000000     2.000000     1.000000     1.000000     1.000000  \n",
              "75%       1.000000     3.000000     1.000000     2.000000     2.000000  \n",
              "max       4.000000     5.000000     4.000000     3.000000    25.000000  "
            ],
            "text/html": [
              "\n",
              "  <div id=\"df-4dc9e556-a29f-4ff3-9864-54950256b334\">\n",
              "    <div class=\"colab-df-container\">\n",
              "      <div>\n",
              "<style scoped>\n",
              "    .dataframe tbody tr th:only-of-type {\n",
              "        vertical-align: middle;\n",
              "    }\n",
              "\n",
              "    .dataframe tbody tr th {\n",
              "        vertical-align: top;\n",
              "    }\n",
              "\n",
              "    .dataframe thead th {\n",
              "        text-align: right;\n",
              "    }\n",
              "</style>\n",
              "<table border=\"1\" class=\"dataframe\">\n",
              "  <thead>\n",
              "    <tr style=\"text-align: right;\">\n",
              "      <th></th>\n",
              "      <th>pontoId</th>\n",
              "      <th>lat</th>\n",
              "      <th>lon</th>\n",
              "      <th>pathBTS1</th>\n",
              "      <th>pathBTS2</th>\n",
              "      <th>pathBTS3</th>\n",
              "      <th>pathBTS4</th>\n",
              "      <th>pathBTS5</th>\n",
              "      <th>pathBTS6</th>\n",
              "      <th>taBTS1</th>\n",
              "      <th>taBTS2</th>\n",
              "      <th>taBTS3</th>\n",
              "      <th>taBTS4</th>\n",
              "      <th>taBTS5</th>\n",
              "      <th>taBTS6</th>\n",
              "    </tr>\n",
              "  </thead>\n",
              "  <tbody>\n",
              "    <tr>\n",
              "      <th>count</th>\n",
              "      <td>1496.000000</td>\n",
              "      <td>1496.000000</td>\n",
              "      <td>1496.000000</td>\n",
              "      <td>1496.000000</td>\n",
              "      <td>1496.000000</td>\n",
              "      <td>1496.000000</td>\n",
              "      <td>1496.000000</td>\n",
              "      <td>1496.000000</td>\n",
              "      <td>1496.000000</td>\n",
              "      <td>1496.000000</td>\n",
              "      <td>1496.000000</td>\n",
              "      <td>1496.000000</td>\n",
              "      <td>1496.000000</td>\n",
              "      <td>1496.000000</td>\n",
              "      <td>1496.000000</td>\n",
              "    </tr>\n",
              "    <tr>\n",
              "      <th>mean</th>\n",
              "      <td>1439.524733</td>\n",
              "      <td>-8.070247</td>\n",
              "      <td>-34.895093</td>\n",
              "      <td>116.413469</td>\n",
              "      <td>118.708401</td>\n",
              "      <td>123.592616</td>\n",
              "      <td>115.980256</td>\n",
              "      <td>122.051927</td>\n",
              "      <td>126.663599</td>\n",
              "      <td>0.760695</td>\n",
              "      <td>0.985963</td>\n",
              "      <td>2.457219</td>\n",
              "      <td>0.985963</td>\n",
              "      <td>1.140374</td>\n",
              "      <td>1.123663</td>\n",
              "    </tr>\n",
              "    <tr>\n",
              "      <th>std</th>\n",
              "      <td>851.146153</td>\n",
              "      <td>0.004239</td>\n",
              "      <td>0.004318</td>\n",
              "      <td>12.123122</td>\n",
              "      <td>12.534384</td>\n",
              "      <td>9.183161</td>\n",
              "      <td>12.338160</td>\n",
              "      <td>12.475839</td>\n",
              "      <td>27.802419</td>\n",
              "      <td>1.448867</td>\n",
              "      <td>0.818966</td>\n",
              "      <td>0.966067</td>\n",
              "      <td>0.818966</td>\n",
              "      <td>0.838266</td>\n",
              "      <td>1.120834</td>\n",
              "    </tr>\n",
              "    <tr>\n",
              "      <th>min</th>\n",
              "      <td>1.000000</td>\n",
              "      <td>-8.077576</td>\n",
              "      <td>-34.906830</td>\n",
              "      <td>85.690000</td>\n",
              "      <td>76.423333</td>\n",
              "      <td>88.790000</td>\n",
              "      <td>84.056667</td>\n",
              "      <td>80.123333</td>\n",
              "      <td>87.523333</td>\n",
              "      <td>0.000000</td>\n",
              "      <td>0.000000</td>\n",
              "      <td>1.000000</td>\n",
              "      <td>0.000000</td>\n",
              "      <td>0.000000</td>\n",
              "      <td>0.000000</td>\n",
              "    </tr>\n",
              "    <tr>\n",
              "      <th>25%</th>\n",
              "      <td>699.750000</td>\n",
              "      <td>-8.073529</td>\n",
              "      <td>-34.898252</td>\n",
              "      <td>106.590000</td>\n",
              "      <td>111.381667</td>\n",
              "      <td>118.935833</td>\n",
              "      <td>107.056667</td>\n",
              "      <td>114.315000</td>\n",
              "      <td>115.835833</td>\n",
              "      <td>0.000000</td>\n",
              "      <td>0.000000</td>\n",
              "      <td>2.000000</td>\n",
              "      <td>0.000000</td>\n",
              "      <td>1.000000</td>\n",
              "      <td>1.000000</td>\n",
              "    </tr>\n",
              "    <tr>\n",
              "      <th>50%</th>\n",
              "      <td>1392.500000</td>\n",
              "      <td>-8.070139</td>\n",
              "      <td>-34.895741</td>\n",
              "      <td>117.556667</td>\n",
              "      <td>119.523333</td>\n",
              "      <td>124.190000</td>\n",
              "      <td>116.606667</td>\n",
              "      <td>123.512561</td>\n",
              "      <td>128.656667</td>\n",
              "      <td>1.000000</td>\n",
              "      <td>1.000000</td>\n",
              "      <td>2.000000</td>\n",
              "      <td>1.000000</td>\n",
              "      <td>1.000000</td>\n",
              "      <td>1.000000</td>\n",
              "    </tr>\n",
              "    <tr>\n",
              "      <th>75%</th>\n",
              "      <td>2172.250000</td>\n",
              "      <td>-8.067198</td>\n",
              "      <td>-34.891866</td>\n",
              "      <td>124.723333</td>\n",
              "      <td>128.565000</td>\n",
              "      <td>129.752500</td>\n",
              "      <td>125.798333</td>\n",
              "      <td>131.002500</td>\n",
              "      <td>136.056667</td>\n",
              "      <td>1.000000</td>\n",
              "      <td>1.000000</td>\n",
              "      <td>3.000000</td>\n",
              "      <td>1.000000</td>\n",
              "      <td>2.000000</td>\n",
              "      <td>2.000000</td>\n",
              "    </tr>\n",
              "    <tr>\n",
              "      <th>max</th>\n",
              "      <td>2955.000000</td>\n",
              "      <td>-8.059339</td>\n",
              "      <td>-34.885078</td>\n",
              "      <td>144.290000</td>\n",
              "      <td>144.890000</td>\n",
              "      <td>145.890000</td>\n",
              "      <td>145.423333</td>\n",
              "      <td>146.890000</td>\n",
              "      <td>779.603100</td>\n",
              "      <td>33.000000</td>\n",
              "      <td>4.000000</td>\n",
              "      <td>5.000000</td>\n",
              "      <td>4.000000</td>\n",
              "      <td>3.000000</td>\n",
              "      <td>25.000000</td>\n",
              "    </tr>\n",
              "  </tbody>\n",
              "</table>\n",
              "</div>\n",
              "      <button class=\"colab-df-convert\" onclick=\"convertToInteractive('df-4dc9e556-a29f-4ff3-9864-54950256b334')\"\n",
              "              title=\"Convert this dataframe to an interactive table.\"\n",
              "              style=\"display:none;\">\n",
              "        \n",
              "  <svg xmlns=\"http://www.w3.org/2000/svg\" height=\"24px\"viewBox=\"0 0 24 24\"\n",
              "       width=\"24px\">\n",
              "    <path d=\"M0 0h24v24H0V0z\" fill=\"none\"/>\n",
              "    <path d=\"M18.56 5.44l.94 2.06.94-2.06 2.06-.94-2.06-.94-.94-2.06-.94 2.06-2.06.94zm-11 1L8.5 8.5l.94-2.06 2.06-.94-2.06-.94L8.5 2.5l-.94 2.06-2.06.94zm10 10l.94 2.06.94-2.06 2.06-.94-2.06-.94-.94-2.06-.94 2.06-2.06.94z\"/><path d=\"M17.41 7.96l-1.37-1.37c-.4-.4-.92-.59-1.43-.59-.52 0-1.04.2-1.43.59L10.3 9.45l-7.72 7.72c-.78.78-.78 2.05 0 2.83L4 21.41c.39.39.9.59 1.41.59.51 0 1.02-.2 1.41-.59l7.78-7.78 2.81-2.81c.8-.78.8-2.07 0-2.86zM5.41 20L4 18.59l7.72-7.72 1.47 1.35L5.41 20z\"/>\n",
              "  </svg>\n",
              "      </button>\n",
              "      \n",
              "  <style>\n",
              "    .colab-df-container {\n",
              "      display:flex;\n",
              "      flex-wrap:wrap;\n",
              "      gap: 12px;\n",
              "    }\n",
              "\n",
              "    .colab-df-convert {\n",
              "      background-color: #E8F0FE;\n",
              "      border: none;\n",
              "      border-radius: 50%;\n",
              "      cursor: pointer;\n",
              "      display: none;\n",
              "      fill: #1967D2;\n",
              "      height: 32px;\n",
              "      padding: 0 0 0 0;\n",
              "      width: 32px;\n",
              "    }\n",
              "\n",
              "    .colab-df-convert:hover {\n",
              "      background-color: #E2EBFA;\n",
              "      box-shadow: 0px 1px 2px rgba(60, 64, 67, 0.3), 0px 1px 3px 1px rgba(60, 64, 67, 0.15);\n",
              "      fill: #174EA6;\n",
              "    }\n",
              "\n",
              "    [theme=dark] .colab-df-convert {\n",
              "      background-color: #3B4455;\n",
              "      fill: #D2E3FC;\n",
              "    }\n",
              "\n",
              "    [theme=dark] .colab-df-convert:hover {\n",
              "      background-color: #434B5C;\n",
              "      box-shadow: 0px 1px 3px 1px rgba(0, 0, 0, 0.15);\n",
              "      filter: drop-shadow(0px 1px 2px rgba(0, 0, 0, 0.3));\n",
              "      fill: #FFFFFF;\n",
              "    }\n",
              "  </style>\n",
              "\n",
              "      <script>\n",
              "        const buttonEl =\n",
              "          document.querySelector('#df-4dc9e556-a29f-4ff3-9864-54950256b334 button.colab-df-convert');\n",
              "        buttonEl.style.display =\n",
              "          google.colab.kernel.accessAllowed ? 'block' : 'none';\n",
              "\n",
              "        async function convertToInteractive(key) {\n",
              "          const element = document.querySelector('#df-4dc9e556-a29f-4ff3-9864-54950256b334');\n",
              "          const dataTable =\n",
              "            await google.colab.kernel.invokeFunction('convertToInteractive',\n",
              "                                                     [key], {});\n",
              "          if (!dataTable) return;\n",
              "\n",
              "          const docLinkHtml = 'Like what you see? Visit the ' +\n",
              "            '<a target=\"_blank\" href=https://colab.research.google.com/notebooks/data_table.ipynb>data table notebook</a>'\n",
              "            + ' to learn more about interactive tables.';\n",
              "          element.innerHTML = '';\n",
              "          dataTable['output_type'] = 'display_data';\n",
              "          await google.colab.output.renderOutput(dataTable, element);\n",
              "          const docLink = document.createElement('div');\n",
              "          docLink.innerHTML = docLinkHtml;\n",
              "          element.appendChild(docLink);\n",
              "        }\n",
              "      </script>\n",
              "    </div>\n",
              "  </div>\n",
              "  "
            ]
          },
          "metadata": {},
          "execution_count": 72
        }
      ]
    },
    {
      "cell_type": "code",
      "source": [
        "plt.scatter(df.lat, df.lon)"
      ],
      "metadata": {
        "colab": {
          "base_uri": "https://localhost:8080/",
          "height": 283
        },
        "id": "dgB876AS7ybD",
        "outputId": "5e12b727-71db-4aea-e581-a0c159c12067"
      },
      "execution_count": null,
      "outputs": [
        {
          "output_type": "execute_result",
          "data": {
            "text/plain": [
              "<matplotlib.collections.PathCollection at 0x7f615ec7e550>"
            ]
          },
          "metadata": {},
          "execution_count": 73
        },
        {
          "output_type": "display_data",
          "data": {
            "text/plain": [
              "<Figure size 432x288 with 1 Axes>"
            ],
            "image/png": "[encoded data removed]"
          },
          "metadata": {
            "needs_background": "light"
          }
        }
      ]
    },
    {
      "cell_type": "markdown",
      "source": [
        "achei meio exotico o canto inferior direito(parece que é dentro da agua, mas fui verificar no google maps e não consegui tirar nenhuma conclusão, por isso acho que as latitudes e longitudes parecem ok"
      ],
      "metadata": {
        "id": "uuk54KH5-spp"
      }
    },
    {
      "cell_type": "markdown",
      "source": [
        "### verificando os time advance:"
      ],
      "metadata": {
        "id": "pB3qoIC4BDJu"
      }
    },
    {
      "cell_type": "code",
      "source": [
        "fig1, ax1 = plt.subplots()\n",
        "data = [df.taBTS1,df.taBTS2,df.taBTS3,df.taBTS4,df.taBTS5,df.taBTS6]\n",
        "ax1.boxplot(data)"
      ],
      "metadata": {
        "colab": {
          "base_uri": "https://localhost:8080/",
          "height": 1000
        },
        "id": "-JoMJ6exBIr-",
        "outputId": "235e3025-f971-4b17-d4a2-110179dfba8a"
      },
      "execution_count": null,
      "outputs": [
        {
          "output_type": "execute_result",
          "data": {
            "text/plain": [
              "{'boxes': [<matplotlib.lines.Line2D at 0x7f615ed85bd0>,\n",
              "  <matplotlib.lines.Line2D at 0x7f615ec09190>,\n",
              "  <matplotlib.lines.Line2D at 0x7f615eb98690>,\n",
              "  <matplotlib.lines.Line2D at 0x7f615ebaac50>,\n",
              "  <matplotlib.lines.Line2D at 0x7f615ebc2210>,\n",
              "  <matplotlib.lines.Line2D at 0x7f615eb54750>],\n",
              " 'caps': [<matplotlib.lines.Line2D at 0x7f615ebf9b90>,\n",
              "  <matplotlib.lines.Line2D at 0x7f615ebff110>,\n",
              "  <matplotlib.lines.Line2D at 0x7f615eb90150>,\n",
              "  <matplotlib.lines.Line2D at 0x7f615eb90690>,\n",
              "  <matplotlib.lines.Line2D at 0x7f615eba36d0>,\n",
              "  <matplotlib.lines.Line2D at 0x7f615eba3c50>,\n",
              "  <matplotlib.lines.Line2D at 0x7f615ebb0c50>,\n",
              "  <matplotlib.lines.Line2D at 0x7f615ebbb1d0>,\n",
              "  <matplotlib.lines.Line2D at 0x7f615ebcb210>,\n",
              "  <matplotlib.lines.Line2D at 0x7f615ebcb710>,\n",
              "  <matplotlib.lines.Line2D at 0x7f615eb5b790>,\n",
              "  <matplotlib.lines.Line2D at 0x7f615eb5bcd0>],\n",
              " 'fliers': [<matplotlib.lines.Line2D at 0x7f615ebee0d0>,\n",
              "  <matplotlib.lines.Line2D at 0x7f615eb98150>,\n",
              "  <matplotlib.lines.Line2D at 0x7f615ebaa710>,\n",
              "  <matplotlib.lines.Line2D at 0x7f615ebbbc50>,\n",
              "  <matplotlib.lines.Line2D at 0x7f615eb54210>,\n",
              "  <matplotlib.lines.Line2D at 0x7f615eb63790>],\n",
              " 'means': [],\n",
              " 'medians': [<matplotlib.lines.Line2D at 0x7f615ebff690>,\n",
              "  <matplotlib.lines.Line2D at 0x7f615eb90bd0>,\n",
              "  <matplotlib.lines.Line2D at 0x7f615ebaa1d0>,\n",
              "  <matplotlib.lines.Line2D at 0x7f615ebbb710>,\n",
              "  <matplotlib.lines.Line2D at 0x7f615ebcbc50>,\n",
              "  <matplotlib.lines.Line2D at 0x7f615eb63250>],\n",
              " 'whiskers': [<matplotlib.lines.Line2D at 0x7f615ebf9110>,\n",
              "  <matplotlib.lines.Line2D at 0x7f615ebf9650>,\n",
              "  <matplotlib.lines.Line2D at 0x7f615ec096d0>,\n",
              "  <matplotlib.lines.Line2D at 0x7f615ec09bd0>,\n",
              "  <matplotlib.lines.Line2D at 0x7f615eb98bd0>,\n",
              "  <matplotlib.lines.Line2D at 0x7f615eba3190>,\n",
              "  <matplotlib.lines.Line2D at 0x7f615ebb01d0>,\n",
              "  <matplotlib.lines.Line2D at 0x7f615ebb0710>,\n",
              "  <matplotlib.lines.Line2D at 0x7f615ebc2790>,\n",
              "  <matplotlib.lines.Line2D at 0x7f615ebc2c90>,\n",
              "  <matplotlib.lines.Line2D at 0x7f615eb54cd0>,\n",
              "  <matplotlib.lines.Line2D at 0x7f615eb5b250>]}"
            ]
          },
          "metadata": {},
          "execution_count": 74
        },
        {
          "output_type": "display_data",
          "data": {
            "text/plain": [
              "<Figure size 432x288 with 1 Axes>"
            ],
            "image/png": "[encoded data removed]"
          },
          "metadata": {
            "needs_background": "light"
          }
        }
      ]
    },
    {
      "cell_type": "markdown",
      "source": [
        "### verificando as perdas em espaço livre:"
      ],
      "metadata": {
        "id": "ZtucC9mCA4zz"
      }
    },
    {
      "cell_type": "markdown",
      "source": [
        "#"
      ],
      "metadata": {
        "id": "fVEMlRPJvUJ9"
      }
    },
    {
      "cell_type": "code",
      "source": [
        "fig, axs = plt.subplots(1, 6,figsize=(30,10))\n",
        "for i, ax in enumerate(axs):\n",
        "  ax.set_title(f'BTS{i+1}')\n",
        "  ax.boxplot(df[f'pathBTS{i+1}'])"
      ],
      "metadata": {
        "colab": {
          "base_uri": "https://localhost:8080/",
          "height": 372
        },
        "id": "ca0aqnj-_IEx",
        "outputId": "655d1923-6d38-443c-8ee4-d698b8162706"
      },
      "execution_count": null,
      "outputs": [
        {
          "output_type": "display_data",
          "data": {
            "text/plain": [
              "<Figure size 2160x720 with 6 Axes>"
            ],
            "image/png": "[encoded data removed]"
          },
          "metadata": {
            "needs_background": "light"
          }
        }
      ]
    },
    {
      "cell_type": "markdown",
      "source": [
        "As antenas 1,4 e 6 parecem mais confiaveis pela menor presença de outliers..."
      ],
      "metadata": {
        "id": "pAsW4n6uvhrV"
      }
    },
    {
      "cell_type": "markdown",
      "source": [
        "# fingerprint"
      ],
      "metadata": {
        "id": "hGMqf2_ExL3v"
      }
    },
    {
      "cell_type": "code",
      "source": [
        "import math\n",
        "\n",
        "def vector_subtract(v,w):\n",
        "  return [v_i - w_i for v_i, w_i in zip(v,w)]\n",
        "\n",
        "def dot(v,w):\n",
        "  return sum(v_i * w_i for v_i, w_i in zip(v,w))\n",
        "\n",
        "def sum_of_squares(v):\n",
        "  return dot(v,v)\n",
        "\n",
        "def magnitude(v):\n",
        "  return math.sqrt(sum_of_squares(v))\n",
        "\n",
        "def distance(v,w):\n",
        "  return magnitude(vector_subtract(v,w))"
      ],
      "metadata": {
        "id": "-2S0fwkvYBTC"
      },
      "execution_count": null,
      "outputs": []
    },
    {
      "cell_type": "code",
      "source": [
        "# recebe um vetor [pathBTS1,\tpathBTS2,\tpathBTS3,\tpathBTS4,\tpathBTS5,\tpathBTS6]\n",
        "# e o df com as colunas [lat,\tlon,\tpathBTS1,\tpathBTS2,\tpathBTS3,\tpathBTS4,\tpathBTS5,\tpathBTS6]\n",
        "def fingerprint(v,df):\n",
        "  df2 = df[['pathBTS1',\t'pathBTS2',\t'pathBTS3',\t'pathBTS4',\t'pathBTS5',\t'pathBTS6']]\n",
        "  #print(df2.head())\n",
        "  \n",
        "  df['distance'] = [distance(list(w),v) for w in df.values.tolist()]\n",
        "  df.sort_values(by='distance',ascending=True)\n",
        "  return df.loc[0, ['lat','lon']]"
      ],
      "metadata": {
        "id": "7xDcijqNyE4A"
      },
      "execution_count": null,
      "outputs": []
    },
    {
      "cell_type": "code",
      "source": [
        "v = [106,\t122,\t114,\t123,\t130,\t111]\n",
        "fingerprint(v,df)"
      ],
      "metadata": {
        "colab": {
          "base_uri": "https://localhost:8080/"
        },
        "id": "QyPQuRck0ouP",
        "outputId": "b8bf5091-be7c-44df-9cdf-6c40d0fbe9b7"
      },
      "execution_count": null,
      "outputs": [
        {
          "output_type": "execute_result",
          "data": {
            "text/plain": [
              "lat    -8.068464\n",
              "lon   -34.897129\n",
              "Name: 0, dtype: float64"
            ]
          },
          "metadata": {},
          "execution_count": 33
        }
      ]
    },
    {
      "cell_type": "markdown",
      "source": [
        "# Treinando um regressor usando sklearn"
      ],
      "metadata": {
        "id": "KjLtl8nIrxlL"
      }
    },
    {
      "cell_type": "markdown",
      "source": [
        "## dividindo em train test split"
      ],
      "metadata": {
        "id": "FwZ_71pbtCDD"
      }
    },
    {
      "cell_type": "code",
      "source": [
        "df.sample(frac=1)\n",
        "x_train = df.loc[:len(df)*0.8,['pathBTS1',\t'pathBTS2',\t'pathBTS3',\t'pathBTS4',\t'pathBTS5',\t'pathBTS6']]\n",
        "Y_train = df.loc[:len(df)*0.8,['lat','lon']]\n",
        "x_test = df.loc[len(df)*0.8:,['pathBTS1',\t'pathBTS2',\t'pathBTS3',\t'pathBTS4',\t'pathBTS5',\t'pathBTS6']]\n",
        "Y_test = df.loc[len(df)*0.8:,['lat','lon']]"
      ],
      "metadata": {
        "id": "7TjHa0PKlXGB"
      },
      "execution_count": null,
      "outputs": []
    },
    {
      "cell_type": "markdown",
      "source": [
        "## Linear Regression"
      ],
      "metadata": {
        "id": "yrcrK9X2tGJ8"
      }
    },
    {
      "cell_type": "code",
      "source": [
        "from sklearn.linear_model import LinearRegression\n",
        "\n",
        "model = LinearRegression()"
      ],
      "metadata": {
        "id": "zqe3grcG5i7I"
      },
      "execution_count": null,
      "outputs": []
    },
    {
      "cell_type": "code",
      "source": [
        "model.fit(x_train,Y_train)"
      ],
      "metadata": {
        "colab": {
          "base_uri": "https://localhost:8080/"
        },
        "id": "Hcy9z6UVeuRj",
        "outputId": "d8e73e1f-a9c4-48a9-a4d3-10a624f9a4f3"
      },
      "execution_count": null,
      "outputs": [
        {
          "output_type": "execute_result",
          "data": {
            "text/plain": [
              "LinearRegression()"
            ]
          },
          "metadata": {},
          "execution_count": 108
        }
      ]
    },
    {
      "cell_type": "code",
      "source": [
        "Y_pred = model.predict(x_test)"
      ],
      "metadata": {
        "id": "RyVSPXeDe71J"
      },
      "execution_count": null,
      "outputs": []
    },
    {
      "cell_type": "code",
      "source": [
        "model.score(x_test, Y_test)"
      ],
      "metadata": {
        "colab": {
          "base_uri": "https://localhost:8080/"
        },
        "id": "kajDTQ0lqDMm",
        "outputId": "2ba0914a-eaae-4149-8ef5-a7438d85af14"
      },
      "execution_count": null,
      "outputs": [
        {
          "output_type": "execute_result",
          "data": {
            "text/plain": [
              "0.4492156981326766"
            ]
          },
          "metadata": {},
          "execution_count": 110
        }
      ]
    },
    {
      "cell_type": "markdown",
      "source": [
        "## KneighborsRegressor"
      ],
      "metadata": {
        "id": "kIAQYQpmtN5r"
      }
    },
    {
      "cell_type": "code",
      "source": [
        "from sklearn.neighbors import KNeighborsRegressor\n",
        "model = KNeighborsRegressor()\n"
      ],
      "metadata": {
        "id": "Se_a5Ji2faGe"
      },
      "execution_count": null,
      "outputs": []
    },
    {
      "cell_type": "code",
      "source": [
        "model.fit(x_train,Y_train)"
      ],
      "metadata": {
        "colab": {
          "base_uri": "https://localhost:8080/"
        },
        "id": "j2R_AAN0gEBu",
        "outputId": "41cede63-f0b9-4390-f9cf-50b13a4cac37"
      },
      "execution_count": null,
      "outputs": [
        {
          "output_type": "execute_result",
          "data": {
            "text/plain": [
              "KNeighborsRegressor()"
            ]
          },
          "metadata": {},
          "execution_count": 112
        }
      ]
    },
    {
      "cell_type": "code",
      "source": [
        "Y_pred = model.predict(x_test)"
      ],
      "metadata": {
        "id": "TeyT7xSWgGR2"
      },
      "execution_count": null,
      "outputs": []
    },
    {
      "cell_type": "code",
      "source": [
        "model.score(x_test, Y_test)"
      ],
      "metadata": {
        "colab": {
          "base_uri": "https://localhost:8080/"
        },
        "id": "5bUTLUmyqZPq",
        "outputId": "37d53d25-3175-4bbd-af91-7f11512d8ea2"
      },
      "execution_count": null,
      "outputs": [
        {
          "output_type": "execute_result",
          "data": {
            "text/plain": [
              "0.9469968392812563"
            ]
          },
          "metadata": {},
          "execution_count": 114
        }
      ]
    },
    {
      "cell_type": "markdown",
      "source": [
        "## DecisionTreeRegressor"
      ],
      "metadata": {
        "id": "jo25Pj18tRf0"
      }
    },
    {
      "cell_type": "code",
      "source": [
        "from sklearn.tree import DecisionTreeRegressor\n"
      ],
      "metadata": {
        "id": "RMWERfPkgGpq"
      },
      "execution_count": null,
      "outputs": []
    },
    {
      "cell_type": "code",
      "source": [
        "model = DecisionTreeRegressor()\n"
      ],
      "metadata": {
        "id": "pnSymgLMgL6w"
      },
      "execution_count": null,
      "outputs": []
    },
    {
      "cell_type": "code",
      "source": [
        "model.fit(x_train,Y_train)"
      ],
      "metadata": {
        "colab": {
          "base_uri": "https://localhost:8080/"
        },
        "id": "tijAdkX6gMRZ",
        "outputId": "eb82984a-7f38-4a08-f1fb-98a762961bde"
      },
      "execution_count": null,
      "outputs": [
        {
          "output_type": "execute_result",
          "data": {
            "text/plain": [
              "DecisionTreeRegressor()"
            ]
          },
          "metadata": {},
          "execution_count": 117
        }
      ]
    },
    {
      "cell_type": "code",
      "source": [
        "Y_pred = model.predict(x_test)"
      ],
      "metadata": {
        "id": "J59Pw3owgNue"
      },
      "execution_count": null,
      "outputs": []
    },
    {
      "cell_type": "code",
      "source": [
        "model.score(x_test, Y_test)"
      ],
      "metadata": {
        "colab": {
          "base_uri": "https://localhost:8080/"
        },
        "id": "QZ-_ZMangOf3",
        "outputId": "ae8e0c75-4b1a-491a-c9fb-dcb4c988a61e"
      },
      "execution_count": null,
      "outputs": [
        {
          "output_type": "execute_result",
          "data": {
            "text/plain": [
              "0.6196285164455926"
            ]
          },
          "metadata": {},
          "execution_count": 119
        }
      ]
    },
    {
      "cell_type": "code",
      "source": [
        ""
      ],
      "metadata": {
        "id": "4ryzvqacqeSl"
      },
      "execution_count": null,
      "outputs": []
    },
    {
      "cell_type": "markdown",
      "source": [
        "SUBMIT"
      ],
      "metadata": {
        "id": "ILs58PBdX4li"
      }
    },
    {
      "cell_type": "code",
      "source": [
        "df = pd.read_csv(\"submit.csv\")"
      ],
      "metadata": {
        "id": "E5V40g9yXgkH"
      },
      "execution_count": null,
      "outputs": []
    },
    {
      "cell_type": "code",
      "source": [
        "df.head()"
      ],
      "metadata": {
        "colab": {
          "base_uri": "https://localhost:8080/",
          "height": 206
        },
        "id": "kVz8LApHY1iK",
        "outputId": "a92ce626-578c-4ac1-a9f2-6ba559be9941"
      },
      "execution_count": null,
      "outputs": [
        {
          "output_type": "execute_result",
          "data": {
            "text/plain": [
              "   pontoId   lat    lon\n",
              "0     1365 -8.51 -34.51\n",
              "1     2381 -8.51 -34.51\n",
              "2     2644 -8.51 -34.51\n",
              "3     2224 -8.51 -34.51\n",
              "4     2568 -8.51 -34.51"
            ],
            "text/html": [
              "\n",
              "  <div id=\"df-be657f9c-0584-4168-bdb0-126fe5d56003\">\n",
              "    <div class=\"colab-df-container\">\n",
              "      <div>\n",
              "<style scoped>\n",
              "    .dataframe tbody tr th:only-of-type {\n",
              "        vertical-align: middle;\n",
              "    }\n",
              "\n",
              "    .dataframe tbody tr th {\n",
              "        vertical-align: top;\n",
              "    }\n",
              "\n",
              "    .dataframe thead th {\n",
              "        text-align: right;\n",
              "    }\n",
              "</style>\n",
              "<table border=\"1\" class=\"dataframe\">\n",
              "  <thead>\n",
              "    <tr style=\"text-align: right;\">\n",
              "      <th></th>\n",
              "      <th>pontoId</th>\n",
              "      <th>lat</th>\n",
              "      <th>lon</th>\n",
              "    </tr>\n",
              "  </thead>\n",
              "  <tbody>\n",
              "    <tr>\n",
              "      <th>0</th>\n",
              "      <td>1365</td>\n",
              "      <td>-8.51</td>\n",
              "      <td>-34.51</td>\n",
              "    </tr>\n",
              "    <tr>\n",
              "      <th>1</th>\n",
              "      <td>2381</td>\n",
              "      <td>-8.51</td>\n",
              "      <td>-34.51</td>\n",
              "    </tr>\n",
              "    <tr>\n",
              "      <th>2</th>\n",
              "      <td>2644</td>\n",
              "      <td>-8.51</td>\n",
              "      <td>-34.51</td>\n",
              "    </tr>\n",
              "    <tr>\n",
              "      <th>3</th>\n",
              "      <td>2224</td>\n",
              "      <td>-8.51</td>\n",
              "      <td>-34.51</td>\n",
              "    </tr>\n",
              "    <tr>\n",
              "      <th>4</th>\n",
              "      <td>2568</td>\n",
              "      <td>-8.51</td>\n",
              "      <td>-34.51</td>\n",
              "    </tr>\n",
              "  </tbody>\n",
              "</table>\n",
              "</div>\n",
              "      <button class=\"colab-df-convert\" onclick=\"convertToInteractive('df-be657f9c-0584-4168-bdb0-126fe5d56003')\"\n",
              "              title=\"Convert this dataframe to an interactive table.\"\n",
              "              style=\"display:none;\">\n",
              "        \n",
              "  <svg xmlns=\"http://www.w3.org/2000/svg\" height=\"24px\"viewBox=\"0 0 24 24\"\n",
              "       width=\"24px\">\n",
              "    <path d=\"M0 0h24v24H0V0z\" fill=\"none\"/>\n",
              "    <path d=\"M18.56 5.44l.94 2.06.94-2.06 2.06-.94-2.06-.94-.94-2.06-.94 2.06-2.06.94zm-11 1L8.5 8.5l.94-2.06 2.06-.94-2.06-.94L8.5 2.5l-.94 2.06-2.06.94zm10 10l.94 2.06.94-2.06 2.06-.94-2.06-.94-.94-2.06-.94 2.06-2.06.94z\"/><path d=\"M17.41 7.96l-1.37-1.37c-.4-.4-.92-.59-1.43-.59-.52 0-1.04.2-1.43.59L10.3 9.45l-7.72 7.72c-.78.78-.78 2.05 0 2.83L4 21.41c.39.39.9.59 1.41.59.51 0 1.02-.2 1.41-.59l7.78-7.78 2.81-2.81c.8-.78.8-2.07 0-2.86zM5.41 20L4 18.59l7.72-7.72 1.47 1.35L5.41 20z\"/>\n",
              "  </svg>\n",
              "      </button>\n",
              "      \n",
              "  <style>\n",
              "    .colab-df-container {\n",
              "      display:flex;\n",
              "      flex-wrap:wrap;\n",
              "      gap: 12px;\n",
              "    }\n",
              "\n",
              "    .colab-df-convert {\n",
              "      background-color: #E8F0FE;\n",
              "      border: none;\n",
              "      border-radius: 50%;\n",
              "      cursor: pointer;\n",
              "      display: none;\n",
              "      fill: #1967D2;\n",
              "      height: 32px;\n",
              "      padding: 0 0 0 0;\n",
              "      width: 32px;\n",
              "    }\n",
              "\n",
              "    .colab-df-convert:hover {\n",
              "      background-color: #E2EBFA;\n",
              "      box-shadow: 0px 1px 2px rgba(60, 64, 67, 0.3), 0px 1px 3px 1px rgba(60, 64, 67, 0.15);\n",
              "      fill: #174EA6;\n",
              "    }\n",
              "\n",
              "    [theme=dark] .colab-df-convert {\n",
              "      background-color: #3B4455;\n",
              "      fill: #D2E3FC;\n",
              "    }\n",
              "\n",
              "    [theme=dark] .colab-df-convert:hover {\n",
              "      background-color: #434B5C;\n",
              "      box-shadow: 0px 1px 3px 1px rgba(0, 0, 0, 0.15);\n",
              "      filter: drop-shadow(0px 1px 2px rgba(0, 0, 0, 0.3));\n",
              "      fill: #FFFFFF;\n",
              "    }\n",
              "  </style>\n",
              "\n",
              "      <script>\n",
              "        const buttonEl =\n",
              "          document.querySelector('#df-be657f9c-0584-4168-bdb0-126fe5d56003 button.colab-df-convert');\n",
              "        buttonEl.style.display =\n",
              "          google.colab.kernel.accessAllowed ? 'block' : 'none';\n",
              "\n",
              "        async function convertToInteractive(key) {\n",
              "          const element = document.querySelector('#df-be657f9c-0584-4168-bdb0-126fe5d56003');\n",
              "          const dataTable =\n",
              "            await google.colab.kernel.invokeFunction('convertToInteractive',\n",
              "                                                     [key], {});\n",
              "          if (!dataTable) return;\n",
              "\n",
              "          const docLinkHtml = 'Like what you see? Visit the ' +\n",
              "            '<a target=\"_blank\" href=https://colab.research.google.com/notebooks/data_table.ipynb>data table notebook</a>'\n",
              "            + ' to learn more about interactive tables.';\n",
              "          element.innerHTML = '';\n",
              "          dataTable['output_type'] = 'display_data';\n",
              "          await google.colab.output.renderOutput(dataTable, element);\n",
              "          const docLink = document.createElement('div');\n",
              "          docLink.innerHTML = docLinkHtml;\n",
              "          element.appendChild(docLink);\n",
              "        }\n",
              "      </script>\n",
              "    </div>\n",
              "  </div>\n",
              "  "
            ]
          },
          "metadata": {},
          "execution_count": 17
        }
      ]
    },
    {
      "cell_type": "code",
      "source": [
        "df.describe(include=\"all\")"
      ],
      "metadata": {
        "colab": {
          "base_uri": "https://localhost:8080/",
          "height": 300
        },
        "id": "nndhh4ybX9Px",
        "outputId": "3c933b4b-93e9-43b8-8ad9-bd3d18ff028b"
      },
      "execution_count": null,
      "outputs": [
        {
          "output_type": "execute_result",
          "data": {
            "text/plain": [
              "           pontoId           lat           lon\n",
              "count   200.000000  2.000000e+02  2.000000e+02\n",
              "mean   1415.625000 -8.510000e+00 -3.451000e+01\n",
              "std     884.330064  7.123258e-15  1.495884e-13\n",
              "min      17.000000 -8.510000e+00 -3.451000e+01\n",
              "25%     624.750000 -8.510000e+00 -3.451000e+01\n",
              "50%    1381.000000 -8.510000e+00 -3.451000e+01\n",
              "75%    2215.250000 -8.510000e+00 -3.451000e+01\n",
              "max    2954.000000 -8.510000e+00 -3.451000e+01"
            ],
            "text/html": [
              "\n",
              "  <div id=\"df-bd48dd10-08e2-4f9a-83e0-dccd5bb230b1\">\n",
              "    <div class=\"colab-df-container\">\n",
              "      <div>\n",
              "<style scoped>\n",
              "    .dataframe tbody tr th:only-of-type {\n",
              "        vertical-align: middle;\n",
              "    }\n",
              "\n",
              "    .dataframe tbody tr th {\n",
              "        vertical-align: top;\n",
              "    }\n",
              "\n",
              "    .dataframe thead th {\n",
              "        text-align: right;\n",
              "    }\n",
              "</style>\n",
              "<table border=\"1\" class=\"dataframe\">\n",
              "  <thead>\n",
              "    <tr style=\"text-align: right;\">\n",
              "      <th></th>\n",
              "      <th>pontoId</th>\n",
              "      <th>lat</th>\n",
              "      <th>lon</th>\n",
              "    </tr>\n",
              "  </thead>\n",
              "  <tbody>\n",
              "    <tr>\n",
              "      <th>count</th>\n",
              "      <td>200.000000</td>\n",
              "      <td>2.000000e+02</td>\n",
              "      <td>2.000000e+02</td>\n",
              "    </tr>\n",
              "    <tr>\n",
              "      <th>mean</th>\n",
              "      <td>1415.625000</td>\n",
              "      <td>-8.510000e+00</td>\n",
              "      <td>-3.451000e+01</td>\n",
              "    </tr>\n",
              "    <tr>\n",
              "      <th>std</th>\n",
              "      <td>884.330064</td>\n",
              "      <td>7.123258e-15</td>\n",
              "      <td>1.495884e-13</td>\n",
              "    </tr>\n",
              "    <tr>\n",
              "      <th>min</th>\n",
              "      <td>17.000000</td>\n",
              "      <td>-8.510000e+00</td>\n",
              "      <td>-3.451000e+01</td>\n",
              "    </tr>\n",
              "    <tr>\n",
              "      <th>25%</th>\n",
              "      <td>624.750000</td>\n",
              "      <td>-8.510000e+00</td>\n",
              "      <td>-3.451000e+01</td>\n",
              "    </tr>\n",
              "    <tr>\n",
              "      <th>50%</th>\n",
              "      <td>1381.000000</td>\n",
              "      <td>-8.510000e+00</td>\n",
              "      <td>-3.451000e+01</td>\n",
              "    </tr>\n",
              "    <tr>\n",
              "      <th>75%</th>\n",
              "      <td>2215.250000</td>\n",
              "      <td>-8.510000e+00</td>\n",
              "      <td>-3.451000e+01</td>\n",
              "    </tr>\n",
              "    <tr>\n",
              "      <th>max</th>\n",
              "      <td>2954.000000</td>\n",
              "      <td>-8.510000e+00</td>\n",
              "      <td>-3.451000e+01</td>\n",
              "    </tr>\n",
              "  </tbody>\n",
              "</table>\n",
              "</div>\n",
              "      <button class=\"colab-df-convert\" onclick=\"convertToInteractive('df-bd48dd10-08e2-4f9a-83e0-dccd5bb230b1')\"\n",
              "              title=\"Convert this dataframe to an interactive table.\"\n",
              "              style=\"display:none;\">\n",
              "        \n",
              "  <svg xmlns=\"http://www.w3.org/2000/svg\" height=\"24px\"viewBox=\"0 0 24 24\"\n",
              "       width=\"24px\">\n",
              "    <path d=\"M0 0h24v24H0V0z\" fill=\"none\"/>\n",
              "    <path d=\"M18.56 5.44l.94 2.06.94-2.06 2.06-.94-2.06-.94-.94-2.06-.94 2.06-2.06.94zm-11 1L8.5 8.5l.94-2.06 2.06-.94-2.06-.94L8.5 2.5l-.94 2.06-2.06.94zm10 10l.94 2.06.94-2.06 2.06-.94-2.06-.94-.94-2.06-.94 2.06-2.06.94z\"/><path d=\"M17.41 7.96l-1.37-1.37c-.4-.4-.92-.59-1.43-.59-.52 0-1.04.2-1.43.59L10.3 9.45l-7.72 7.72c-.78.78-.78 2.05 0 2.83L4 21.41c.39.39.9.59 1.41.59.51 0 1.02-.2 1.41-.59l7.78-7.78 2.81-2.81c.8-.78.8-2.07 0-2.86zM5.41 20L4 18.59l7.72-7.72 1.47 1.35L5.41 20z\"/>\n",
              "  </svg>\n",
              "      </button>\n",
              "      \n",
              "  <style>\n",
              "    .colab-df-container {\n",
              "      display:flex;\n",
              "      flex-wrap:wrap;\n",
              "      gap: 12px;\n",
              "    }\n",
              "\n",
              "    .colab-df-convert {\n",
              "      background-color: #E8F0FE;\n",
              "      border: none;\n",
              "      border-radius: 50%;\n",
              "      cursor: pointer;\n",
              "      display: none;\n",
              "      fill: #1967D2;\n",
              "      height: 32px;\n",
              "      padding: 0 0 0 0;\n",
              "      width: 32px;\n",
              "    }\n",
              "\n",
              "    .colab-df-convert:hover {\n",
              "      background-color: #E2EBFA;\n",
              "      box-shadow: 0px 1px 2px rgba(60, 64, 67, 0.3), 0px 1px 3px 1px rgba(60, 64, 67, 0.15);\n",
              "      fill: #174EA6;\n",
              "    }\n",
              "\n",
              "    [theme=dark] .colab-df-convert {\n",
              "      background-color: #3B4455;\n",
              "      fill: #D2E3FC;\n",
              "    }\n",
              "\n",
              "    [theme=dark] .colab-df-convert:hover {\n",
              "      background-color: #434B5C;\n",
              "      box-shadow: 0px 1px 3px 1px rgba(0, 0, 0, 0.15);\n",
              "      filter: drop-shadow(0px 1px 2px rgba(0, 0, 0, 0.3));\n",
              "      fill: #FFFFFF;\n",
              "    }\n",
              "  </style>\n",
              "\n",
              "      <script>\n",
              "        const buttonEl =\n",
              "          document.querySelector('#df-bd48dd10-08e2-4f9a-83e0-dccd5bb230b1 button.colab-df-convert');\n",
              "        buttonEl.style.display =\n",
              "          google.colab.kernel.accessAllowed ? 'block' : 'none';\n",
              "\n",
              "        async function convertToInteractive(key) {\n",
              "          const element = document.querySelector('#df-bd48dd10-08e2-4f9a-83e0-dccd5bb230b1');\n",
              "          const dataTable =\n",
              "            await google.colab.kernel.invokeFunction('convertToInteractive',\n",
              "                                                     [key], {});\n",
              "          if (!dataTable) return;\n",
              "\n",
              "          const docLinkHtml = 'Like what you see? Visit the ' +\n",
              "            '<a target=\"_blank\" href=https://colab.research.google.com/notebooks/data_table.ipynb>data table notebook</a>'\n",
              "            + ' to learn more about interactive tables.';\n",
              "          element.innerHTML = '';\n",
              "          dataTable['output_type'] = 'display_data';\n",
              "          await google.colab.output.renderOutput(dataTable, element);\n",
              "          const docLink = document.createElement('div');\n",
              "          docLink.innerHTML = docLinkHtml;\n",
              "          element.appendChild(docLink);\n",
              "        }\n",
              "      </script>\n",
              "    </div>\n",
              "  </div>\n",
              "  "
            ]
          },
          "metadata": {},
          "execution_count": 18
        }
      ]
    },
    {
      "cell_type": "code",
      "source": [
        "df.info()"
      ],
      "metadata": {
        "colab": {
          "base_uri": "https://localhost:8080/"
        },
        "id": "8rPAn-6YYAl8",
        "outputId": "05034420-bc86-4b61-e410-28db447b36f7"
      },
      "execution_count": null,
      "outputs": [
        {
          "output_type": "stream",
          "name": "stdout",
          "text": [
            "<class 'pandas.core.frame.DataFrame'>\n",
            "RangeIndex: 200 entries, 0 to 199\n",
            "Data columns (total 3 columns):\n",
            " #   Column   Non-Null Count  Dtype  \n",
            "---  ------   --------------  -----  \n",
            " 0   pontoId  200 non-null    int64  \n",
            " 1   lat      200 non-null    float64\n",
            " 2   lon      200 non-null    float64\n",
            "dtypes: float64(2), int64(1)\n",
            "memory usage: 4.8 KB\n"
          ]
        }
      ]
    },
    {
      "cell_type": "markdown",
      "source": [
        "DADOS BTS"
      ],
      "metadata": {
        "id": "nDMk1lpEXVCD"
      }
    },
    {
      "cell_type": "code",
      "source": [
        "df = pd.read_csv(\"Dados_BTSs.csv\")"
      ],
      "metadata": {
        "id": "tYwIb_hqXXYP"
      },
      "execution_count": null,
      "outputs": []
    },
    {
      "cell_type": "code",
      "source": [
        "df"
      ],
      "metadata": {
        "colab": {
          "base_uri": "https://localhost:8080/",
          "height": 237
        },
        "id": "5J6lovuVYQdZ",
        "outputId": "4c77be39-21e1-4f6d-d258-f5ef6dba4bf6"
      },
      "execution_count": null,
      "outputs": [
        {
          "output_type": "execute_result",
          "data": {
            "text/plain": [
              "    name       lat        lon     band  bcch   eirp    bts\n",
              "0  136_2 -8.068361 -34.892722  GSM1800   662  55.59  BTS-1\n",
              "1  137_3 -8.075917 -34.894611  GSM1800   806  55.59  BTS-2\n",
              "2  197_1 -8.076361 -34.908000  GSM1800   666  55.59  BTS-3\n",
              "3  137_1 -8.075917 -34.894611  GSM1800   690  55.59  BTS-4\n",
              "4  138_2 -8.066000 -34.889444  GSM1800   673  55.59  BTS-5\n",
              "5  245_2 -8.064583 -34.894583  GSM1800   682  55.59  BTS-6"
            ],
            "text/html": [
              "\n",
              "  <div id=\"df-8a59eb17-0830-42a2-bfa2-b958a23fcb23\">\n",
              "    <div class=\"colab-df-container\">\n",
              "      <div>\n",
              "<style scoped>\n",
              "    .dataframe tbody tr th:only-of-type {\n",
              "        vertical-align: middle;\n",
              "    }\n",
              "\n",
              "    .dataframe tbody tr th {\n",
              "        vertical-align: top;\n",
              "    }\n",
              "\n",
              "    .dataframe thead th {\n",
              "        text-align: right;\n",
              "    }\n",
              "</style>\n",
              "<table border=\"1\" class=\"dataframe\">\n",
              "  <thead>\n",
              "    <tr style=\"text-align: right;\">\n",
              "      <th></th>\n",
              "      <th>name</th>\n",
              "      <th>lat</th>\n",
              "      <th>lon</th>\n",
              "      <th>band</th>\n",
              "      <th>bcch</th>\n",
              "      <th>eirp</th>\n",
              "      <th>bts</th>\n",
              "    </tr>\n",
              "  </thead>\n",
              "  <tbody>\n",
              "    <tr>\n",
              "      <th>0</th>\n",
              "      <td>136_2</td>\n",
              "      <td>-8.068361</td>\n",
              "      <td>-34.892722</td>\n",
              "      <td>GSM1800</td>\n",
              "      <td>662</td>\n",
              "      <td>55.59</td>\n",
              "      <td>BTS-1</td>\n",
              "    </tr>\n",
              "    <tr>\n",
              "      <th>1</th>\n",
              "      <td>137_3</td>\n",
              "      <td>-8.075917</td>\n",
              "      <td>-34.894611</td>\n",
              "      <td>GSM1800</td>\n",
              "      <td>806</td>\n",
              "      <td>55.59</td>\n",
              "      <td>BTS-2</td>\n",
              "    </tr>\n",
              "    <tr>\n",
              "      <th>2</th>\n",
              "      <td>197_1</td>\n",
              "      <td>-8.076361</td>\n",
              "      <td>-34.908000</td>\n",
              "      <td>GSM1800</td>\n",
              "      <td>666</td>\n",
              "      <td>55.59</td>\n",
              "      <td>BTS-3</td>\n",
              "    </tr>\n",
              "    <tr>\n",
              "      <th>3</th>\n",
              "      <td>137_1</td>\n",
              "      <td>-8.075917</td>\n",
              "      <td>-34.894611</td>\n",
              "      <td>GSM1800</td>\n",
              "      <td>690</td>\n",
              "      <td>55.59</td>\n",
              "      <td>BTS-4</td>\n",
              "    </tr>\n",
              "    <tr>\n",
              "      <th>4</th>\n",
              "      <td>138_2</td>\n",
              "      <td>-8.066000</td>\n",
              "      <td>-34.889444</td>\n",
              "      <td>GSM1800</td>\n",
              "      <td>673</td>\n",
              "      <td>55.59</td>\n",
              "      <td>BTS-5</td>\n",
              "    </tr>\n",
              "    <tr>\n",
              "      <th>5</th>\n",
              "      <td>245_2</td>\n",
              "      <td>-8.064583</td>\n",
              "      <td>-34.894583</td>\n",
              "      <td>GSM1800</td>\n",
              "      <td>682</td>\n",
              "      <td>55.59</td>\n",
              "      <td>BTS-6</td>\n",
              "    </tr>\n",
              "  </tbody>\n",
              "</table>\n",
              "</div>\n",
              "      <button class=\"colab-df-convert\" onclick=\"convertToInteractive('df-8a59eb17-0830-42a2-bfa2-b958a23fcb23')\"\n",
              "              title=\"Convert this dataframe to an interactive table.\"\n",
              "              style=\"display:none;\">\n",
              "        \n",
              "  <svg xmlns=\"http://www.w3.org/2000/svg\" height=\"24px\"viewBox=\"0 0 24 24\"\n",
              "       width=\"24px\">\n",
              "    <path d=\"M0 0h24v24H0V0z\" fill=\"none\"/>\n",
              "    <path d=\"M18.56 5.44l.94 2.06.94-2.06 2.06-.94-2.06-.94-.94-2.06-.94 2.06-2.06.94zm-11 1L8.5 8.5l.94-2.06 2.06-.94-2.06-.94L8.5 2.5l-.94 2.06-2.06.94zm10 10l.94 2.06.94-2.06 2.06-.94-2.06-.94-.94-2.06-.94 2.06-2.06.94z\"/><path d=\"M17.41 7.96l-1.37-1.37c-.4-.4-.92-.59-1.43-.59-.52 0-1.04.2-1.43.59L10.3 9.45l-7.72 7.72c-.78.78-.78 2.05 0 2.83L4 21.41c.39.39.9.59 1.41.59.51 0 1.02-.2 1.41-.59l7.78-7.78 2.81-2.81c.8-.78.8-2.07 0-2.86zM5.41 20L4 18.59l7.72-7.72 1.47 1.35L5.41 20z\"/>\n",
              "  </svg>\n",
              "      </button>\n",
              "      \n",
              "  <style>\n",
              "    .colab-df-container {\n",
              "      display:flex;\n",
              "      flex-wrap:wrap;\n",
              "      gap: 12px;\n",
              "    }\n",
              "\n",
              "    .colab-df-convert {\n",
              "      background-color: #E8F0FE;\n",
              "      border: none;\n",
              "      border-radius: 50%;\n",
              "      cursor: pointer;\n",
              "      display: none;\n",
              "      fill: #1967D2;\n",
              "      height: 32px;\n",
              "      padding: 0 0 0 0;\n",
              "      width: 32px;\n",
              "    }\n",
              "\n",
              "    .colab-df-convert:hover {\n",
              "      background-color: #E2EBFA;\n",
              "      box-shadow: 0px 1px 2px rgba(60, 64, 67, 0.3), 0px 1px 3px 1px rgba(60, 64, 67, 0.15);\n",
              "      fill: #174EA6;\n",
              "    }\n",
              "\n",
              "    [theme=dark] .colab-df-convert {\n",
              "      background-color: #3B4455;\n",
              "      fill: #D2E3FC;\n",
              "    }\n",
              "\n",
              "    [theme=dark] .colab-df-convert:hover {\n",
              "      background-color: #434B5C;\n",
              "      box-shadow: 0px 1px 3px 1px rgba(0, 0, 0, 0.15);\n",
              "      filter: drop-shadow(0px 1px 2px rgba(0, 0, 0, 0.3));\n",
              "      fill: #FFFFFF;\n",
              "    }\n",
              "  </style>\n",
              "\n",
              "      <script>\n",
              "        const buttonEl =\n",
              "          document.querySelector('#df-8a59eb17-0830-42a2-bfa2-b958a23fcb23 button.colab-df-convert');\n",
              "        buttonEl.style.display =\n",
              "          google.colab.kernel.accessAllowed ? 'block' : 'none';\n",
              "\n",
              "        async function convertToInteractive(key) {\n",
              "          const element = document.querySelector('#df-8a59eb17-0830-42a2-bfa2-b958a23fcb23');\n",
              "          const dataTable =\n",
              "            await google.colab.kernel.invokeFunction('convertToInteractive',\n",
              "                                                     [key], {});\n",
              "          if (!dataTable) return;\n",
              "\n",
              "          const docLinkHtml = 'Like what you see? Visit the ' +\n",
              "            '<a target=\"_blank\" href=https://colab.research.google.com/notebooks/data_table.ipynb>data table notebook</a>'\n",
              "            + ' to learn more about interactive tables.';\n",
              "          element.innerHTML = '';\n",
              "          dataTable['output_type'] = 'display_data';\n",
              "          await google.colab.output.renderOutput(dataTable, element);\n",
              "          const docLink = document.createElement('div');\n",
              "          docLink.innerHTML = docLinkHtml;\n",
              "          element.appendChild(docLink);\n",
              "        }\n",
              "      </script>\n",
              "    </div>\n",
              "  </div>\n",
              "  "
            ]
          },
          "metadata": {},
          "execution_count": 13
        }
      ]
    },
    {
      "cell_type": "code",
      "source": [
        "df.describe(include=\"all\")"
      ],
      "metadata": {
        "colab": {
          "base_uri": "https://localhost:8080/",
          "height": 394
        },
        "id": "Kzl6fmgCXbls",
        "outputId": "4c3c493c-211d-4554-e87c-62fb4dc133d8"
      },
      "execution_count": null,
      "outputs": [
        {
          "output_type": "execute_result",
          "data": {
            "text/plain": [
              "         name       lat        lon     band        bcch          eirp    bts\n",
              "count       6  6.000000   6.000000        6    6.000000  6.000000e+00      6\n",
              "unique      6       NaN        NaN        1         NaN           NaN      6\n",
              "top     136_2       NaN        NaN  GSM1800         NaN           NaN  BTS-1\n",
              "freq        1       NaN        NaN        6         NaN           NaN      1\n",
              "mean      NaN -8.071190 -34.895662      NaN  696.500000  5.559000e+01    NaN\n",
              "std       NaN  0.005477   0.006370      NaN   54.617763  7.783606e-15    NaN\n",
              "min       NaN -8.076361 -34.908000      NaN  662.000000  5.559000e+01    NaN\n",
              "25%       NaN -8.075917 -34.894611      NaN  667.750000  5.559000e+01    NaN\n",
              "50%       NaN -8.072139 -34.894597      NaN  677.500000  5.559000e+01    NaN\n",
              "75%       NaN -8.066590 -34.893187      NaN  688.000000  5.559000e+01    NaN\n",
              "max       NaN -8.064583 -34.889444      NaN  806.000000  5.559000e+01    NaN"
            ],
            "text/html": [
              "\n",
              "  <div id=\"df-5c1be0c3-abc3-455f-af84-b1b1cee7fda7\">\n",
              "    <div class=\"colab-df-container\">\n",
              "      <div>\n",
              "<style scoped>\n",
              "    .dataframe tbody tr th:only-of-type {\n",
              "        vertical-align: middle;\n",
              "    }\n",
              "\n",
              "    .dataframe tbody tr th {\n",
              "        vertical-align: top;\n",
              "    }\n",
              "\n",
              "    .dataframe thead th {\n",
              "        text-align: right;\n",
              "    }\n",
              "</style>\n",
              "<table border=\"1\" class=\"dataframe\">\n",
              "  <thead>\n",
              "    <tr style=\"text-align: right;\">\n",
              "      <th></th>\n",
              "      <th>name</th>\n",
              "      <th>lat</th>\n",
              "      <th>lon</th>\n",
              "      <th>band</th>\n",
              "      <th>bcch</th>\n",
              "      <th>eirp</th>\n",
              "      <th>bts</th>\n",
              "    </tr>\n",
              "  </thead>\n",
              "  <tbody>\n",
              "    <tr>\n",
              "      <th>count</th>\n",
              "      <td>6</td>\n",
              "      <td>6.000000</td>\n",
              "      <td>6.000000</td>\n",
              "      <td>6</td>\n",
              "      <td>6.000000</td>\n",
              "      <td>6.000000e+00</td>\n",
              "      <td>6</td>\n",
              "    </tr>\n",
              "    <tr>\n",
              "      <th>unique</th>\n",
              "      <td>6</td>\n",
              "      <td>NaN</td>\n",
              "      <td>NaN</td>\n",
              "      <td>1</td>\n",
              "      <td>NaN</td>\n",
              "      <td>NaN</td>\n",
              "      <td>6</td>\n",
              "    </tr>\n",
              "    <tr>\n",
              "      <th>top</th>\n",
              "      <td>136_2</td>\n",
              "      <td>NaN</td>\n",
              "      <td>NaN</td>\n",
              "      <td>GSM1800</td>\n",
              "      <td>NaN</td>\n",
              "      <td>NaN</td>\n",
              "      <td>BTS-1</td>\n",
              "    </tr>\n",
              "    <tr>\n",
              "      <th>freq</th>\n",
              "      <td>1</td>\n",
              "      <td>NaN</td>\n",
              "      <td>NaN</td>\n",
              "      <td>6</td>\n",
              "      <td>NaN</td>\n",
              "      <td>NaN</td>\n",
              "      <td>1</td>\n",
              "    </tr>\n",
              "    <tr>\n",
              "      <th>mean</th>\n",
              "      <td>NaN</td>\n",
              "      <td>-8.071190</td>\n",
              "      <td>-34.895662</td>\n",
              "      <td>NaN</td>\n",
              "      <td>696.500000</td>\n",
              "      <td>5.559000e+01</td>\n",
              "      <td>NaN</td>\n",
              "    </tr>\n",
              "    <tr>\n",
              "      <th>std</th>\n",
              "      <td>NaN</td>\n",
              "      <td>0.005477</td>\n",
              "      <td>0.006370</td>\n",
              "      <td>NaN</td>\n",
              "      <td>54.617763</td>\n",
              "      <td>7.783606e-15</td>\n",
              "      <td>NaN</td>\n",
              "    </tr>\n",
              "    <tr>\n",
              "      <th>min</th>\n",
              "      <td>NaN</td>\n",
              "      <td>-8.076361</td>\n",
              "      <td>-34.908000</td>\n",
              "      <td>NaN</td>\n",
              "      <td>662.000000</td>\n",
              "      <td>5.559000e+01</td>\n",
              "      <td>NaN</td>\n",
              "    </tr>\n",
              "    <tr>\n",
              "      <th>25%</th>\n",
              "      <td>NaN</td>\n",
              "      <td>-8.075917</td>\n",
              "      <td>-34.894611</td>\n",
              "      <td>NaN</td>\n",
              "      <td>667.750000</td>\n",
              "      <td>5.559000e+01</td>\n",
              "      <td>NaN</td>\n",
              "    </tr>\n",
              "    <tr>\n",
              "      <th>50%</th>\n",
              "      <td>NaN</td>\n",
              "      <td>-8.072139</td>\n",
              "      <td>-34.894597</td>\n",
              "      <td>NaN</td>\n",
              "      <td>677.500000</td>\n",
              "      <td>5.559000e+01</td>\n",
              "      <td>NaN</td>\n",
              "    </tr>\n",
              "    <tr>\n",
              "      <th>75%</th>\n",
              "      <td>NaN</td>\n",
              "      <td>-8.066590</td>\n",
              "      <td>-34.893187</td>\n",
              "      <td>NaN</td>\n",
              "      <td>688.000000</td>\n",
              "      <td>5.559000e+01</td>\n",
              "      <td>NaN</td>\n",
              "    </tr>\n",
              "    <tr>\n",
              "      <th>max</th>\n",
              "      <td>NaN</td>\n",
              "      <td>-8.064583</td>\n",
              "      <td>-34.889444</td>\n",
              "      <td>NaN</td>\n",
              "      <td>806.000000</td>\n",
              "      <td>5.559000e+01</td>\n",
              "      <td>NaN</td>\n",
              "    </tr>\n",
              "  </tbody>\n",
              "</table>\n",
              "</div>\n",
              "      <button class=\"colab-df-convert\" onclick=\"convertToInteractive('df-5c1be0c3-abc3-455f-af84-b1b1cee7fda7')\"\n",
              "              title=\"Convert this dataframe to an interactive table.\"\n",
              "              style=\"display:none;\">\n",
              "        \n",
              "  <svg xmlns=\"http://www.w3.org/2000/svg\" height=\"24px\"viewBox=\"0 0 24 24\"\n",
              "       width=\"24px\">\n",
              "    <path d=\"M0 0h24v24H0V0z\" fill=\"none\"/>\n",
              "    <path d=\"M18.56 5.44l.94 2.06.94-2.06 2.06-.94-2.06-.94-.94-2.06-.94 2.06-2.06.94zm-11 1L8.5 8.5l.94-2.06 2.06-.94-2.06-.94L8.5 2.5l-.94 2.06-2.06.94zm10 10l.94 2.06.94-2.06 2.06-.94-2.06-.94-.94-2.06-.94 2.06-2.06.94z\"/><path d=\"M17.41 7.96l-1.37-1.37c-.4-.4-.92-.59-1.43-.59-.52 0-1.04.2-1.43.59L10.3 9.45l-7.72 7.72c-.78.78-.78 2.05 0 2.83L4 21.41c.39.39.9.59 1.41.59.51 0 1.02-.2 1.41-.59l7.78-7.78 2.81-2.81c.8-.78.8-2.07 0-2.86zM5.41 20L4 18.59l7.72-7.72 1.47 1.35L5.41 20z\"/>\n",
              "  </svg>\n",
              "      </button>\n",
              "      \n",
              "  <style>\n",
              "    .colab-df-container {\n",
              "      display:flex;\n",
              "      flex-wrap:wrap;\n",
              "      gap: 12px;\n",
              "    }\n",
              "\n",
              "    .colab-df-convert {\n",
              "      background-color: #E8F0FE;\n",
              "      border: none;\n",
              "      border-radius: 50%;\n",
              "      cursor: pointer;\n",
              "      display: none;\n",
              "      fill: #1967D2;\n",
              "      height: 32px;\n",
              "      padding: 0 0 0 0;\n",
              "      width: 32px;\n",
              "    }\n",
              "\n",
              "    .colab-df-convert:hover {\n",
              "      background-color: #E2EBFA;\n",
              "      box-shadow: 0px 1px 2px rgba(60, 64, 67, 0.3), 0px 1px 3px 1px rgba(60, 64, 67, 0.15);\n",
              "      fill: #174EA6;\n",
              "    }\n",
              "\n",
              "    [theme=dark] .colab-df-convert {\n",
              "      background-color: #3B4455;\n",
              "      fill: #D2E3FC;\n",
              "    }\n",
              "\n",
              "    [theme=dark] .colab-df-convert:hover {\n",
              "      background-color: #434B5C;\n",
              "      box-shadow: 0px 1px 3px 1px rgba(0, 0, 0, 0.15);\n",
              "      filter: drop-shadow(0px 1px 2px rgba(0, 0, 0, 0.3));\n",
              "      fill: #FFFFFF;\n",
              "    }\n",
              "  </style>\n",
              "\n",
              "      <script>\n",
              "        const buttonEl =\n",
              "          document.querySelector('#df-5c1be0c3-abc3-455f-af84-b1b1cee7fda7 button.colab-df-convert');\n",
              "        buttonEl.style.display =\n",
              "          google.colab.kernel.accessAllowed ? 'block' : 'none';\n",
              "\n",
              "        async function convertToInteractive(key) {\n",
              "          const element = document.querySelector('#df-5c1be0c3-abc3-455f-af84-b1b1cee7fda7');\n",
              "          const dataTable =\n",
              "            await google.colab.kernel.invokeFunction('convertToInteractive',\n",
              "                                                     [key], {});\n",
              "          if (!dataTable) return;\n",
              "\n",
              "          const docLinkHtml = 'Like what you see? Visit the ' +\n",
              "            '<a target=\"_blank\" href=https://colab.research.google.com/notebooks/data_table.ipynb>data table notebook</a>'\n",
              "            + ' to learn more about interactive tables.';\n",
              "          element.innerHTML = '';\n",
              "          dataTable['output_type'] = 'display_data';\n",
              "          await google.colab.output.renderOutput(dataTable, element);\n",
              "          const docLink = document.createElement('div');\n",
              "          docLink.innerHTML = docLinkHtml;\n",
              "          element.appendChild(docLink);\n",
              "        }\n",
              "      </script>\n",
              "    </div>\n",
              "  </div>\n",
              "  "
            ]
          },
          "metadata": {},
          "execution_count": 14
        }
      ]
    },
    {
      "cell_type": "code",
      "source": [
        "df.info()"
      ],
      "metadata": {
        "colab": {
          "base_uri": "https://localhost:8080/"
        },
        "id": "9TjWTABQXeZB",
        "outputId": "c468aacc-6f10-4756-89aa-a18d98208ccf"
      },
      "execution_count": null,
      "outputs": [
        {
          "output_type": "stream",
          "name": "stdout",
          "text": [
            "<class 'pandas.core.frame.DataFrame'>\n",
            "RangeIndex: 6 entries, 0 to 5\n",
            "Data columns (total 7 columns):\n",
            " #   Column  Non-Null Count  Dtype  \n",
            "---  ------  --------------  -----  \n",
            " 0   name    6 non-null      object \n",
            " 1   lat     6 non-null      float64\n",
            " 2   lon     6 non-null      float64\n",
            " 3   band    6 non-null      object \n",
            " 4   bcch    6 non-null      int64  \n",
            " 5   eirp    6 non-null      float64\n",
            " 6   bts     6 non-null      object \n",
            "dtypes: float64(3), int64(1), object(3)\n",
            "memory usage: 464.0+ bytes\n"
          ]
        }
      ]
    }
  ]
}