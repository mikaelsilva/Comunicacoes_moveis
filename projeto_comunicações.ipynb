{
  "nbformat": 4,
  "nbformat_minor": 0,
  "metadata": {
    "colab": {
      "name": "projeto comunicações.ipynb",
      "provenance": [],
      "collapsed_sections": [
        "ILs58PBdX4li",
        "nDMk1lpEXVCD"
      ],
      "authorship_tag": "ABX9TyMD0RrRwq725GefCREj0uXf",
      "include_colab_link": true
    },
    "kernelspec": {
      "name": "python3",
      "display_name": "Python 3"
    },
    "language_info": {
      "name": "python"
    }
  },
  "cells": [
    {
      "cell_type": "markdown",
      "metadata": {
        "id": "view-in-github",
        "colab_type": "text"
      },
      "source": [
        "<a href=\"https://colab.research.google.com/github/mvs22/Comunicacoes_moveis/blob/main/projeto_comunica%C3%A7%C3%B5es.ipynb\" target=\"_parent\"><img src=\"https://colab.research.google.com/assets/colab-badge.svg\" alt=\"Open In Colab\"/></a>"
      ]
    },
    {
      "cell_type": "code",
      "execution_count": 1,
      "metadata": {
        "id": "s_D7Q_r-WO8e"
      },
      "outputs": [],
      "source": [
        "import pandas as pd\n",
        "import matplotlib.pyplot as plt"
      ]
    },
    {
      "cell_type": "code",
      "source": [
        "df = pd.read_csv(\"LocTreino_Equipe_1.csv\")"
      ],
      "metadata": {
        "id": "FjuoYo77WZtF"
      },
      "execution_count": 2,
      "outputs": []
    },
    {
      "cell_type": "code",
      "source": [
        "len(df)"
      ],
      "metadata": {
        "colab": {
          "base_uri": "https://localhost:8080/"
        },
        "id": "VwH4wKmC2PhX",
        "outputId": "e677b89d-d01d-4fa7-b031-c29afb3c63bf"
      },
      "execution_count": 3,
      "outputs": [
        {
          "output_type": "execute_result",
          "data": {
            "text/plain": [
              "1500"
            ]
          },
          "metadata": {},
          "execution_count": 3
        }
      ]
    },
    {
      "cell_type": "code",
      "source": [
        "df.head()"
      ],
      "metadata": {
        "colab": {
          "base_uri": "https://localhost:8080/",
          "height": 270
        },
        "id": "ziOBv4LTY4-s",
        "outputId": "f8bd6ca7-e4e9-413a-8107-ecffdaa3d5bd"
      },
      "execution_count": 4,
      "outputs": [
        {
          "output_type": "execute_result",
          "data": {
            "text/plain": [
              "   pontoId       lat        lon    pathBTS1  pathBTS2    pathBTS3    pathBTS4  \\\n",
              "0     2025 -8.068464 -34.897129  106.790000   122.190  114.056667  123.456667   \n",
              "1     1073 -8.071859 -34.897263  104.056667   114.790  122.523333  104.023333   \n",
              "2      889 -8.072604 -34.896393  104.790000   114.990  114.256667  107.556667   \n",
              "3     1619 -8.069527 -34.889515  121.815000   135.215  132.565000  115.340000   \n",
              "4     2932 -8.060418 -34.905537  134.640000   120.090  129.190000  128.440000   \n",
              "\n",
              "     pathBTS5    pathBTS6  taBTS1  taBTS2  taBTS3  taBTS4  taBTS5  taBTS6  \n",
              "0  130.123333  111.190000     0.0       1       2       1       1     0.0  \n",
              "1  129.923333  114.323333     1.0       0       2       0       1     1.0  \n",
              "2  126.190000  135.790000     1.0       0       2       0       1     1.0  \n",
              "3  100.790000  135.140000     0.0       1       3       1       0     1.0  \n",
              "4  137.040000  129.290000     3.0       3       3       3       3     2.0  "
            ],
            "text/html": [
              "\n",
              "  <div id=\"df-582fd35f-ad9c-4956-b3f7-c74af505c4a0\">\n",
              "    <div class=\"colab-df-container\">\n",
              "      <div>\n",
              "<style scoped>\n",
              "    .dataframe tbody tr th:only-of-type {\n",
              "        vertical-align: middle;\n",
              "    }\n",
              "\n",
              "    .dataframe tbody tr th {\n",
              "        vertical-align: top;\n",
              "    }\n",
              "\n",
              "    .dataframe thead th {\n",
              "        text-align: right;\n",
              "    }\n",
              "</style>\n",
              "<table border=\"1\" class=\"dataframe\">\n",
              "  <thead>\n",
              "    <tr style=\"text-align: right;\">\n",
              "      <th></th>\n",
              "      <th>pontoId</th>\n",
              "      <th>lat</th>\n",
              "      <th>lon</th>\n",
              "      <th>pathBTS1</th>\n",
              "      <th>pathBTS2</th>\n",
              "      <th>pathBTS3</th>\n",
              "      <th>pathBTS4</th>\n",
              "      <th>pathBTS5</th>\n",
              "      <th>pathBTS6</th>\n",
              "      <th>taBTS1</th>\n",
              "      <th>taBTS2</th>\n",
              "      <th>taBTS3</th>\n",
              "      <th>taBTS4</th>\n",
              "      <th>taBTS5</th>\n",
              "      <th>taBTS6</th>\n",
              "    </tr>\n",
              "  </thead>\n",
              "  <tbody>\n",
              "    <tr>\n",
              "      <th>0</th>\n",
              "      <td>2025</td>\n",
              "      <td>-8.068464</td>\n",
              "      <td>-34.897129</td>\n",
              "      <td>106.790000</td>\n",
              "      <td>122.190</td>\n",
              "      <td>114.056667</td>\n",
              "      <td>123.456667</td>\n",
              "      <td>130.123333</td>\n",
              "      <td>111.190000</td>\n",
              "      <td>0.0</td>\n",
              "      <td>1</td>\n",
              "      <td>2</td>\n",
              "      <td>1</td>\n",
              "      <td>1</td>\n",
              "      <td>0.0</td>\n",
              "    </tr>\n",
              "    <tr>\n",
              "      <th>1</th>\n",
              "      <td>1073</td>\n",
              "      <td>-8.071859</td>\n",
              "      <td>-34.897263</td>\n",
              "      <td>104.056667</td>\n",
              "      <td>114.790</td>\n",
              "      <td>122.523333</td>\n",
              "      <td>104.023333</td>\n",
              "      <td>129.923333</td>\n",
              "      <td>114.323333</td>\n",
              "      <td>1.0</td>\n",
              "      <td>0</td>\n",
              "      <td>2</td>\n",
              "      <td>0</td>\n",
              "      <td>1</td>\n",
              "      <td>1.0</td>\n",
              "    </tr>\n",
              "    <tr>\n",
              "      <th>2</th>\n",
              "      <td>889</td>\n",
              "      <td>-8.072604</td>\n",
              "      <td>-34.896393</td>\n",
              "      <td>104.790000</td>\n",
              "      <td>114.990</td>\n",
              "      <td>114.256667</td>\n",
              "      <td>107.556667</td>\n",
              "      <td>126.190000</td>\n",
              "      <td>135.790000</td>\n",
              "      <td>1.0</td>\n",
              "      <td>0</td>\n",
              "      <td>2</td>\n",
              "      <td>0</td>\n",
              "      <td>1</td>\n",
              "      <td>1.0</td>\n",
              "    </tr>\n",
              "    <tr>\n",
              "      <th>3</th>\n",
              "      <td>1619</td>\n",
              "      <td>-8.069527</td>\n",
              "      <td>-34.889515</td>\n",
              "      <td>121.815000</td>\n",
              "      <td>135.215</td>\n",
              "      <td>132.565000</td>\n",
              "      <td>115.340000</td>\n",
              "      <td>100.790000</td>\n",
              "      <td>135.140000</td>\n",
              "      <td>0.0</td>\n",
              "      <td>1</td>\n",
              "      <td>3</td>\n",
              "      <td>1</td>\n",
              "      <td>0</td>\n",
              "      <td>1.0</td>\n",
              "    </tr>\n",
              "    <tr>\n",
              "      <th>4</th>\n",
              "      <td>2932</td>\n",
              "      <td>-8.060418</td>\n",
              "      <td>-34.905537</td>\n",
              "      <td>134.640000</td>\n",
              "      <td>120.090</td>\n",
              "      <td>129.190000</td>\n",
              "      <td>128.440000</td>\n",
              "      <td>137.040000</td>\n",
              "      <td>129.290000</td>\n",
              "      <td>3.0</td>\n",
              "      <td>3</td>\n",
              "      <td>3</td>\n",
              "      <td>3</td>\n",
              "      <td>3</td>\n",
              "      <td>2.0</td>\n",
              "    </tr>\n",
              "  </tbody>\n",
              "</table>\n",
              "</div>\n",
              "      <button class=\"colab-df-convert\" onclick=\"convertToInteractive('df-582fd35f-ad9c-4956-b3f7-c74af505c4a0')\"\n",
              "              title=\"Convert this dataframe to an interactive table.\"\n",
              "              style=\"display:none;\">\n",
              "        \n",
              "  <svg xmlns=\"http://www.w3.org/2000/svg\" height=\"24px\"viewBox=\"0 0 24 24\"\n",
              "       width=\"24px\">\n",
              "    <path d=\"M0 0h24v24H0V0z\" fill=\"none\"/>\n",
              "    <path d=\"M18.56 5.44l.94 2.06.94-2.06 2.06-.94-2.06-.94-.94-2.06-.94 2.06-2.06.94zm-11 1L8.5 8.5l.94-2.06 2.06-.94-2.06-.94L8.5 2.5l-.94 2.06-2.06.94zm10 10l.94 2.06.94-2.06 2.06-.94-2.06-.94-.94-2.06-.94 2.06-2.06.94z\"/><path d=\"M17.41 7.96l-1.37-1.37c-.4-.4-.92-.59-1.43-.59-.52 0-1.04.2-1.43.59L10.3 9.45l-7.72 7.72c-.78.78-.78 2.05 0 2.83L4 21.41c.39.39.9.59 1.41.59.51 0 1.02-.2 1.41-.59l7.78-7.78 2.81-2.81c.8-.78.8-2.07 0-2.86zM5.41 20L4 18.59l7.72-7.72 1.47 1.35L5.41 20z\"/>\n",
              "  </svg>\n",
              "      </button>\n",
              "      \n",
              "  <style>\n",
              "    .colab-df-container {\n",
              "      display:flex;\n",
              "      flex-wrap:wrap;\n",
              "      gap: 12px;\n",
              "    }\n",
              "\n",
              "    .colab-df-convert {\n",
              "      background-color: #E8F0FE;\n",
              "      border: none;\n",
              "      border-radius: 50%;\n",
              "      cursor: pointer;\n",
              "      display: none;\n",
              "      fill: #1967D2;\n",
              "      height: 32px;\n",
              "      padding: 0 0 0 0;\n",
              "      width: 32px;\n",
              "    }\n",
              "\n",
              "    .colab-df-convert:hover {\n",
              "      background-color: #E2EBFA;\n",
              "      box-shadow: 0px 1px 2px rgba(60, 64, 67, 0.3), 0px 1px 3px 1px rgba(60, 64, 67, 0.15);\n",
              "      fill: #174EA6;\n",
              "    }\n",
              "\n",
              "    [theme=dark] .colab-df-convert {\n",
              "      background-color: #3B4455;\n",
              "      fill: #D2E3FC;\n",
              "    }\n",
              "\n",
              "    [theme=dark] .colab-df-convert:hover {\n",
              "      background-color: #434B5C;\n",
              "      box-shadow: 0px 1px 3px 1px rgba(0, 0, 0, 0.15);\n",
              "      filter: drop-shadow(0px 1px 2px rgba(0, 0, 0, 0.3));\n",
              "      fill: #FFFFFF;\n",
              "    }\n",
              "  </style>\n",
              "\n",
              "      <script>\n",
              "        const buttonEl =\n",
              "          document.querySelector('#df-582fd35f-ad9c-4956-b3f7-c74af505c4a0 button.colab-df-convert');\n",
              "        buttonEl.style.display =\n",
              "          google.colab.kernel.accessAllowed ? 'block' : 'none';\n",
              "\n",
              "        async function convertToInteractive(key) {\n",
              "          const element = document.querySelector('#df-582fd35f-ad9c-4956-b3f7-c74af505c4a0');\n",
              "          const dataTable =\n",
              "            await google.colab.kernel.invokeFunction('convertToInteractive',\n",
              "                                                     [key], {});\n",
              "          if (!dataTable) return;\n",
              "\n",
              "          const docLinkHtml = 'Like what you see? Visit the ' +\n",
              "            '<a target=\"_blank\" href=https://colab.research.google.com/notebooks/data_table.ipynb>data table notebook</a>'\n",
              "            + ' to learn more about interactive tables.';\n",
              "          element.innerHTML = '';\n",
              "          dataTable['output_type'] = 'display_data';\n",
              "          await google.colab.output.renderOutput(dataTable, element);\n",
              "          const docLink = document.createElement('div');\n",
              "          docLink.innerHTML = docLinkHtml;\n",
              "          element.appendChild(docLink);\n",
              "        }\n",
              "      </script>\n",
              "    </div>\n",
              "  </div>\n",
              "  "
            ]
          },
          "metadata": {},
          "execution_count": 4
        }
      ]
    },
    {
      "cell_type": "code",
      "source": [
        "df.info()"
      ],
      "metadata": {
        "colab": {
          "base_uri": "https://localhost:8080/"
        },
        "id": "QO76civhWfCu",
        "outputId": "40e138b8-c502-4bff-dfef-1d81c7c0e0bc"
      },
      "execution_count": 5,
      "outputs": [
        {
          "output_type": "stream",
          "name": "stdout",
          "text": [
            "<class 'pandas.core.frame.DataFrame'>\n",
            "RangeIndex: 1500 entries, 0 to 1499\n",
            "Data columns (total 15 columns):\n",
            " #   Column    Non-Null Count  Dtype  \n",
            "---  ------    --------------  -----  \n",
            " 0   pontoId   1500 non-null   int64  \n",
            " 1   lat       1500 non-null   float64\n",
            " 2   lon       1500 non-null   float64\n",
            " 3   pathBTS1  1500 non-null   float64\n",
            " 4   pathBTS2  1500 non-null   float64\n",
            " 5   pathBTS3  1500 non-null   float64\n",
            " 6   pathBTS4  1500 non-null   float64\n",
            " 7   pathBTS5  1500 non-null   float64\n",
            " 8   pathBTS6  1499 non-null   float64\n",
            " 9   taBTS1    1499 non-null   float64\n",
            " 10  taBTS2    1500 non-null   int64  \n",
            " 11  taBTS3    1500 non-null   int64  \n",
            " 12  taBTS4    1500 non-null   int64  \n",
            " 13  taBTS5    1500 non-null   int64  \n",
            " 14  taBTS6    1498 non-null   float64\n",
            "dtypes: float64(10), int64(5)\n",
            "memory usage: 175.9 KB\n"
          ]
        }
      ]
    },
    {
      "cell_type": "markdown",
      "source": [
        "segundo o professor, time advance deveria ser um inteiro entre 0 e 63 (representa passos de 550 metros).... então vamos fazer um cast de float para inteiro"
      ],
      "metadata": {
        "id": "t3wxi2GT1tyc"
      }
    },
    {
      "cell_type": "code",
      "source": [
        "df = df.dropna()"
      ],
      "metadata": {
        "id": "onBXU9z32JNs"
      },
      "execution_count": 6,
      "outputs": []
    },
    {
      "cell_type": "code",
      "source": [
        "df.taBTS1 = df.taBTS1.astype('int64')\n",
        "df.taBTS6 = df.taBTS6.astype('int64')\n",
        "df[\"pathBTS1\"] = df[\"pathBTS1\"].astype(float)\n",
        "df[\"pathBTS2\"] = df[\"pathBTS2\"].astype(float)\n",
        "df[\"pathBTS3\"] = df[\"pathBTS3\"].astype(float)\n",
        "df[\"pathBTS4\"] = df[\"pathBTS4\"].astype(float)\n",
        "df[\"pathBTS5\"] = df[\"pathBTS5\"].astype(float)\n",
        "df[\"pathBTS6\"] = df[\"pathBTS6\"].astype(float)"
      ],
      "metadata": {
        "id": "dyyNmTt312jN",
        "colab": {
          "base_uri": "https://localhost:8080/"
        },
        "outputId": "d41c5b34-fdbe-463c-fb81-c2b07ee61ae1"
      },
      "execution_count": 7,
      "outputs": [
        {
          "output_type": "stream",
          "name": "stderr",
          "text": [
            "/usr/local/lib/python3.7/dist-packages/pandas/core/generic.py:5516: SettingWithCopyWarning: \n",
            "A value is trying to be set on a copy of a slice from a DataFrame.\n",
            "Try using .loc[row_indexer,col_indexer] = value instead\n",
            "\n",
            "See the caveats in the documentation: https://pandas.pydata.org/pandas-docs/stable/user_guide/indexing.html#returning-a-view-versus-a-copy\n",
            "  self[name] = value\n"
          ]
        }
      ]
    },
    {
      "cell_type": "code",
      "source": [
        "df.describe(include=\"all\")"
      ],
      "metadata": {
        "colab": {
          "base_uri": "https://localhost:8080/",
          "height": 364
        },
        "id": "Z4fF6O-AWdiJ",
        "outputId": "5b46e97b-40e5-4bcf-ddca-bc8b2c1db432"
      },
      "execution_count": 8,
      "outputs": [
        {
          "output_type": "execute_result",
          "data": {
            "text/plain": [
              "           pontoId          lat          lon     pathBTS1     pathBTS2  \\\n",
              "count  1496.000000  1496.000000  1496.000000  1496.000000  1496.000000   \n",
              "mean   1439.524733    -8.070247   -34.895093   116.413469   118.708401   \n",
              "std     851.146153     0.004239     0.004318    12.123122    12.534384   \n",
              "min       1.000000    -8.077576   -34.906830    85.690000    76.423333   \n",
              "25%     699.750000    -8.073529   -34.898252   106.590000   111.381667   \n",
              "50%    1392.500000    -8.070139   -34.895741   117.556667   119.523333   \n",
              "75%    2172.250000    -8.067198   -34.891866   124.723333   128.565000   \n",
              "max    2955.000000    -8.059339   -34.885078   144.290000   144.890000   \n",
              "\n",
              "          pathBTS3     pathBTS4     pathBTS5     pathBTS6       taBTS1  \\\n",
              "count  1496.000000  1496.000000  1496.000000  1496.000000  1496.000000   \n",
              "mean    123.592616   115.980256   122.051927   126.663599     0.760695   \n",
              "std       9.183161    12.338160    12.475839    27.802419     1.448867   \n",
              "min      88.790000    84.056667    80.123333    87.523333     0.000000   \n",
              "25%     118.935833   107.056667   114.315000   115.835833     0.000000   \n",
              "50%     124.190000   116.606667   123.512561   128.656667     1.000000   \n",
              "75%     129.752500   125.798333   131.002500   136.056667     1.000000   \n",
              "max     145.890000   145.423333   146.890000   779.603100    33.000000   \n",
              "\n",
              "            taBTS2       taBTS3       taBTS4       taBTS5       taBTS6  \n",
              "count  1496.000000  1496.000000  1496.000000  1496.000000  1496.000000  \n",
              "mean      0.985963     2.457219     0.985963     1.140374     1.123663  \n",
              "std       0.818966     0.966067     0.818966     0.838266     1.120834  \n",
              "min       0.000000     1.000000     0.000000     0.000000     0.000000  \n",
              "25%       0.000000     2.000000     0.000000     1.000000     1.000000  \n",
              "50%       1.000000     2.000000     1.000000     1.000000     1.000000  \n",
              "75%       1.000000     3.000000     1.000000     2.000000     2.000000  \n",
              "max       4.000000     5.000000     4.000000     3.000000    25.000000  "
            ],
            "text/html": [
              "\n",
              "  <div id=\"df-45094cc4-d364-4a78-b79d-d192bd54690a\">\n",
              "    <div class=\"colab-df-container\">\n",
              "      <div>\n",
              "<style scoped>\n",
              "    .dataframe tbody tr th:only-of-type {\n",
              "        vertical-align: middle;\n",
              "    }\n",
              "\n",
              "    .dataframe tbody tr th {\n",
              "        vertical-align: top;\n",
              "    }\n",
              "\n",
              "    .dataframe thead th {\n",
              "        text-align: right;\n",
              "    }\n",
              "</style>\n",
              "<table border=\"1\" class=\"dataframe\">\n",
              "  <thead>\n",
              "    <tr style=\"text-align: right;\">\n",
              "      <th></th>\n",
              "      <th>pontoId</th>\n",
              "      <th>lat</th>\n",
              "      <th>lon</th>\n",
              "      <th>pathBTS1</th>\n",
              "      <th>pathBTS2</th>\n",
              "      <th>pathBTS3</th>\n",
              "      <th>pathBTS4</th>\n",
              "      <th>pathBTS5</th>\n",
              "      <th>pathBTS6</th>\n",
              "      <th>taBTS1</th>\n",
              "      <th>taBTS2</th>\n",
              "      <th>taBTS3</th>\n",
              "      <th>taBTS4</th>\n",
              "      <th>taBTS5</th>\n",
              "      <th>taBTS6</th>\n",
              "    </tr>\n",
              "  </thead>\n",
              "  <tbody>\n",
              "    <tr>\n",
              "      <th>count</th>\n",
              "      <td>1496.000000</td>\n",
              "      <td>1496.000000</td>\n",
              "      <td>1496.000000</td>\n",
              "      <td>1496.000000</td>\n",
              "      <td>1496.000000</td>\n",
              "      <td>1496.000000</td>\n",
              "      <td>1496.000000</td>\n",
              "      <td>1496.000000</td>\n",
              "      <td>1496.000000</td>\n",
              "      <td>1496.000000</td>\n",
              "      <td>1496.000000</td>\n",
              "      <td>1496.000000</td>\n",
              "      <td>1496.000000</td>\n",
              "      <td>1496.000000</td>\n",
              "      <td>1496.000000</td>\n",
              "    </tr>\n",
              "    <tr>\n",
              "      <th>mean</th>\n",
              "      <td>1439.524733</td>\n",
              "      <td>-8.070247</td>\n",
              "      <td>-34.895093</td>\n",
              "      <td>116.413469</td>\n",
              "      <td>118.708401</td>\n",
              "      <td>123.592616</td>\n",
              "      <td>115.980256</td>\n",
              "      <td>122.051927</td>\n",
              "      <td>126.663599</td>\n",
              "      <td>0.760695</td>\n",
              "      <td>0.985963</td>\n",
              "      <td>2.457219</td>\n",
              "      <td>0.985963</td>\n",
              "      <td>1.140374</td>\n",
              "      <td>1.123663</td>\n",
              "    </tr>\n",
              "    <tr>\n",
              "      <th>std</th>\n",
              "      <td>851.146153</td>\n",
              "      <td>0.004239</td>\n",
              "      <td>0.004318</td>\n",
              "      <td>12.123122</td>\n",
              "      <td>12.534384</td>\n",
              "      <td>9.183161</td>\n",
              "      <td>12.338160</td>\n",
              "      <td>12.475839</td>\n",
              "      <td>27.802419</td>\n",
              "      <td>1.448867</td>\n",
              "      <td>0.818966</td>\n",
              "      <td>0.966067</td>\n",
              "      <td>0.818966</td>\n",
              "      <td>0.838266</td>\n",
              "      <td>1.120834</td>\n",
              "    </tr>\n",
              "    <tr>\n",
              "      <th>min</th>\n",
              "      <td>1.000000</td>\n",
              "      <td>-8.077576</td>\n",
              "      <td>-34.906830</td>\n",
              "      <td>85.690000</td>\n",
              "      <td>76.423333</td>\n",
              "      <td>88.790000</td>\n",
              "      <td>84.056667</td>\n",
              "      <td>80.123333</td>\n",
              "      <td>87.523333</td>\n",
              "      <td>0.000000</td>\n",
              "      <td>0.000000</td>\n",
              "      <td>1.000000</td>\n",
              "      <td>0.000000</td>\n",
              "      <td>0.000000</td>\n",
              "      <td>0.000000</td>\n",
              "    </tr>\n",
              "    <tr>\n",
              "      <th>25%</th>\n",
              "      <td>699.750000</td>\n",
              "      <td>-8.073529</td>\n",
              "      <td>-34.898252</td>\n",
              "      <td>106.590000</td>\n",
              "      <td>111.381667</td>\n",
              "      <td>118.935833</td>\n",
              "      <td>107.056667</td>\n",
              "      <td>114.315000</td>\n",
              "      <td>115.835833</td>\n",
              "      <td>0.000000</td>\n",
              "      <td>0.000000</td>\n",
              "      <td>2.000000</td>\n",
              "      <td>0.000000</td>\n",
              "      <td>1.000000</td>\n",
              "      <td>1.000000</td>\n",
              "    </tr>\n",
              "    <tr>\n",
              "      <th>50%</th>\n",
              "      <td>1392.500000</td>\n",
              "      <td>-8.070139</td>\n",
              "      <td>-34.895741</td>\n",
              "      <td>117.556667</td>\n",
              "      <td>119.523333</td>\n",
              "      <td>124.190000</td>\n",
              "      <td>116.606667</td>\n",
              "      <td>123.512561</td>\n",
              "      <td>128.656667</td>\n",
              "      <td>1.000000</td>\n",
              "      <td>1.000000</td>\n",
              "      <td>2.000000</td>\n",
              "      <td>1.000000</td>\n",
              "      <td>1.000000</td>\n",
              "      <td>1.000000</td>\n",
              "    </tr>\n",
              "    <tr>\n",
              "      <th>75%</th>\n",
              "      <td>2172.250000</td>\n",
              "      <td>-8.067198</td>\n",
              "      <td>-34.891866</td>\n",
              "      <td>124.723333</td>\n",
              "      <td>128.565000</td>\n",
              "      <td>129.752500</td>\n",
              "      <td>125.798333</td>\n",
              "      <td>131.002500</td>\n",
              "      <td>136.056667</td>\n",
              "      <td>1.000000</td>\n",
              "      <td>1.000000</td>\n",
              "      <td>3.000000</td>\n",
              "      <td>1.000000</td>\n",
              "      <td>2.000000</td>\n",
              "      <td>2.000000</td>\n",
              "    </tr>\n",
              "    <tr>\n",
              "      <th>max</th>\n",
              "      <td>2955.000000</td>\n",
              "      <td>-8.059339</td>\n",
              "      <td>-34.885078</td>\n",
              "      <td>144.290000</td>\n",
              "      <td>144.890000</td>\n",
              "      <td>145.890000</td>\n",
              "      <td>145.423333</td>\n",
              "      <td>146.890000</td>\n",
              "      <td>779.603100</td>\n",
              "      <td>33.000000</td>\n",
              "      <td>4.000000</td>\n",
              "      <td>5.000000</td>\n",
              "      <td>4.000000</td>\n",
              "      <td>3.000000</td>\n",
              "      <td>25.000000</td>\n",
              "    </tr>\n",
              "  </tbody>\n",
              "</table>\n",
              "</div>\n",
              "      <button class=\"colab-df-convert\" onclick=\"convertToInteractive('df-45094cc4-d364-4a78-b79d-d192bd54690a')\"\n",
              "              title=\"Convert this dataframe to an interactive table.\"\n",
              "              style=\"display:none;\">\n",
              "        \n",
              "  <svg xmlns=\"http://www.w3.org/2000/svg\" height=\"24px\"viewBox=\"0 0 24 24\"\n",
              "       width=\"24px\">\n",
              "    <path d=\"M0 0h24v24H0V0z\" fill=\"none\"/>\n",
              "    <path d=\"M18.56 5.44l.94 2.06.94-2.06 2.06-.94-2.06-.94-.94-2.06-.94 2.06-2.06.94zm-11 1L8.5 8.5l.94-2.06 2.06-.94-2.06-.94L8.5 2.5l-.94 2.06-2.06.94zm10 10l.94 2.06.94-2.06 2.06-.94-2.06-.94-.94-2.06-.94 2.06-2.06.94z\"/><path d=\"M17.41 7.96l-1.37-1.37c-.4-.4-.92-.59-1.43-.59-.52 0-1.04.2-1.43.59L10.3 9.45l-7.72 7.72c-.78.78-.78 2.05 0 2.83L4 21.41c.39.39.9.59 1.41.59.51 0 1.02-.2 1.41-.59l7.78-7.78 2.81-2.81c.8-.78.8-2.07 0-2.86zM5.41 20L4 18.59l7.72-7.72 1.47 1.35L5.41 20z\"/>\n",
              "  </svg>\n",
              "      </button>\n",
              "      \n",
              "  <style>\n",
              "    .colab-df-container {\n",
              "      display:flex;\n",
              "      flex-wrap:wrap;\n",
              "      gap: 12px;\n",
              "    }\n",
              "\n",
              "    .colab-df-convert {\n",
              "      background-color: #E8F0FE;\n",
              "      border: none;\n",
              "      border-radius: 50%;\n",
              "      cursor: pointer;\n",
              "      display: none;\n",
              "      fill: #1967D2;\n",
              "      height: 32px;\n",
              "      padding: 0 0 0 0;\n",
              "      width: 32px;\n",
              "    }\n",
              "\n",
              "    .colab-df-convert:hover {\n",
              "      background-color: #E2EBFA;\n",
              "      box-shadow: 0px 1px 2px rgba(60, 64, 67, 0.3), 0px 1px 3px 1px rgba(60, 64, 67, 0.15);\n",
              "      fill: #174EA6;\n",
              "    }\n",
              "\n",
              "    [theme=dark] .colab-df-convert {\n",
              "      background-color: #3B4455;\n",
              "      fill: #D2E3FC;\n",
              "    }\n",
              "\n",
              "    [theme=dark] .colab-df-convert:hover {\n",
              "      background-color: #434B5C;\n",
              "      box-shadow: 0px 1px 3px 1px rgba(0, 0, 0, 0.15);\n",
              "      filter: drop-shadow(0px 1px 2px rgba(0, 0, 0, 0.3));\n",
              "      fill: #FFFFFF;\n",
              "    }\n",
              "  </style>\n",
              "\n",
              "      <script>\n",
              "        const buttonEl =\n",
              "          document.querySelector('#df-45094cc4-d364-4a78-b79d-d192bd54690a button.colab-df-convert');\n",
              "        buttonEl.style.display =\n",
              "          google.colab.kernel.accessAllowed ? 'block' : 'none';\n",
              "\n",
              "        async function convertToInteractive(key) {\n",
              "          const element = document.querySelector('#df-45094cc4-d364-4a78-b79d-d192bd54690a');\n",
              "          const dataTable =\n",
              "            await google.colab.kernel.invokeFunction('convertToInteractive',\n",
              "                                                     [key], {});\n",
              "          if (!dataTable) return;\n",
              "\n",
              "          const docLinkHtml = 'Like what you see? Visit the ' +\n",
              "            '<a target=\"_blank\" href=https://colab.research.google.com/notebooks/data_table.ipynb>data table notebook</a>'\n",
              "            + ' to learn more about interactive tables.';\n",
              "          element.innerHTML = '';\n",
              "          dataTable['output_type'] = 'display_data';\n",
              "          await google.colab.output.renderOutput(dataTable, element);\n",
              "          const docLink = document.createElement('div');\n",
              "          docLink.innerHTML = docLinkHtml;\n",
              "          element.appendChild(docLink);\n",
              "        }\n",
              "      </script>\n",
              "    </div>\n",
              "  </div>\n",
              "  "
            ]
          },
          "metadata": {},
          "execution_count": 8
        }
      ]
    },
    {
      "cell_type": "code",
      "source": [
        "plt.scatter(df.lat, df.lon)"
      ],
      "metadata": {
        "colab": {
          "base_uri": "https://localhost:8080/",
          "height": 283
        },
        "id": "dgB876AS7ybD",
        "outputId": "0a08ab07-4b0c-4ef6-c7a4-58af82af5778"
      },
      "execution_count": 9,
      "outputs": [
        {
          "output_type": "execute_result",
          "data": {
            "text/plain": [
              "<matplotlib.collections.PathCollection at 0x7f3ae92d5e50>"
            ]
          },
          "metadata": {},
          "execution_count": 9
        },
        {
          "output_type": "display_data",
          "data": {
            "text/plain": [
              "<Figure size 432x288 with 1 Axes>"
            ],
            "image/png": "[encoded data removed]"
          },
          "metadata": {
            "needs_background": "light"
          }
        }
      ]
    },
    {
      "cell_type": "markdown",
      "source": [
        "achei meio exotico o canto inferior direito(parece que é dentro da agua, mas fui verificar no google maps e não consegui tirar nenhuma conclusão, por isso acho que as latitudes e longitudes parecem ok"
      ],
      "metadata": {
        "id": "uuk54KH5-spp"
      }
    },
    {
      "cell_type": "markdown",
      "source": [
        "### verificando os time advance:"
      ],
      "metadata": {
        "id": "pB3qoIC4BDJu"
      }
    },
    {
      "cell_type": "code",
      "source": [
        "fig1, ax1 = plt.subplots()\n",
        "data = [df.taBTS1,df.taBTS2,df.taBTS3,df.taBTS4,df.taBTS5,df.taBTS6]\n",
        "ax1.boxplot(data)"
      ],
      "metadata": {
        "colab": {
          "base_uri": "https://localhost:8080/",
          "height": 1000
        },
        "id": "-JoMJ6exBIr-",
        "outputId": "30d2f826-fcfb-4e55-e124-39748ba77cf7"
      },
      "execution_count": 10,
      "outputs": [
        {
          "output_type": "execute_result",
          "data": {
            "text/plain": [
              "{'boxes': [<matplotlib.lines.Line2D at 0x7f3ae8dc7f50>,\n",
              "  <matplotlib.lines.Line2D at 0x7f3ae8ddf550>,\n",
              "  <matplotlib.lines.Line2D at 0x7f3ae8d6fa50>,\n",
              "  <matplotlib.lines.Line2D at 0x7f3ae8d89050>,\n",
              "  <matplotlib.lines.Line2D at 0x7f3ae8d9a5d0>,\n",
              "  <matplotlib.lines.Line2D at 0x7f3ae8d2ab10>],\n",
              " 'caps': [<matplotlib.lines.Line2D at 0x7f3ae8dcff90>,\n",
              "  <matplotlib.lines.Line2D at 0x7f3ae8dd7510>,\n",
              "  <matplotlib.lines.Line2D at 0x7f3ae8de7510>,\n",
              "  <matplotlib.lines.Line2D at 0x7f3ae8de7a50>,\n",
              "  <matplotlib.lines.Line2D at 0x7f3ae8d78a90>,\n",
              "  <matplotlib.lines.Line2D at 0x7f3ae8d80050>,\n",
              "  <matplotlib.lines.Line2D at 0x7f3ae8d90050>,\n",
              "  <matplotlib.lines.Line2D at 0x7f3ae8d90590>,\n",
              "  <matplotlib.lines.Line2D at 0x7f3ae8da25d0>,\n",
              "  <matplotlib.lines.Line2D at 0x7f3ae8da2ad0>,\n",
              "  <matplotlib.lines.Line2D at 0x7f3ae8d35b50>,\n",
              "  <matplotlib.lines.Line2D at 0x7f3ae8d3d0d0>],\n",
              " 'fliers': [<matplotlib.lines.Line2D at 0x7f3ae8dc74d0>,\n",
              "  <matplotlib.lines.Line2D at 0x7f3ae8d6f510>,\n",
              "  <matplotlib.lines.Line2D at 0x7f3ae8d80ad0>,\n",
              "  <matplotlib.lines.Line2D at 0x7f3ae8d9a050>,\n",
              "  <matplotlib.lines.Line2D at 0x7f3ae8d2a5d0>,\n",
              "  <matplotlib.lines.Line2D at 0x7f3ae8d3db50>],\n",
              " 'means': [],\n",
              " 'medians': [<matplotlib.lines.Line2D at 0x7f3ae8dd7a90>,\n",
              "  <matplotlib.lines.Line2D at 0x7f3ae8de7f90>,\n",
              "  <matplotlib.lines.Line2D at 0x7f3ae8d80590>,\n",
              "  <matplotlib.lines.Line2D at 0x7f3ae8d90ad0>,\n",
              "  <matplotlib.lines.Line2D at 0x7f3ae8d2a050>,\n",
              "  <matplotlib.lines.Line2D at 0x7f3ae8d3d610>],\n",
              " 'whiskers': [<matplotlib.lines.Line2D at 0x7f3ae8dcf510>,\n",
              "  <matplotlib.lines.Line2D at 0x7f3ae8dcfa50>,\n",
              "  <matplotlib.lines.Line2D at 0x7f3ae8ddfa90>,\n",
              "  <matplotlib.lines.Line2D at 0x7f3ae8ddff90>,\n",
              "  <matplotlib.lines.Line2D at 0x7f3ae8d6ff90>,\n",
              "  <matplotlib.lines.Line2D at 0x7f3ae8d78550>,\n",
              "  <matplotlib.lines.Line2D at 0x7f3ae8d89590>,\n",
              "  <matplotlib.lines.Line2D at 0x7f3ae8d89ad0>,\n",
              "  <matplotlib.lines.Line2D at 0x7f3ae8d9ab50>,\n",
              "  <matplotlib.lines.Line2D at 0x7f3ae8da2090>,\n",
              "  <matplotlib.lines.Line2D at 0x7f3ae8d350d0>,\n",
              "  <matplotlib.lines.Line2D at 0x7f3ae8d35610>]}"
            ]
          },
          "metadata": {},
          "execution_count": 10
        },
        {
          "output_type": "display_data",
          "data": {
            "text/plain": [
              "<Figure size 432x288 with 1 Axes>"
            ],
            "image/png": "[encoded data removed]"
          },
          "metadata": {
            "needs_background": "light"
          }
        }
      ]
    },
    {
      "cell_type": "markdown",
      "source": [
        "### verificando as perdas em espaço livre:"
      ],
      "metadata": {
        "id": "ZtucC9mCA4zz"
      }
    },
    {
      "cell_type": "markdown",
      "source": [
        "#"
      ],
      "metadata": {
        "id": "fVEMlRPJvUJ9"
      }
    },
    {
      "cell_type": "code",
      "source": [
        "fig, axs = plt.subplots(1, 6,figsize=(30,10))\n",
        "for i, ax in enumerate(axs):\n",
        "  ax.set_title(f'BTS{i+1}')\n",
        "  ax.boxplot(df[f'pathBTS{i+1}'])"
      ],
      "metadata": {
        "colab": {
          "base_uri": "https://localhost:8080/",
          "height": 372
        },
        "id": "ca0aqnj-_IEx",
        "outputId": "2ab3afca-a5d7-40e2-8eb2-0f87106b6398"
      },
      "execution_count": 11,
      "outputs": [
        {
          "output_type": "display_data",
          "data": {
            "text/plain": [
              "<Figure size 2160x720 with 6 Axes>"
            ],
            "image/png": "[encoded data removed]"
          },
          "metadata": {
            "needs_background": "light"
          }
        }
      ]
    },
    {
      "cell_type": "markdown",
      "source": [
        "As antenas 1,4 e 6 parecem mais confiaveis pela menor presença de outliers..."
      ],
      "metadata": {
        "id": "pAsW4n6uvhrV"
      }
    },
    {
      "cell_type": "markdown",
      "source": [
        "## dividindo em train test split"
      ],
      "metadata": {
        "id": "FwZ_71pbtCDD"
      }
    },
    {
      "cell_type": "code",
      "source": [
        "df.sample(frac=1)\n",
        "x_train = df.loc[:len(df)*0.8,['pathBTS1',\t'pathBTS2',\t'pathBTS3',\t'pathBTS4',\t'pathBTS5',\t'pathBTS6']]\n",
        "Y_train = df.loc[:len(df)*0.8,['lat','lon']]\n",
        "x_test = df.loc[len(df)*0.8:,['pathBTS1',\t'pathBTS2',\t'pathBTS3',\t'pathBTS4',\t'pathBTS5',\t'pathBTS6']]\n",
        "Y_test = df.loc[len(df)*0.8:,['lat','lon']]"
      ],
      "metadata": {
        "id": "7TjHa0PKlXGB"
      },
      "execution_count": 12,
      "outputs": []
    },
    {
      "cell_type": "markdown",
      "source": [
        "# fingerprint"
      ],
      "metadata": {
        "id": "hGMqf2_ExL3v"
      }
    },
    {
      "cell_type": "code",
      "source": [
        "import math\n",
        "\n",
        "def vector_subtract(v,w):\n",
        "  return [v_i - w_i for v_i, w_i in zip(v,w)]\n",
        "\n",
        "def dot(v,w):\n",
        "  return sum(v_i * w_i for v_i, w_i in zip(v,w))\n",
        "\n",
        "def sum_of_squares(v):\n",
        "  return dot(v,v)\n",
        "\n",
        "def magnitude(v):\n",
        "  return math.sqrt(sum_of_squares(v))\n",
        "\n",
        "def distance(v,w):\n",
        "  return magnitude(vector_subtract(v,w))"
      ],
      "metadata": {
        "id": "-2S0fwkvYBTC"
      },
      "execution_count": 13,
      "outputs": []
    },
    {
      "cell_type": "code",
      "source": [
        "# recebe um vetor [pathBTS1,\tpathBTS2,\tpathBTS3,\tpathBTS4,\tpathBTS5,\tpathBTS6]\n",
        "# e o df com as colunas [lat,\tlon,\tpathBTS1,\tpathBTS2,\tpathBTS3,\tpathBTS4,\tpathBTS5,\tpathBTS6]\n",
        "def fingerprint(v,df):\n",
        "  df2 = df[['pathBTS1',\t'pathBTS2',\t'pathBTS3',\t'pathBTS4',\t'pathBTS5',\t'pathBTS6']]\n",
        "  #print(df2.head())\n",
        "  \n",
        "  df['distance'] = [distance(list(w),list(v)) for w in df.values.tolist()]\n",
        "  df = df.sort_values(by='distance',ascending=True)\n",
        "  df = df.reset_index()\n",
        "  return df.loc[0, ['lat','lon']]"
      ],
      "metadata": {
        "id": "7xDcijqNyE4A"
      },
      "execution_count": 14,
      "outputs": []
    },
    {
      "cell_type": "code",
      "source": [
        "v = [106,\t122,\t114,\t123,\t130,\t111]\n",
        "df = x_train.copy()\n",
        "df['lat'] = Y_train['lat']\n",
        "df['lon'] = Y_train['lon']\n",
        "fingerprint(v,df)"
      ],
      "metadata": {
        "colab": {
          "base_uri": "https://localhost:8080/"
        },
        "id": "QyPQuRck0ouP",
        "outputId": "0bc51fb9-0099-4af9-bf33-af475d418a94"
      },
      "execution_count": 15,
      "outputs": [
        {
          "output_type": "execute_result",
          "data": {
            "text/plain": [
              "lat    -8.068464\n",
              "lon   -34.897129\n",
              "Name: 0, dtype: float64"
            ]
          },
          "metadata": {},
          "execution_count": 15
        }
      ]
    },
    {
      "cell_type": "code",
      "source": [
        "Y_pred = [list(fingerprint(v,df)) for _,v in x_test.iterrows()]"
      ],
      "metadata": {
        "id": "KN8YM8u06KlO"
      },
      "execution_count": 16,
      "outputs": []
    },
    {
      "cell_type": "code",
      "source": [
        "df2 = Y_test.copy()"
      ],
      "metadata": {
        "id": "dnsshCSD6Do-"
      },
      "execution_count": 17,
      "outputs": []
    },
    {
      "cell_type": "code",
      "source": [
        "df2['lat_pred'] = [lat for lat,_ in Y_pred]\n",
        "df2['lon_pred'] = [lon for _,lon in Y_pred]"
      ],
      "metadata": {
        "id": "yF9jlXs26DnQ"
      },
      "execution_count": 18,
      "outputs": []
    },
    {
      "cell_type": "code",
      "source": [
        "df2.head()"
      ],
      "metadata": {
        "colab": {
          "base_uri": "https://localhost:8080/",
          "height": 206
        },
        "id": "xQmRmeH66GND",
        "outputId": "4a622c14-ce59-4368-c498-843faaf8da8e"
      },
      "execution_count": 19,
      "outputs": [
        {
          "output_type": "execute_result",
          "data": {
            "text/plain": [
              "           lat        lon  lat_pred   lon_pred\n",
              "1197 -8.063300 -34.888748 -8.062314 -34.888191\n",
              "1198 -8.073273 -34.896534 -8.073298 -34.896614\n",
              "1199 -8.072737 -34.896683 -8.072637 -34.896503\n",
              "1200 -8.072272 -34.896671 -8.070513 -34.896694\n",
              "1201 -8.062998 -34.897293 -8.062858 -34.897293"
            ],
            "text/html": [
              "\n",
              "  <div id=\"df-f7be7f77-f82d-426a-8076-bd00c69e56fc\">\n",
              "    <div class=\"colab-df-container\">\n",
              "      <div>\n",
              "<style scoped>\n",
              "    .dataframe tbody tr th:only-of-type {\n",
              "        vertical-align: middle;\n",
              "    }\n",
              "\n",
              "    .dataframe tbody tr th {\n",
              "        vertical-align: top;\n",
              "    }\n",
              "\n",
              "    .dataframe thead th {\n",
              "        text-align: right;\n",
              "    }\n",
              "</style>\n",
              "<table border=\"1\" class=\"dataframe\">\n",
              "  <thead>\n",
              "    <tr style=\"text-align: right;\">\n",
              "      <th></th>\n",
              "      <th>lat</th>\n",
              "      <th>lon</th>\n",
              "      <th>lat_pred</th>\n",
              "      <th>lon_pred</th>\n",
              "    </tr>\n",
              "  </thead>\n",
              "  <tbody>\n",
              "    <tr>\n",
              "      <th>1197</th>\n",
              "      <td>-8.063300</td>\n",
              "      <td>-34.888748</td>\n",
              "      <td>-8.062314</td>\n",
              "      <td>-34.888191</td>\n",
              "    </tr>\n",
              "    <tr>\n",
              "      <th>1198</th>\n",
              "      <td>-8.073273</td>\n",
              "      <td>-34.896534</td>\n",
              "      <td>-8.073298</td>\n",
              "      <td>-34.896614</td>\n",
              "    </tr>\n",
              "    <tr>\n",
              "      <th>1199</th>\n",
              "      <td>-8.072737</td>\n",
              "      <td>-34.896683</td>\n",
              "      <td>-8.072637</td>\n",
              "      <td>-34.896503</td>\n",
              "    </tr>\n",
              "    <tr>\n",
              "      <th>1200</th>\n",
              "      <td>-8.072272</td>\n",
              "      <td>-34.896671</td>\n",
              "      <td>-8.070513</td>\n",
              "      <td>-34.896694</td>\n",
              "    </tr>\n",
              "    <tr>\n",
              "      <th>1201</th>\n",
              "      <td>-8.062998</td>\n",
              "      <td>-34.897293</td>\n",
              "      <td>-8.062858</td>\n",
              "      <td>-34.897293</td>\n",
              "    </tr>\n",
              "  </tbody>\n",
              "</table>\n",
              "</div>\n",
              "      <button class=\"colab-df-convert\" onclick=\"convertToInteractive('df-f7be7f77-f82d-426a-8076-bd00c69e56fc')\"\n",
              "              title=\"Convert this dataframe to an interactive table.\"\n",
              "              style=\"display:none;\">\n",
              "        \n",
              "  <svg xmlns=\"http://www.w3.org/2000/svg\" height=\"24px\"viewBox=\"0 0 24 24\"\n",
              "       width=\"24px\">\n",
              "    <path d=\"M0 0h24v24H0V0z\" fill=\"none\"/>\n",
              "    <path d=\"M18.56 5.44l.94 2.06.94-2.06 2.06-.94-2.06-.94-.94-2.06-.94 2.06-2.06.94zm-11 1L8.5 8.5l.94-2.06 2.06-.94-2.06-.94L8.5 2.5l-.94 2.06-2.06.94zm10 10l.94 2.06.94-2.06 2.06-.94-2.06-.94-.94-2.06-.94 2.06-2.06.94z\"/><path d=\"M17.41 7.96l-1.37-1.37c-.4-.4-.92-.59-1.43-.59-.52 0-1.04.2-1.43.59L10.3 9.45l-7.72 7.72c-.78.78-.78 2.05 0 2.83L4 21.41c.39.39.9.59 1.41.59.51 0 1.02-.2 1.41-.59l7.78-7.78 2.81-2.81c.8-.78.8-2.07 0-2.86zM5.41 20L4 18.59l7.72-7.72 1.47 1.35L5.41 20z\"/>\n",
              "  </svg>\n",
              "      </button>\n",
              "      \n",
              "  <style>\n",
              "    .colab-df-container {\n",
              "      display:flex;\n",
              "      flex-wrap:wrap;\n",
              "      gap: 12px;\n",
              "    }\n",
              "\n",
              "    .colab-df-convert {\n",
              "      background-color: #E8F0FE;\n",
              "      border: none;\n",
              "      border-radius: 50%;\n",
              "      cursor: pointer;\n",
              "      display: none;\n",
              "      fill: #1967D2;\n",
              "      height: 32px;\n",
              "      padding: 0 0 0 0;\n",
              "      width: 32px;\n",
              "    }\n",
              "\n",
              "    .colab-df-convert:hover {\n",
              "      background-color: #E2EBFA;\n",
              "      box-shadow: 0px 1px 2px rgba(60, 64, 67, 0.3), 0px 1px 3px 1px rgba(60, 64, 67, 0.15);\n",
              "      fill: #174EA6;\n",
              "    }\n",
              "\n",
              "    [theme=dark] .colab-df-convert {\n",
              "      background-color: #3B4455;\n",
              "      fill: #D2E3FC;\n",
              "    }\n",
              "\n",
              "    [theme=dark] .colab-df-convert:hover {\n",
              "      background-color: #434B5C;\n",
              "      box-shadow: 0px 1px 3px 1px rgba(0, 0, 0, 0.15);\n",
              "      filter: drop-shadow(0px 1px 2px rgba(0, 0, 0, 0.3));\n",
              "      fill: #FFFFFF;\n",
              "    }\n",
              "  </style>\n",
              "\n",
              "      <script>\n",
              "        const buttonEl =\n",
              "          document.querySelector('#df-f7be7f77-f82d-426a-8076-bd00c69e56fc button.colab-df-convert');\n",
              "        buttonEl.style.display =\n",
              "          google.colab.kernel.accessAllowed ? 'block' : 'none';\n",
              "\n",
              "        async function convertToInteractive(key) {\n",
              "          const element = document.querySelector('#df-f7be7f77-f82d-426a-8076-bd00c69e56fc');\n",
              "          const dataTable =\n",
              "            await google.colab.kernel.invokeFunction('convertToInteractive',\n",
              "                                                     [key], {});\n",
              "          if (!dataTable) return;\n",
              "\n",
              "          const docLinkHtml = 'Like what you see? Visit the ' +\n",
              "            '<a target=\"_blank\" href=https://colab.research.google.com/notebooks/data_table.ipynb>data table notebook</a>'\n",
              "            + ' to learn more about interactive tables.';\n",
              "          element.innerHTML = '';\n",
              "          dataTable['output_type'] = 'display_data';\n",
              "          await google.colab.output.renderOutput(dataTable, element);\n",
              "          const docLink = document.createElement('div');\n",
              "          docLink.innerHTML = docLinkHtml;\n",
              "          element.appendChild(docLink);\n",
              "        }\n",
              "      </script>\n",
              "    </div>\n",
              "  </div>\n",
              "  "
            ]
          },
          "metadata": {},
          "execution_count": 19
        }
      ]
    },
    {
      "cell_type": "code",
      "source": [
        "df2['lat_diff'] = df2['lat'] - df2['lat_pred']\n",
        "df2['lon_diff'] = df2['lon'] - df2['lon_pred']"
      ],
      "metadata": {
        "id": "u0k34d716j85"
      },
      "execution_count": 20,
      "outputs": []
    },
    {
      "cell_type": "code",
      "source": [
        "df2.head()"
      ],
      "metadata": {
        "colab": {
          "base_uri": "https://localhost:8080/",
          "height": 206
        },
        "id": "WZnVpQPx6miP",
        "outputId": "79fa9c2b-2595-4723-a4bc-4e2128851127"
      },
      "execution_count": 21,
      "outputs": [
        {
          "output_type": "execute_result",
          "data": {
            "text/plain": [
              "           lat        lon  lat_pred   lon_pred  lat_diff  lon_diff\n",
              "1197 -8.063300 -34.888748 -8.062314 -34.888191 -0.000986 -0.000557\n",
              "1198 -8.073273 -34.896534 -8.073298 -34.896614  0.000025  0.000080\n",
              "1199 -8.072737 -34.896683 -8.072637 -34.896503 -0.000100 -0.000180\n",
              "1200 -8.072272 -34.896671 -8.070513 -34.896694 -0.001759  0.000023\n",
              "1201 -8.062998 -34.897293 -8.062858 -34.897293 -0.000140  0.000000"
            ],
            "text/html": [
              "\n",
              "  <div id=\"df-6a5019a7-4347-4d46-b9b4-534548748640\">\n",
              "    <div class=\"colab-df-container\">\n",
              "      <div>\n",
              "<style scoped>\n",
              "    .dataframe tbody tr th:only-of-type {\n",
              "        vertical-align: middle;\n",
              "    }\n",
              "\n",
              "    .dataframe tbody tr th {\n",
              "        vertical-align: top;\n",
              "    }\n",
              "\n",
              "    .dataframe thead th {\n",
              "        text-align: right;\n",
              "    }\n",
              "</style>\n",
              "<table border=\"1\" class=\"dataframe\">\n",
              "  <thead>\n",
              "    <tr style=\"text-align: right;\">\n",
              "      <th></th>\n",
              "      <th>lat</th>\n",
              "      <th>lon</th>\n",
              "      <th>lat_pred</th>\n",
              "      <th>lon_pred</th>\n",
              "      <th>lat_diff</th>\n",
              "      <th>lon_diff</th>\n",
              "    </tr>\n",
              "  </thead>\n",
              "  <tbody>\n",
              "    <tr>\n",
              "      <th>1197</th>\n",
              "      <td>-8.063300</td>\n",
              "      <td>-34.888748</td>\n",
              "      <td>-8.062314</td>\n",
              "      <td>-34.888191</td>\n",
              "      <td>-0.000986</td>\n",
              "      <td>-0.000557</td>\n",
              "    </tr>\n",
              "    <tr>\n",
              "      <th>1198</th>\n",
              "      <td>-8.073273</td>\n",
              "      <td>-34.896534</td>\n",
              "      <td>-8.073298</td>\n",
              "      <td>-34.896614</td>\n",
              "      <td>0.000025</td>\n",
              "      <td>0.000080</td>\n",
              "    </tr>\n",
              "    <tr>\n",
              "      <th>1199</th>\n",
              "      <td>-8.072737</td>\n",
              "      <td>-34.896683</td>\n",
              "      <td>-8.072637</td>\n",
              "      <td>-34.896503</td>\n",
              "      <td>-0.000100</td>\n",
              "      <td>-0.000180</td>\n",
              "    </tr>\n",
              "    <tr>\n",
              "      <th>1200</th>\n",
              "      <td>-8.072272</td>\n",
              "      <td>-34.896671</td>\n",
              "      <td>-8.070513</td>\n",
              "      <td>-34.896694</td>\n",
              "      <td>-0.001759</td>\n",
              "      <td>0.000023</td>\n",
              "    </tr>\n",
              "    <tr>\n",
              "      <th>1201</th>\n",
              "      <td>-8.062998</td>\n",
              "      <td>-34.897293</td>\n",
              "      <td>-8.062858</td>\n",
              "      <td>-34.897293</td>\n",
              "      <td>-0.000140</td>\n",
              "      <td>0.000000</td>\n",
              "    </tr>\n",
              "  </tbody>\n",
              "</table>\n",
              "</div>\n",
              "      <button class=\"colab-df-convert\" onclick=\"convertToInteractive('df-6a5019a7-4347-4d46-b9b4-534548748640')\"\n",
              "              title=\"Convert this dataframe to an interactive table.\"\n",
              "              style=\"display:none;\">\n",
              "        \n",
              "  <svg xmlns=\"http://www.w3.org/2000/svg\" height=\"24px\"viewBox=\"0 0 24 24\"\n",
              "       width=\"24px\">\n",
              "    <path d=\"M0 0h24v24H0V0z\" fill=\"none\"/>\n",
              "    <path d=\"M18.56 5.44l.94 2.06.94-2.06 2.06-.94-2.06-.94-.94-2.06-.94 2.06-2.06.94zm-11 1L8.5 8.5l.94-2.06 2.06-.94-2.06-.94L8.5 2.5l-.94 2.06-2.06.94zm10 10l.94 2.06.94-2.06 2.06-.94-2.06-.94-.94-2.06-.94 2.06-2.06.94z\"/><path d=\"M17.41 7.96l-1.37-1.37c-.4-.4-.92-.59-1.43-.59-.52 0-1.04.2-1.43.59L10.3 9.45l-7.72 7.72c-.78.78-.78 2.05 0 2.83L4 21.41c.39.39.9.59 1.41.59.51 0 1.02-.2 1.41-.59l7.78-7.78 2.81-2.81c.8-.78.8-2.07 0-2.86zM5.41 20L4 18.59l7.72-7.72 1.47 1.35L5.41 20z\"/>\n",
              "  </svg>\n",
              "      </button>\n",
              "      \n",
              "  <style>\n",
              "    .colab-df-container {\n",
              "      display:flex;\n",
              "      flex-wrap:wrap;\n",
              "      gap: 12px;\n",
              "    }\n",
              "\n",
              "    .colab-df-convert {\n",
              "      background-color: #E8F0FE;\n",
              "      border: none;\n",
              "      border-radius: 50%;\n",
              "      cursor: pointer;\n",
              "      display: none;\n",
              "      fill: #1967D2;\n",
              "      height: 32px;\n",
              "      padding: 0 0 0 0;\n",
              "      width: 32px;\n",
              "    }\n",
              "\n",
              "    .colab-df-convert:hover {\n",
              "      background-color: #E2EBFA;\n",
              "      box-shadow: 0px 1px 2px rgba(60, 64, 67, 0.3), 0px 1px 3px 1px rgba(60, 64, 67, 0.15);\n",
              "      fill: #174EA6;\n",
              "    }\n",
              "\n",
              "    [theme=dark] .colab-df-convert {\n",
              "      background-color: #3B4455;\n",
              "      fill: #D2E3FC;\n",
              "    }\n",
              "\n",
              "    [theme=dark] .colab-df-convert:hover {\n",
              "      background-color: #434B5C;\n",
              "      box-shadow: 0px 1px 3px 1px rgba(0, 0, 0, 0.15);\n",
              "      filter: drop-shadow(0px 1px 2px rgba(0, 0, 0, 0.3));\n",
              "      fill: #FFFFFF;\n",
              "    }\n",
              "  </style>\n",
              "\n",
              "      <script>\n",
              "        const buttonEl =\n",
              "          document.querySelector('#df-6a5019a7-4347-4d46-b9b4-534548748640 button.colab-df-convert');\n",
              "        buttonEl.style.display =\n",
              "          google.colab.kernel.accessAllowed ? 'block' : 'none';\n",
              "\n",
              "        async function convertToInteractive(key) {\n",
              "          const element = document.querySelector('#df-6a5019a7-4347-4d46-b9b4-534548748640');\n",
              "          const dataTable =\n",
              "            await google.colab.kernel.invokeFunction('convertToInteractive',\n",
              "                                                     [key], {});\n",
              "          if (!dataTable) return;\n",
              "\n",
              "          const docLinkHtml = 'Like what you see? Visit the ' +\n",
              "            '<a target=\"_blank\" href=https://colab.research.google.com/notebooks/data_table.ipynb>data table notebook</a>'\n",
              "            + ' to learn more about interactive tables.';\n",
              "          element.innerHTML = '';\n",
              "          dataTable['output_type'] = 'display_data';\n",
              "          await google.colab.output.renderOutput(dataTable, element);\n",
              "          const docLink = document.createElement('div');\n",
              "          docLink.innerHTML = docLinkHtml;\n",
              "          element.appendChild(docLink);\n",
              "        }\n",
              "      </script>\n",
              "    </div>\n",
              "  </div>\n",
              "  "
            ]
          },
          "metadata": {},
          "execution_count": 21
        }
      ]
    },
    {
      "cell_type": "code",
      "source": [
        "df2.describe()"
      ],
      "metadata": {
        "colab": {
          "base_uri": "https://localhost:8080/",
          "height": 300
        },
        "id": "EwYWMdZh6orM",
        "outputId": "1d593464-b4d0-449d-ac3b-cf24f676be30"
      },
      "execution_count": 22,
      "outputs": [
        {
          "output_type": "execute_result",
          "data": {
            "text/plain": [
              "              lat         lon    lat_pred    lon_pred    lat_diff    lon_diff\n",
              "count  302.000000  302.000000  302.000000  302.000000  302.000000  302.000000\n",
              "mean    -8.070061  -34.895115   -8.070105  -34.895207    0.000044    0.000091\n",
              "std      0.004441    0.004547    0.004472    0.004551    0.000984    0.001292\n",
              "min     -8.077541  -34.906830   -8.077494  -34.906731   -0.003400   -0.008538\n",
              "25%     -8.073686  -34.898548   -8.073777  -34.898403   -0.000188   -0.000163\n",
              "50%     -8.070069  -34.895865   -8.070199  -34.896023    0.000014   -0.000004\n",
              "75%     -8.066989  -34.891205   -8.066831  -34.891490    0.000222    0.000179\n",
              "max     -8.059339  -34.885319   -8.059394  -34.885262    0.006923    0.011879"
            ],
            "text/html": [
              "\n",
              "  <div id=\"df-c3a5d32a-b5d5-49ea-8f93-65b1d8484327\">\n",
              "    <div class=\"colab-df-container\">\n",
              "      <div>\n",
              "<style scoped>\n",
              "    .dataframe tbody tr th:only-of-type {\n",
              "        vertical-align: middle;\n",
              "    }\n",
              "\n",
              "    .dataframe tbody tr th {\n",
              "        vertical-align: top;\n",
              "    }\n",
              "\n",
              "    .dataframe thead th {\n",
              "        text-align: right;\n",
              "    }\n",
              "</style>\n",
              "<table border=\"1\" class=\"dataframe\">\n",
              "  <thead>\n",
              "    <tr style=\"text-align: right;\">\n",
              "      <th></th>\n",
              "      <th>lat</th>\n",
              "      <th>lon</th>\n",
              "      <th>lat_pred</th>\n",
              "      <th>lon_pred</th>\n",
              "      <th>lat_diff</th>\n",
              "      <th>lon_diff</th>\n",
              "    </tr>\n",
              "  </thead>\n",
              "  <tbody>\n",
              "    <tr>\n",
              "      <th>count</th>\n",
              "      <td>302.000000</td>\n",
              "      <td>302.000000</td>\n",
              "      <td>302.000000</td>\n",
              "      <td>302.000000</td>\n",
              "      <td>302.000000</td>\n",
              "      <td>302.000000</td>\n",
              "    </tr>\n",
              "    <tr>\n",
              "      <th>mean</th>\n",
              "      <td>-8.070061</td>\n",
              "      <td>-34.895115</td>\n",
              "      <td>-8.070105</td>\n",
              "      <td>-34.895207</td>\n",
              "      <td>0.000044</td>\n",
              "      <td>0.000091</td>\n",
              "    </tr>\n",
              "    <tr>\n",
              "      <th>std</th>\n",
              "      <td>0.004441</td>\n",
              "      <td>0.004547</td>\n",
              "      <td>0.004472</td>\n",
              "      <td>0.004551</td>\n",
              "      <td>0.000984</td>\n",
              "      <td>0.001292</td>\n",
              "    </tr>\n",
              "    <tr>\n",
              "      <th>min</th>\n",
              "      <td>-8.077541</td>\n",
              "      <td>-34.906830</td>\n",
              "      <td>-8.077494</td>\n",
              "      <td>-34.906731</td>\n",
              "      <td>-0.003400</td>\n",
              "      <td>-0.008538</td>\n",
              "    </tr>\n",
              "    <tr>\n",
              "      <th>25%</th>\n",
              "      <td>-8.073686</td>\n",
              "      <td>-34.898548</td>\n",
              "      <td>-8.073777</td>\n",
              "      <td>-34.898403</td>\n",
              "      <td>-0.000188</td>\n",
              "      <td>-0.000163</td>\n",
              "    </tr>\n",
              "    <tr>\n",
              "      <th>50%</th>\n",
              "      <td>-8.070069</td>\n",
              "      <td>-34.895865</td>\n",
              "      <td>-8.070199</td>\n",
              "      <td>-34.896023</td>\n",
              "      <td>0.000014</td>\n",
              "      <td>-0.000004</td>\n",
              "    </tr>\n",
              "    <tr>\n",
              "      <th>75%</th>\n",
              "      <td>-8.066989</td>\n",
              "      <td>-34.891205</td>\n",
              "      <td>-8.066831</td>\n",
              "      <td>-34.891490</td>\n",
              "      <td>0.000222</td>\n",
              "      <td>0.000179</td>\n",
              "    </tr>\n",
              "    <tr>\n",
              "      <th>max</th>\n",
              "      <td>-8.059339</td>\n",
              "      <td>-34.885319</td>\n",
              "      <td>-8.059394</td>\n",
              "      <td>-34.885262</td>\n",
              "      <td>0.006923</td>\n",
              "      <td>0.011879</td>\n",
              "    </tr>\n",
              "  </tbody>\n",
              "</table>\n",
              "</div>\n",
              "      <button class=\"colab-df-convert\" onclick=\"convertToInteractive('df-c3a5d32a-b5d5-49ea-8f93-65b1d8484327')\"\n",
              "              title=\"Convert this dataframe to an interactive table.\"\n",
              "              style=\"display:none;\">\n",
              "        \n",
              "  <svg xmlns=\"http://www.w3.org/2000/svg\" height=\"24px\"viewBox=\"0 0 24 24\"\n",
              "       width=\"24px\">\n",
              "    <path d=\"M0 0h24v24H0V0z\" fill=\"none\"/>\n",
              "    <path d=\"M18.56 5.44l.94 2.06.94-2.06 2.06-.94-2.06-.94-.94-2.06-.94 2.06-2.06.94zm-11 1L8.5 8.5l.94-2.06 2.06-.94-2.06-.94L8.5 2.5l-.94 2.06-2.06.94zm10 10l.94 2.06.94-2.06 2.06-.94-2.06-.94-.94-2.06-.94 2.06-2.06.94z\"/><path d=\"M17.41 7.96l-1.37-1.37c-.4-.4-.92-.59-1.43-.59-.52 0-1.04.2-1.43.59L10.3 9.45l-7.72 7.72c-.78.78-.78 2.05 0 2.83L4 21.41c.39.39.9.59 1.41.59.51 0 1.02-.2 1.41-.59l7.78-7.78 2.81-2.81c.8-.78.8-2.07 0-2.86zM5.41 20L4 18.59l7.72-7.72 1.47 1.35L5.41 20z\"/>\n",
              "  </svg>\n",
              "      </button>\n",
              "      \n",
              "  <style>\n",
              "    .colab-df-container {\n",
              "      display:flex;\n",
              "      flex-wrap:wrap;\n",
              "      gap: 12px;\n",
              "    }\n",
              "\n",
              "    .colab-df-convert {\n",
              "      background-color: #E8F0FE;\n",
              "      border: none;\n",
              "      border-radius: 50%;\n",
              "      cursor: pointer;\n",
              "      display: none;\n",
              "      fill: #1967D2;\n",
              "      height: 32px;\n",
              "      padding: 0 0 0 0;\n",
              "      width: 32px;\n",
              "    }\n",
              "\n",
              "    .colab-df-convert:hover {\n",
              "      background-color: #E2EBFA;\n",
              "      box-shadow: 0px 1px 2px rgba(60, 64, 67, 0.3), 0px 1px 3px 1px rgba(60, 64, 67, 0.15);\n",
              "      fill: #174EA6;\n",
              "    }\n",
              "\n",
              "    [theme=dark] .colab-df-convert {\n",
              "      background-color: #3B4455;\n",
              "      fill: #D2E3FC;\n",
              "    }\n",
              "\n",
              "    [theme=dark] .colab-df-convert:hover {\n",
              "      background-color: #434B5C;\n",
              "      box-shadow: 0px 1px 3px 1px rgba(0, 0, 0, 0.15);\n",
              "      filter: drop-shadow(0px 1px 2px rgba(0, 0, 0, 0.3));\n",
              "      fill: #FFFFFF;\n",
              "    }\n",
              "  </style>\n",
              "\n",
              "      <script>\n",
              "        const buttonEl =\n",
              "          document.querySelector('#df-c3a5d32a-b5d5-49ea-8f93-65b1d8484327 button.colab-df-convert');\n",
              "        buttonEl.style.display =\n",
              "          google.colab.kernel.accessAllowed ? 'block' : 'none';\n",
              "\n",
              "        async function convertToInteractive(key) {\n",
              "          const element = document.querySelector('#df-c3a5d32a-b5d5-49ea-8f93-65b1d8484327');\n",
              "          const dataTable =\n",
              "            await google.colab.kernel.invokeFunction('convertToInteractive',\n",
              "                                                     [key], {});\n",
              "          if (!dataTable) return;\n",
              "\n",
              "          const docLinkHtml = 'Like what you see? Visit the ' +\n",
              "            '<a target=\"_blank\" href=https://colab.research.google.com/notebooks/data_table.ipynb>data table notebook</a>'\n",
              "            + ' to learn more about interactive tables.';\n",
              "          element.innerHTML = '';\n",
              "          dataTable['output_type'] = 'display_data';\n",
              "          await google.colab.output.renderOutput(dataTable, element);\n",
              "          const docLink = document.createElement('div');\n",
              "          docLink.innerHTML = docLinkHtml;\n",
              "          element.appendChild(docLink);\n",
              "        }\n",
              "      </script>\n",
              "    </div>\n",
              "  </div>\n",
              "  "
            ]
          },
          "metadata": {},
          "execution_count": 22
        }
      ]
    },
    {
      "cell_type": "code",
      "source": [
        "df2['lat_diff_metros'] = df2['lat_diff'] * 30.87 * 1000\n",
        "df2['lon_diff_metros'] = df2['lon_diff'] * 30.87 * 1000"
      ],
      "metadata": {
        "id": "k9UcvtfR8SHk"
      },
      "execution_count": 23,
      "outputs": []
    },
    {
      "cell_type": "code",
      "source": [
        "import math\n",
        "df2['diff_metros'] = [math.sqrt(lat_diff**2+lon_diff**2) for lat_diff,lon_diff in zip(df2['lat_diff_metros'],df2['lon_diff_metros'])]"
      ],
      "metadata": {
        "id": "p4Z_GMsO6sJr"
      },
      "execution_count": 24,
      "outputs": []
    },
    {
      "cell_type": "code",
      "source": [
        "df2['diff_metros'].describe()"
      ],
      "metadata": {
        "colab": {
          "base_uri": "https://localhost:8080/"
        },
        "id": "qES1ISuK6wW6",
        "outputId": "7512b959-639b-4eb0-9e70-a5b9ca067e14"
      },
      "execution_count": 25,
      "outputs": [
        {
          "output_type": "execute_result",
          "data": {
            "text/plain": [
              "count    302.000000\n",
              "mean      25.958906\n",
              "std       42.959451\n",
              "min        0.123480\n",
              "25%        3.255307\n",
              "50%       11.117786\n",
              "75%       29.527487\n",
              "max      424.435637\n",
              "Name: diff_metros, dtype: float64"
            ]
          },
          "metadata": {},
          "execution_count": 25
        }
      ]
    },
    {
      "cell_type": "code",
      "source": [
        "df2['diff_metros'].hist()"
      ],
      "metadata": {
        "colab": {
          "base_uri": "https://localhost:8080/",
          "height": 283
        },
        "id": "AHAza-cm6zvp",
        "outputId": "56b9c084-9147-4d2c-ea9a-ff4b65319bb4"
      },
      "execution_count": 26,
      "outputs": [
        {
          "output_type": "execute_result",
          "data": {
            "text/plain": [
              "<matplotlib.axes._subplots.AxesSubplot at 0x7f3ae8a50890>"
            ]
          },
          "metadata": {},
          "execution_count": 26
        },
        {
          "output_type": "display_data",
          "data": {
            "text/plain": [
              "<Figure size 432x288 with 1 Axes>"
            ],
            "image/png": "[encoded data removed]"
          },
          "metadata": {
            "needs_background": "light"
          }
        }
      ]
    },
    {
      "cell_type": "code",
      "source": [
        "df2['diff_metros'].plot(kind='box')"
      ],
      "metadata": {
        "colab": {
          "base_uri": "https://localhost:8080/",
          "height": 284
        },
        "id": "runLy5Sx63YP",
        "outputId": "a6ead9df-41c7-4577-99e8-44597e51431b"
      },
      "execution_count": 27,
      "outputs": [
        {
          "output_type": "execute_result",
          "data": {
            "text/plain": [
              "<matplotlib.axes._subplots.AxesSubplot at 0x7f3ae8906490>"
            ]
          },
          "metadata": {},
          "execution_count": 27
        },
        {
          "output_type": "display_data",
          "data": {
            "text/plain": [
              "<Figure size 432x288 with 1 Axes>"
            ],
            "image/png": "[encoded data removed]"
          },
          "metadata": {
            "needs_background": "light"
          }
        }
      ]
    },
    {
      "cell_type": "code",
      "source": [
        "fig, (ax1, ax2, ax3) = plt.subplots(3)\n",
        "ax1.scatter(df2['lat'],df2['lon'], c='green')\n",
        "ax1.scatter(df2['lat_pred'],df2['lon_pred'], c='red')\n",
        "#ax1.title('Mapa de comparação:')\n",
        "ax1.legend([\"reais\",\"preditas\"])\n",
        "\n",
        "ax2.scatter(df2['lat'],df2['lon'], c='green')\n",
        "#ax2.title('Reais:')\n",
        "\n",
        "ax3.scatter(df2['lat_pred'],df2['lon_pred'], c='red')\n",
        "#ax3.title('Preditas')\n",
        "\n",
        "\n",
        "fig.show()"
      ],
      "metadata": {
        "colab": {
          "base_uri": "https://localhost:8080/",
          "height": 264
        },
        "id": "Vw7B2WUi67pu",
        "outputId": "96f235c4-556a-4459-cbb2-90dd9e444849"
      },
      "execution_count": 28,
      "outputs": [
        {
          "output_type": "display_data",
          "data": {
            "text/plain": [
              "<Figure size 432x288 with 3 Axes>"
            ],
            "image/png": "[encoded data removed]"
          },
          "metadata": {
            "needs_background": "light"
          }
        }
      ]
    },
    {
      "cell_type": "markdown",
      "source": [
        "# Treinando um regressor usando sklearn"
      ],
      "metadata": {
        "id": "KjLtl8nIrxlL"
      }
    },
    {
      "cell_type": "markdown",
      "source": [
        "## Linear Regression"
      ],
      "metadata": {
        "id": "yrcrK9X2tGJ8"
      }
    },
    {
      "cell_type": "code",
      "source": [
        "from sklearn.linear_model import LinearRegression\n",
        "\n",
        "model = LinearRegression()"
      ],
      "metadata": {
        "id": "zqe3grcG5i7I"
      },
      "execution_count": 29,
      "outputs": []
    },
    {
      "cell_type": "code",
      "source": [
        "model.fit(x_train,Y_train)"
      ],
      "metadata": {
        "colab": {
          "base_uri": "https://localhost:8080/"
        },
        "id": "Hcy9z6UVeuRj",
        "outputId": "9286a792-24d7-4cf4-e41f-2f324cdefbd6"
      },
      "execution_count": 30,
      "outputs": [
        {
          "output_type": "execute_result",
          "data": {
            "text/plain": [
              "LinearRegression()"
            ]
          },
          "metadata": {},
          "execution_count": 30
        }
      ]
    },
    {
      "cell_type": "code",
      "source": [
        "Y_pred = model.predict(x_test)"
      ],
      "metadata": {
        "id": "RyVSPXeDe71J"
      },
      "execution_count": 31,
      "outputs": []
    },
    {
      "cell_type": "code",
      "source": [
        "model.score(x_test, Y_test)"
      ],
      "metadata": {
        "colab": {
          "base_uri": "https://localhost:8080/"
        },
        "id": "kajDTQ0lqDMm",
        "outputId": "981b78a2-2a6c-4b46-9192-7ab50ed36a26"
      },
      "execution_count": 32,
      "outputs": [
        {
          "output_type": "execute_result",
          "data": {
            "text/plain": [
              "0.4492156981326766"
            ]
          },
          "metadata": {},
          "execution_count": 32
        }
      ]
    },
    {
      "cell_type": "markdown",
      "source": [
        "## KneighborsRegressor"
      ],
      "metadata": {
        "id": "kIAQYQpmtN5r"
      }
    },
    {
      "cell_type": "code",
      "source": [
        "from sklearn.neighbors import KNeighborsRegressor\n",
        "model = KNeighborsRegressor()\n"
      ],
      "metadata": {
        "id": "Se_a5Ji2faGe"
      },
      "execution_count": 33,
      "outputs": []
    },
    {
      "cell_type": "code",
      "source": [
        "model.fit(x_train,Y_train)"
      ],
      "metadata": {
        "colab": {
          "base_uri": "https://localhost:8080/"
        },
        "id": "j2R_AAN0gEBu",
        "outputId": "9bea16d0-a6fc-4984-8456-2c950bac18a9"
      },
      "execution_count": 34,
      "outputs": [
        {
          "output_type": "execute_result",
          "data": {
            "text/plain": [
              "KNeighborsRegressor()"
            ]
          },
          "metadata": {},
          "execution_count": 34
        }
      ]
    },
    {
      "cell_type": "code",
      "source": [
        "Y_pred = model.predict(x_test)"
      ],
      "metadata": {
        "id": "TeyT7xSWgGR2"
      },
      "execution_count": 35,
      "outputs": []
    },
    {
      "cell_type": "code",
      "source": [
        "model.score(x_test, Y_test)"
      ],
      "metadata": {
        "colab": {
          "base_uri": "https://localhost:8080/"
        },
        "id": "5bUTLUmyqZPq",
        "outputId": "76eb0aec-4292-4fc0-ea4d-cc625379765a"
      },
      "execution_count": 36,
      "outputs": [
        {
          "output_type": "execute_result",
          "data": {
            "text/plain": [
              "0.9469968392812563"
            ]
          },
          "metadata": {},
          "execution_count": 36
        }
      ]
    },
    {
      "cell_type": "code",
      "source": [
        "print(Y_test)"
      ],
      "metadata": {
        "colab": {
          "base_uri": "https://localhost:8080/"
        },
        "id": "Y8OS0axUw9Sx",
        "outputId": "56ae75e3-e812-413d-ba01-b886239ca2cd"
      },
      "execution_count": 37,
      "outputs": [
        {
          "output_type": "stream",
          "name": "stdout",
          "text": [
            "           lat        lon\n",
            "1197 -8.063300 -34.888748\n",
            "1198 -8.073273 -34.896534\n",
            "1199 -8.072737 -34.896683\n",
            "1200 -8.072272 -34.896671\n",
            "1201 -8.062998 -34.897293\n",
            "...        ...        ...\n",
            "1495 -8.073855 -34.898685\n",
            "1496 -8.065498 -34.886887\n",
            "1497 -8.067300 -34.893856\n",
            "1498 -8.069776 -34.897877\n",
            "1499 -8.063534 -34.894882\n",
            "\n",
            "[302 rows x 2 columns]\n"
          ]
        }
      ]
    },
    {
      "cell_type": "code",
      "source": [
        "df2 = Y_test.copy()"
      ],
      "metadata": {
        "id": "A1ZbE52wxhNQ"
      },
      "execution_count": 39,
      "outputs": []
    },
    {
      "cell_type": "code",
      "source": [
        "df2['lat_pred'] = [lat for lat,_ in Y_pred]\n",
        "df2['lon_pred'] = [lon for _,lon in Y_pred]"
      ],
      "metadata": {
        "id": "d0qtngCtxyND"
      },
      "execution_count": 40,
      "outputs": []
    },
    {
      "cell_type": "code",
      "source": [
        "df2.head()"
      ],
      "metadata": {
        "colab": {
          "base_uri": "https://localhost:8080/",
          "height": 206
        },
        "id": "Fum_lespySJz",
        "outputId": "8c2b4f6d-d480-4017-c5d6-1afab57284d0"
      },
      "execution_count": 41,
      "outputs": [
        {
          "output_type": "execute_result",
          "data": {
            "text/plain": [
              "           lat        lon  lat_pred   lon_pred\n",
              "1197 -8.063300 -34.888748 -8.062676 -34.888401\n",
              "1198 -8.073273 -34.896534 -8.073425 -34.897158\n",
              "1199 -8.072737 -34.896683 -8.072295 -34.896599\n",
              "1200 -8.072272 -34.896671 -8.072301 -34.896546\n",
              "1201 -8.062998 -34.897293 -8.063231 -34.897045"
            ],
            "text/html": [
              "\n",
              "  <div id=\"df-5618a840-59f8-452a-926a-c98c0a215912\">\n",
              "    <div class=\"colab-df-container\">\n",
              "      <div>\n",
              "<style scoped>\n",
              "    .dataframe tbody tr th:only-of-type {\n",
              "        vertical-align: middle;\n",
              "    }\n",
              "\n",
              "    .dataframe tbody tr th {\n",
              "        vertical-align: top;\n",
              "    }\n",
              "\n",
              "    .dataframe thead th {\n",
              "        text-align: right;\n",
              "    }\n",
              "</style>\n",
              "<table border=\"1\" class=\"dataframe\">\n",
              "  <thead>\n",
              "    <tr style=\"text-align: right;\">\n",
              "      <th></th>\n",
              "      <th>lat</th>\n",
              "      <th>lon</th>\n",
              "      <th>lat_pred</th>\n",
              "      <th>lon_pred</th>\n",
              "    </tr>\n",
              "  </thead>\n",
              "  <tbody>\n",
              "    <tr>\n",
              "      <th>1197</th>\n",
              "      <td>-8.063300</td>\n",
              "      <td>-34.888748</td>\n",
              "      <td>-8.062676</td>\n",
              "      <td>-34.888401</td>\n",
              "    </tr>\n",
              "    <tr>\n",
              "      <th>1198</th>\n",
              "      <td>-8.073273</td>\n",
              "      <td>-34.896534</td>\n",
              "      <td>-8.073425</td>\n",
              "      <td>-34.897158</td>\n",
              "    </tr>\n",
              "    <tr>\n",
              "      <th>1199</th>\n",
              "      <td>-8.072737</td>\n",
              "      <td>-34.896683</td>\n",
              "      <td>-8.072295</td>\n",
              "      <td>-34.896599</td>\n",
              "    </tr>\n",
              "    <tr>\n",
              "      <th>1200</th>\n",
              "      <td>-8.072272</td>\n",
              "      <td>-34.896671</td>\n",
              "      <td>-8.072301</td>\n",
              "      <td>-34.896546</td>\n",
              "    </tr>\n",
              "    <tr>\n",
              "      <th>1201</th>\n",
              "      <td>-8.062998</td>\n",
              "      <td>-34.897293</td>\n",
              "      <td>-8.063231</td>\n",
              "      <td>-34.897045</td>\n",
              "    </tr>\n",
              "  </tbody>\n",
              "</table>\n",
              "</div>\n",
              "      <button class=\"colab-df-convert\" onclick=\"convertToInteractive('df-5618a840-59f8-452a-926a-c98c0a215912')\"\n",
              "              title=\"Convert this dataframe to an interactive table.\"\n",
              "              style=\"display:none;\">\n",
              "        \n",
              "  <svg xmlns=\"http://www.w3.org/2000/svg\" height=\"24px\"viewBox=\"0 0 24 24\"\n",
              "       width=\"24px\">\n",
              "    <path d=\"M0 0h24v24H0V0z\" fill=\"none\"/>\n",
              "    <path d=\"M18.56 5.44l.94 2.06.94-2.06 2.06-.94-2.06-.94-.94-2.06-.94 2.06-2.06.94zm-11 1L8.5 8.5l.94-2.06 2.06-.94-2.06-.94L8.5 2.5l-.94 2.06-2.06.94zm10 10l.94 2.06.94-2.06 2.06-.94-2.06-.94-.94-2.06-.94 2.06-2.06.94z\"/><path d=\"M17.41 7.96l-1.37-1.37c-.4-.4-.92-.59-1.43-.59-.52 0-1.04.2-1.43.59L10.3 9.45l-7.72 7.72c-.78.78-.78 2.05 0 2.83L4 21.41c.39.39.9.59 1.41.59.51 0 1.02-.2 1.41-.59l7.78-7.78 2.81-2.81c.8-.78.8-2.07 0-2.86zM5.41 20L4 18.59l7.72-7.72 1.47 1.35L5.41 20z\"/>\n",
              "  </svg>\n",
              "      </button>\n",
              "      \n",
              "  <style>\n",
              "    .colab-df-container {\n",
              "      display:flex;\n",
              "      flex-wrap:wrap;\n",
              "      gap: 12px;\n",
              "    }\n",
              "\n",
              "    .colab-df-convert {\n",
              "      background-color: #E8F0FE;\n",
              "      border: none;\n",
              "      border-radius: 50%;\n",
              "      cursor: pointer;\n",
              "      display: none;\n",
              "      fill: #1967D2;\n",
              "      height: 32px;\n",
              "      padding: 0 0 0 0;\n",
              "      width: 32px;\n",
              "    }\n",
              "\n",
              "    .colab-df-convert:hover {\n",
              "      background-color: #E2EBFA;\n",
              "      box-shadow: 0px 1px 2px rgba(60, 64, 67, 0.3), 0px 1px 3px 1px rgba(60, 64, 67, 0.15);\n",
              "      fill: #174EA6;\n",
              "    }\n",
              "\n",
              "    [theme=dark] .colab-df-convert {\n",
              "      background-color: #3B4455;\n",
              "      fill: #D2E3FC;\n",
              "    }\n",
              "\n",
              "    [theme=dark] .colab-df-convert:hover {\n",
              "      background-color: #434B5C;\n",
              "      box-shadow: 0px 1px 3px 1px rgba(0, 0, 0, 0.15);\n",
              "      filter: drop-shadow(0px 1px 2px rgba(0, 0, 0, 0.3));\n",
              "      fill: #FFFFFF;\n",
              "    }\n",
              "  </style>\n",
              "\n",
              "      <script>\n",
              "        const buttonEl =\n",
              "          document.querySelector('#df-5618a840-59f8-452a-926a-c98c0a215912 button.colab-df-convert');\n",
              "        buttonEl.style.display =\n",
              "          google.colab.kernel.accessAllowed ? 'block' : 'none';\n",
              "\n",
              "        async function convertToInteractive(key) {\n",
              "          const element = document.querySelector('#df-5618a840-59f8-452a-926a-c98c0a215912');\n",
              "          const dataTable =\n",
              "            await google.colab.kernel.invokeFunction('convertToInteractive',\n",
              "                                                     [key], {});\n",
              "          if (!dataTable) return;\n",
              "\n",
              "          const docLinkHtml = 'Like what you see? Visit the ' +\n",
              "            '<a target=\"_blank\" href=https://colab.research.google.com/notebooks/data_table.ipynb>data table notebook</a>'\n",
              "            + ' to learn more about interactive tables.';\n",
              "          element.innerHTML = '';\n",
              "          dataTable['output_type'] = 'display_data';\n",
              "          await google.colab.output.renderOutput(dataTable, element);\n",
              "          const docLink = document.createElement('div');\n",
              "          docLink.innerHTML = docLinkHtml;\n",
              "          element.appendChild(docLink);\n",
              "        }\n",
              "      </script>\n",
              "    </div>\n",
              "  </div>\n",
              "  "
            ]
          },
          "metadata": {},
          "execution_count": 41
        }
      ]
    },
    {
      "cell_type": "code",
      "source": [
        "df2['lat_diff'] = df2['lat'] - df2['lat_pred']\n",
        "df2['lon_diff'] = df2['lon'] - df2['lon_pred']"
      ],
      "metadata": {
        "id": "GzciB1zByYXl"
      },
      "execution_count": 42,
      "outputs": []
    },
    {
      "cell_type": "code",
      "source": [
        "df2.head()"
      ],
      "metadata": {
        "colab": {
          "base_uri": "https://localhost:8080/",
          "height": 206
        },
        "id": "_kR9cZzFyrhr",
        "outputId": "9d400a68-3a94-40f3-a330-240d51eb5e44"
      },
      "execution_count": 43,
      "outputs": [
        {
          "output_type": "execute_result",
          "data": {
            "text/plain": [
              "           lat        lon  lat_pred   lon_pred  lat_diff  lon_diff\n",
              "1197 -8.063300 -34.888748 -8.062676 -34.888401 -0.000624 -0.000347\n",
              "1198 -8.073273 -34.896534 -8.073425 -34.897158  0.000152  0.000624\n",
              "1199 -8.072737 -34.896683 -8.072295 -34.896599 -0.000442 -0.000084\n",
              "1200 -8.072272 -34.896671 -8.072301 -34.896546  0.000029 -0.000125\n",
              "1201 -8.062998 -34.897293 -8.063231 -34.897045  0.000233 -0.000248"
            ],
            "text/html": [
              "\n",
              "  <div id=\"df-715f95d5-dd4a-4b9c-8b25-be2a3581e626\">\n",
              "    <div class=\"colab-df-container\">\n",
              "      <div>\n",
              "<style scoped>\n",
              "    .dataframe tbody tr th:only-of-type {\n",
              "        vertical-align: middle;\n",
              "    }\n",
              "\n",
              "    .dataframe tbody tr th {\n",
              "        vertical-align: top;\n",
              "    }\n",
              "\n",
              "    .dataframe thead th {\n",
              "        text-align: right;\n",
              "    }\n",
              "</style>\n",
              "<table border=\"1\" class=\"dataframe\">\n",
              "  <thead>\n",
              "    <tr style=\"text-align: right;\">\n",
              "      <th></th>\n",
              "      <th>lat</th>\n",
              "      <th>lon</th>\n",
              "      <th>lat_pred</th>\n",
              "      <th>lon_pred</th>\n",
              "      <th>lat_diff</th>\n",
              "      <th>lon_diff</th>\n",
              "    </tr>\n",
              "  </thead>\n",
              "  <tbody>\n",
              "    <tr>\n",
              "      <th>1197</th>\n",
              "      <td>-8.063300</td>\n",
              "      <td>-34.888748</td>\n",
              "      <td>-8.062676</td>\n",
              "      <td>-34.888401</td>\n",
              "      <td>-0.000624</td>\n",
              "      <td>-0.000347</td>\n",
              "    </tr>\n",
              "    <tr>\n",
              "      <th>1198</th>\n",
              "      <td>-8.073273</td>\n",
              "      <td>-34.896534</td>\n",
              "      <td>-8.073425</td>\n",
              "      <td>-34.897158</td>\n",
              "      <td>0.000152</td>\n",
              "      <td>0.000624</td>\n",
              "    </tr>\n",
              "    <tr>\n",
              "      <th>1199</th>\n",
              "      <td>-8.072737</td>\n",
              "      <td>-34.896683</td>\n",
              "      <td>-8.072295</td>\n",
              "      <td>-34.896599</td>\n",
              "      <td>-0.000442</td>\n",
              "      <td>-0.000084</td>\n",
              "    </tr>\n",
              "    <tr>\n",
              "      <th>1200</th>\n",
              "      <td>-8.072272</td>\n",
              "      <td>-34.896671</td>\n",
              "      <td>-8.072301</td>\n",
              "      <td>-34.896546</td>\n",
              "      <td>0.000029</td>\n",
              "      <td>-0.000125</td>\n",
              "    </tr>\n",
              "    <tr>\n",
              "      <th>1201</th>\n",
              "      <td>-8.062998</td>\n",
              "      <td>-34.897293</td>\n",
              "      <td>-8.063231</td>\n",
              "      <td>-34.897045</td>\n",
              "      <td>0.000233</td>\n",
              "      <td>-0.000248</td>\n",
              "    </tr>\n",
              "  </tbody>\n",
              "</table>\n",
              "</div>\n",
              "      <button class=\"colab-df-convert\" onclick=\"convertToInteractive('df-715f95d5-dd4a-4b9c-8b25-be2a3581e626')\"\n",
              "              title=\"Convert this dataframe to an interactive table.\"\n",
              "              style=\"display:none;\">\n",
              "        \n",
              "  <svg xmlns=\"http://www.w3.org/2000/svg\" height=\"24px\"viewBox=\"0 0 24 24\"\n",
              "       width=\"24px\">\n",
              "    <path d=\"M0 0h24v24H0V0z\" fill=\"none\"/>\n",
              "    <path d=\"M18.56 5.44l.94 2.06.94-2.06 2.06-.94-2.06-.94-.94-2.06-.94 2.06-2.06.94zm-11 1L8.5 8.5l.94-2.06 2.06-.94-2.06-.94L8.5 2.5l-.94 2.06-2.06.94zm10 10l.94 2.06.94-2.06 2.06-.94-2.06-.94-.94-2.06-.94 2.06-2.06.94z\"/><path d=\"M17.41 7.96l-1.37-1.37c-.4-.4-.92-.59-1.43-.59-.52 0-1.04.2-1.43.59L10.3 9.45l-7.72 7.72c-.78.78-.78 2.05 0 2.83L4 21.41c.39.39.9.59 1.41.59.51 0 1.02-.2 1.41-.59l7.78-7.78 2.81-2.81c.8-.78.8-2.07 0-2.86zM5.41 20L4 18.59l7.72-7.72 1.47 1.35L5.41 20z\"/>\n",
              "  </svg>\n",
              "      </button>\n",
              "      \n",
              "  <style>\n",
              "    .colab-df-container {\n",
              "      display:flex;\n",
              "      flex-wrap:wrap;\n",
              "      gap: 12px;\n",
              "    }\n",
              "\n",
              "    .colab-df-convert {\n",
              "      background-color: #E8F0FE;\n",
              "      border: none;\n",
              "      border-radius: 50%;\n",
              "      cursor: pointer;\n",
              "      display: none;\n",
              "      fill: #1967D2;\n",
              "      height: 32px;\n",
              "      padding: 0 0 0 0;\n",
              "      width: 32px;\n",
              "    }\n",
              "\n",
              "    .colab-df-convert:hover {\n",
              "      background-color: #E2EBFA;\n",
              "      box-shadow: 0px 1px 2px rgba(60, 64, 67, 0.3), 0px 1px 3px 1px rgba(60, 64, 67, 0.15);\n",
              "      fill: #174EA6;\n",
              "    }\n",
              "\n",
              "    [theme=dark] .colab-df-convert {\n",
              "      background-color: #3B4455;\n",
              "      fill: #D2E3FC;\n",
              "    }\n",
              "\n",
              "    [theme=dark] .colab-df-convert:hover {\n",
              "      background-color: #434B5C;\n",
              "      box-shadow: 0px 1px 3px 1px rgba(0, 0, 0, 0.15);\n",
              "      filter: drop-shadow(0px 1px 2px rgba(0, 0, 0, 0.3));\n",
              "      fill: #FFFFFF;\n",
              "    }\n",
              "  </style>\n",
              "\n",
              "      <script>\n",
              "        const buttonEl =\n",
              "          document.querySelector('#df-715f95d5-dd4a-4b9c-8b25-be2a3581e626 button.colab-df-convert');\n",
              "        buttonEl.style.display =\n",
              "          google.colab.kernel.accessAllowed ? 'block' : 'none';\n",
              "\n",
              "        async function convertToInteractive(key) {\n",
              "          const element = document.querySelector('#df-715f95d5-dd4a-4b9c-8b25-be2a3581e626');\n",
              "          const dataTable =\n",
              "            await google.colab.kernel.invokeFunction('convertToInteractive',\n",
              "                                                     [key], {});\n",
              "          if (!dataTable) return;\n",
              "\n",
              "          const docLinkHtml = 'Like what you see? Visit the ' +\n",
              "            '<a target=\"_blank\" href=https://colab.research.google.com/notebooks/data_table.ipynb>data table notebook</a>'\n",
              "            + ' to learn more about interactive tables.';\n",
              "          element.innerHTML = '';\n",
              "          dataTable['output_type'] = 'display_data';\n",
              "          await google.colab.output.renderOutput(dataTable, element);\n",
              "          const docLink = document.createElement('div');\n",
              "          docLink.innerHTML = docLinkHtml;\n",
              "          element.appendChild(docLink);\n",
              "        }\n",
              "      </script>\n",
              "    </div>\n",
              "  </div>\n",
              "  "
            ]
          },
          "metadata": {},
          "execution_count": 43
        }
      ]
    },
    {
      "cell_type": "code",
      "source": [
        "df2.describe()"
      ],
      "metadata": {
        "colab": {
          "base_uri": "https://localhost:8080/",
          "height": 300
        },
        "id": "n7NSQrs0y0sM",
        "outputId": "1e10e412-c921-4b6f-80a5-a517aa3ec171"
      },
      "execution_count": 44,
      "outputs": [
        {
          "output_type": "execute_result",
          "data": {
            "text/plain": [
              "              lat         lon    lat_pred    lon_pred    lat_diff    lon_diff\n",
              "count  302.000000  302.000000  302.000000  302.000000  302.000000  302.000000\n",
              "mean    -8.070061  -34.895115   -8.070158  -34.895156    0.000097    0.000041\n",
              "std      0.004441    0.004547    0.004331    0.004288    0.000847    0.001195\n",
              "min     -8.077541  -34.906830   -8.077450  -34.904887   -0.004059   -0.007669\n",
              "25%     -8.073686  -34.898548   -8.073796  -34.898349   -0.000246   -0.000264\n",
              "50%     -8.070069  -34.895865   -8.070190  -34.896095    0.000053   -0.000002\n",
              "75%     -8.066989  -34.891205   -8.067003  -34.891778    0.000374    0.000365\n",
              "max     -8.059339  -34.885319   -8.060262  -34.885755    0.003343    0.007748"
            ],
            "text/html": [
              "\n",
              "  <div id=\"df-ebe3af7b-2367-45d7-bb26-fbcc589be824\">\n",
              "    <div class=\"colab-df-container\">\n",
              "      <div>\n",
              "<style scoped>\n",
              "    .dataframe tbody tr th:only-of-type {\n",
              "        vertical-align: middle;\n",
              "    }\n",
              "\n",
              "    .dataframe tbody tr th {\n",
              "        vertical-align: top;\n",
              "    }\n",
              "\n",
              "    .dataframe thead th {\n",
              "        text-align: right;\n",
              "    }\n",
              "</style>\n",
              "<table border=\"1\" class=\"dataframe\">\n",
              "  <thead>\n",
              "    <tr style=\"text-align: right;\">\n",
              "      <th></th>\n",
              "      <th>lat</th>\n",
              "      <th>lon</th>\n",
              "      <th>lat_pred</th>\n",
              "      <th>lon_pred</th>\n",
              "      <th>lat_diff</th>\n",
              "      <th>lon_diff</th>\n",
              "    </tr>\n",
              "  </thead>\n",
              "  <tbody>\n",
              "    <tr>\n",
              "      <th>count</th>\n",
              "      <td>302.000000</td>\n",
              "      <td>302.000000</td>\n",
              "      <td>302.000000</td>\n",
              "      <td>302.000000</td>\n",
              "      <td>302.000000</td>\n",
              "      <td>302.000000</td>\n",
              "    </tr>\n",
              "    <tr>\n",
              "      <th>mean</th>\n",
              "      <td>-8.070061</td>\n",
              "      <td>-34.895115</td>\n",
              "      <td>-8.070158</td>\n",
              "      <td>-34.895156</td>\n",
              "      <td>0.000097</td>\n",
              "      <td>0.000041</td>\n",
              "    </tr>\n",
              "    <tr>\n",
              "      <th>std</th>\n",
              "      <td>0.004441</td>\n",
              "      <td>0.004547</td>\n",
              "      <td>0.004331</td>\n",
              "      <td>0.004288</td>\n",
              "      <td>0.000847</td>\n",
              "      <td>0.001195</td>\n",
              "    </tr>\n",
              "    <tr>\n",
              "      <th>min</th>\n",
              "      <td>-8.077541</td>\n",
              "      <td>-34.906830</td>\n",
              "      <td>-8.077450</td>\n",
              "      <td>-34.904887</td>\n",
              "      <td>-0.004059</td>\n",
              "      <td>-0.007669</td>\n",
              "    </tr>\n",
              "    <tr>\n",
              "      <th>25%</th>\n",
              "      <td>-8.073686</td>\n",
              "      <td>-34.898548</td>\n",
              "      <td>-8.073796</td>\n",
              "      <td>-34.898349</td>\n",
              "      <td>-0.000246</td>\n",
              "      <td>-0.000264</td>\n",
              "    </tr>\n",
              "    <tr>\n",
              "      <th>50%</th>\n",
              "      <td>-8.070069</td>\n",
              "      <td>-34.895865</td>\n",
              "      <td>-8.070190</td>\n",
              "      <td>-34.896095</td>\n",
              "      <td>0.000053</td>\n",
              "      <td>-0.000002</td>\n",
              "    </tr>\n",
              "    <tr>\n",
              "      <th>75%</th>\n",
              "      <td>-8.066989</td>\n",
              "      <td>-34.891205</td>\n",
              "      <td>-8.067003</td>\n",
              "      <td>-34.891778</td>\n",
              "      <td>0.000374</td>\n",
              "      <td>0.000365</td>\n",
              "    </tr>\n",
              "    <tr>\n",
              "      <th>max</th>\n",
              "      <td>-8.059339</td>\n",
              "      <td>-34.885319</td>\n",
              "      <td>-8.060262</td>\n",
              "      <td>-34.885755</td>\n",
              "      <td>0.003343</td>\n",
              "      <td>0.007748</td>\n",
              "    </tr>\n",
              "  </tbody>\n",
              "</table>\n",
              "</div>\n",
              "      <button class=\"colab-df-convert\" onclick=\"convertToInteractive('df-ebe3af7b-2367-45d7-bb26-fbcc589be824')\"\n",
              "              title=\"Convert this dataframe to an interactive table.\"\n",
              "              style=\"display:none;\">\n",
              "        \n",
              "  <svg xmlns=\"http://www.w3.org/2000/svg\" height=\"24px\"viewBox=\"0 0 24 24\"\n",
              "       width=\"24px\">\n",
              "    <path d=\"M0 0h24v24H0V0z\" fill=\"none\"/>\n",
              "    <path d=\"M18.56 5.44l.94 2.06.94-2.06 2.06-.94-2.06-.94-.94-2.06-.94 2.06-2.06.94zm-11 1L8.5 8.5l.94-2.06 2.06-.94-2.06-.94L8.5 2.5l-.94 2.06-2.06.94zm10 10l.94 2.06.94-2.06 2.06-.94-2.06-.94-.94-2.06-.94 2.06-2.06.94z\"/><path d=\"M17.41 7.96l-1.37-1.37c-.4-.4-.92-.59-1.43-.59-.52 0-1.04.2-1.43.59L10.3 9.45l-7.72 7.72c-.78.78-.78 2.05 0 2.83L4 21.41c.39.39.9.59 1.41.59.51 0 1.02-.2 1.41-.59l7.78-7.78 2.81-2.81c.8-.78.8-2.07 0-2.86zM5.41 20L4 18.59l7.72-7.72 1.47 1.35L5.41 20z\"/>\n",
              "  </svg>\n",
              "      </button>\n",
              "      \n",
              "  <style>\n",
              "    .colab-df-container {\n",
              "      display:flex;\n",
              "      flex-wrap:wrap;\n",
              "      gap: 12px;\n",
              "    }\n",
              "\n",
              "    .colab-df-convert {\n",
              "      background-color: #E8F0FE;\n",
              "      border: none;\n",
              "      border-radius: 50%;\n",
              "      cursor: pointer;\n",
              "      display: none;\n",
              "      fill: #1967D2;\n",
              "      height: 32px;\n",
              "      padding: 0 0 0 0;\n",
              "      width: 32px;\n",
              "    }\n",
              "\n",
              "    .colab-df-convert:hover {\n",
              "      background-color: #E2EBFA;\n",
              "      box-shadow: 0px 1px 2px rgba(60, 64, 67, 0.3), 0px 1px 3px 1px rgba(60, 64, 67, 0.15);\n",
              "      fill: #174EA6;\n",
              "    }\n",
              "\n",
              "    [theme=dark] .colab-df-convert {\n",
              "      background-color: #3B4455;\n",
              "      fill: #D2E3FC;\n",
              "    }\n",
              "\n",
              "    [theme=dark] .colab-df-convert:hover {\n",
              "      background-color: #434B5C;\n",
              "      box-shadow: 0px 1px 3px 1px rgba(0, 0, 0, 0.15);\n",
              "      filter: drop-shadow(0px 1px 2px rgba(0, 0, 0, 0.3));\n",
              "      fill: #FFFFFF;\n",
              "    }\n",
              "  </style>\n",
              "\n",
              "      <script>\n",
              "        const buttonEl =\n",
              "          document.querySelector('#df-ebe3af7b-2367-45d7-bb26-fbcc589be824 button.colab-df-convert');\n",
              "        buttonEl.style.display =\n",
              "          google.colab.kernel.accessAllowed ? 'block' : 'none';\n",
              "\n",
              "        async function convertToInteractive(key) {\n",
              "          const element = document.querySelector('#df-ebe3af7b-2367-45d7-bb26-fbcc589be824');\n",
              "          const dataTable =\n",
              "            await google.colab.kernel.invokeFunction('convertToInteractive',\n",
              "                                                     [key], {});\n",
              "          if (!dataTable) return;\n",
              "\n",
              "          const docLinkHtml = 'Like what you see? Visit the ' +\n",
              "            '<a target=\"_blank\" href=https://colab.research.google.com/notebooks/data_table.ipynb>data table notebook</a>'\n",
              "            + ' to learn more about interactive tables.';\n",
              "          element.innerHTML = '';\n",
              "          dataTable['output_type'] = 'display_data';\n",
              "          await google.colab.output.renderOutput(dataTable, element);\n",
              "          const docLink = document.createElement('div');\n",
              "          docLink.innerHTML = docLinkHtml;\n",
              "          element.appendChild(docLink);\n",
              "        }\n",
              "      </script>\n",
              "    </div>\n",
              "  </div>\n",
              "  "
            ]
          },
          "metadata": {},
          "execution_count": 44
        }
      ]
    },
    {
      "cell_type": "markdown",
      "source": [
        "Como calcular a distancia em metros entre duas coordenadas geograficas????\n",
        "\n",
        "https://www.pilotopolicial.com.br/como-calcular-a-precisao-de-uma-coordenada-geografica/"
      ],
      "metadata": {
        "id": "DnV2hhAJzd_f"
      }
    },
    {
      "cell_type": "code",
      "source": [
        "df2['lat_diff'] = df2['lat_diff'] *1000\n",
        "df2['lon_diff'] = df2['lon_diff'] *1000"
      ],
      "metadata": {
        "id": "iksn2RUCzcuN"
      },
      "execution_count": 45,
      "outputs": []
    },
    {
      "cell_type": "code",
      "source": [
        "df2.head()"
      ],
      "metadata": {
        "colab": {
          "base_uri": "https://localhost:8080/",
          "height": 206
        },
        "id": "TFmMql31zsQj",
        "outputId": "6f7f567f-fde5-4667-ba75-aa7b7bea99b6"
      },
      "execution_count": 46,
      "outputs": [
        {
          "output_type": "execute_result",
          "data": {
            "text/plain": [
              "           lat        lon  lat_pred   lon_pred  lat_diff  lon_diff\n",
              "1197 -8.063300 -34.888748 -8.062676 -34.888401   -0.6242   -0.3472\n",
              "1198 -8.073273 -34.896534 -8.073425 -34.897158    0.1524    0.6240\n",
              "1199 -8.072737 -34.896683 -8.072295 -34.896599   -0.4418   -0.0842\n",
              "1200 -8.072272 -34.896671 -8.072301 -34.896546    0.0286   -0.1250\n",
              "1201 -8.062998 -34.897293 -8.063231 -34.897045    0.2326   -0.2478"
            ],
            "text/html": [
              "\n",
              "  <div id=\"df-c52f1548-2a65-4acd-a6b2-d493137dec19\">\n",
              "    <div class=\"colab-df-container\">\n",
              "      <div>\n",
              "<style scoped>\n",
              "    .dataframe tbody tr th:only-of-type {\n",
              "        vertical-align: middle;\n",
              "    }\n",
              "\n",
              "    .dataframe tbody tr th {\n",
              "        vertical-align: top;\n",
              "    }\n",
              "\n",
              "    .dataframe thead th {\n",
              "        text-align: right;\n",
              "    }\n",
              "</style>\n",
              "<table border=\"1\" class=\"dataframe\">\n",
              "  <thead>\n",
              "    <tr style=\"text-align: right;\">\n",
              "      <th></th>\n",
              "      <th>lat</th>\n",
              "      <th>lon</th>\n",
              "      <th>lat_pred</th>\n",
              "      <th>lon_pred</th>\n",
              "      <th>lat_diff</th>\n",
              "      <th>lon_diff</th>\n",
              "    </tr>\n",
              "  </thead>\n",
              "  <tbody>\n",
              "    <tr>\n",
              "      <th>1197</th>\n",
              "      <td>-8.063300</td>\n",
              "      <td>-34.888748</td>\n",
              "      <td>-8.062676</td>\n",
              "      <td>-34.888401</td>\n",
              "      <td>-0.6242</td>\n",
              "      <td>-0.3472</td>\n",
              "    </tr>\n",
              "    <tr>\n",
              "      <th>1198</th>\n",
              "      <td>-8.073273</td>\n",
              "      <td>-34.896534</td>\n",
              "      <td>-8.073425</td>\n",
              "      <td>-34.897158</td>\n",
              "      <td>0.1524</td>\n",
              "      <td>0.6240</td>\n",
              "    </tr>\n",
              "    <tr>\n",
              "      <th>1199</th>\n",
              "      <td>-8.072737</td>\n",
              "      <td>-34.896683</td>\n",
              "      <td>-8.072295</td>\n",
              "      <td>-34.896599</td>\n",
              "      <td>-0.4418</td>\n",
              "      <td>-0.0842</td>\n",
              "    </tr>\n",
              "    <tr>\n",
              "      <th>1200</th>\n",
              "      <td>-8.072272</td>\n",
              "      <td>-34.896671</td>\n",
              "      <td>-8.072301</td>\n",
              "      <td>-34.896546</td>\n",
              "      <td>0.0286</td>\n",
              "      <td>-0.1250</td>\n",
              "    </tr>\n",
              "    <tr>\n",
              "      <th>1201</th>\n",
              "      <td>-8.062998</td>\n",
              "      <td>-34.897293</td>\n",
              "      <td>-8.063231</td>\n",
              "      <td>-34.897045</td>\n",
              "      <td>0.2326</td>\n",
              "      <td>-0.2478</td>\n",
              "    </tr>\n",
              "  </tbody>\n",
              "</table>\n",
              "</div>\n",
              "      <button class=\"colab-df-convert\" onclick=\"convertToInteractive('df-c52f1548-2a65-4acd-a6b2-d493137dec19')\"\n",
              "              title=\"Convert this dataframe to an interactive table.\"\n",
              "              style=\"display:none;\">\n",
              "        \n",
              "  <svg xmlns=\"http://www.w3.org/2000/svg\" height=\"24px\"viewBox=\"0 0 24 24\"\n",
              "       width=\"24px\">\n",
              "    <path d=\"M0 0h24v24H0V0z\" fill=\"none\"/>\n",
              "    <path d=\"M18.56 5.44l.94 2.06.94-2.06 2.06-.94-2.06-.94-.94-2.06-.94 2.06-2.06.94zm-11 1L8.5 8.5l.94-2.06 2.06-.94-2.06-.94L8.5 2.5l-.94 2.06-2.06.94zm10 10l.94 2.06.94-2.06 2.06-.94-2.06-.94-.94-2.06-.94 2.06-2.06.94z\"/><path d=\"M17.41 7.96l-1.37-1.37c-.4-.4-.92-.59-1.43-.59-.52 0-1.04.2-1.43.59L10.3 9.45l-7.72 7.72c-.78.78-.78 2.05 0 2.83L4 21.41c.39.39.9.59 1.41.59.51 0 1.02-.2 1.41-.59l7.78-7.78 2.81-2.81c.8-.78.8-2.07 0-2.86zM5.41 20L4 18.59l7.72-7.72 1.47 1.35L5.41 20z\"/>\n",
              "  </svg>\n",
              "      </button>\n",
              "      \n",
              "  <style>\n",
              "    .colab-df-container {\n",
              "      display:flex;\n",
              "      flex-wrap:wrap;\n",
              "      gap: 12px;\n",
              "    }\n",
              "\n",
              "    .colab-df-convert {\n",
              "      background-color: #E8F0FE;\n",
              "      border: none;\n",
              "      border-radius: 50%;\n",
              "      cursor: pointer;\n",
              "      display: none;\n",
              "      fill: #1967D2;\n",
              "      height: 32px;\n",
              "      padding: 0 0 0 0;\n",
              "      width: 32px;\n",
              "    }\n",
              "\n",
              "    .colab-df-convert:hover {\n",
              "      background-color: #E2EBFA;\n",
              "      box-shadow: 0px 1px 2px rgba(60, 64, 67, 0.3), 0px 1px 3px 1px rgba(60, 64, 67, 0.15);\n",
              "      fill: #174EA6;\n",
              "    }\n",
              "\n",
              "    [theme=dark] .colab-df-convert {\n",
              "      background-color: #3B4455;\n",
              "      fill: #D2E3FC;\n",
              "    }\n",
              "\n",
              "    [theme=dark] .colab-df-convert:hover {\n",
              "      background-color: #434B5C;\n",
              "      box-shadow: 0px 1px 3px 1px rgba(0, 0, 0, 0.15);\n",
              "      filter: drop-shadow(0px 1px 2px rgba(0, 0, 0, 0.3));\n",
              "      fill: #FFFFFF;\n",
              "    }\n",
              "  </style>\n",
              "\n",
              "      <script>\n",
              "        const buttonEl =\n",
              "          document.querySelector('#df-c52f1548-2a65-4acd-a6b2-d493137dec19 button.colab-df-convert');\n",
              "        buttonEl.style.display =\n",
              "          google.colab.kernel.accessAllowed ? 'block' : 'none';\n",
              "\n",
              "        async function convertToInteractive(key) {\n",
              "          const element = document.querySelector('#df-c52f1548-2a65-4acd-a6b2-d493137dec19');\n",
              "          const dataTable =\n",
              "            await google.colab.kernel.invokeFunction('convertToInteractive',\n",
              "                                                     [key], {});\n",
              "          if (!dataTable) return;\n",
              "\n",
              "          const docLinkHtml = 'Like what you see? Visit the ' +\n",
              "            '<a target=\"_blank\" href=https://colab.research.google.com/notebooks/data_table.ipynb>data table notebook</a>'\n",
              "            + ' to learn more about interactive tables.';\n",
              "          element.innerHTML = '';\n",
              "          dataTable['output_type'] = 'display_data';\n",
              "          await google.colab.output.renderOutput(dataTable, element);\n",
              "          const docLink = document.createElement('div');\n",
              "          docLink.innerHTML = docLinkHtml;\n",
              "          element.appendChild(docLink);\n",
              "        }\n",
              "      </script>\n",
              "    </div>\n",
              "  </div>\n",
              "  "
            ]
          },
          "metadata": {},
          "execution_count": 46
        }
      ]
    },
    {
      "cell_type": "code",
      "source": [
        "df2['lat_diff_metros'] = df2['lat_diff'] * 30.87 \n",
        "df2['lon_diff_metros'] = df2['lon_diff'] * 30.87"
      ],
      "metadata": {
        "id": "IQHb5GHJ0GLE"
      },
      "execution_count": 47,
      "outputs": []
    },
    {
      "cell_type": "code",
      "source": [
        "df2.head()"
      ],
      "metadata": {
        "colab": {
          "base_uri": "https://localhost:8080/",
          "height": 206
        },
        "id": "4aLmXLBu0aN6",
        "outputId": "876a01f8-d01d-4c54-ba6a-332151f93784"
      },
      "execution_count": 48,
      "outputs": [
        {
          "output_type": "execute_result",
          "data": {
            "text/plain": [
              "           lat        lon  lat_pred   lon_pred  lat_diff  lon_diff  \\\n",
              "1197 -8.063300 -34.888748 -8.062676 -34.888401   -0.6242   -0.3472   \n",
              "1198 -8.073273 -34.896534 -8.073425 -34.897158    0.1524    0.6240   \n",
              "1199 -8.072737 -34.896683 -8.072295 -34.896599   -0.4418   -0.0842   \n",
              "1200 -8.072272 -34.896671 -8.072301 -34.896546    0.0286   -0.1250   \n",
              "1201 -8.062998 -34.897293 -8.063231 -34.897045    0.2326   -0.2478   \n",
              "\n",
              "      lat_diff_metros  lon_diff_metros  \n",
              "1197       -19.269054       -10.718064  \n",
              "1198         4.704588        19.262880  \n",
              "1199       -13.638366        -2.599254  \n",
              "1200         0.882882        -3.858750  \n",
              "1201         7.180362        -7.649586  "
            ],
            "text/html": [
              "\n",
              "  <div id=\"df-3100f0ea-325d-471b-9666-88c46b7f25ec\">\n",
              "    <div class=\"colab-df-container\">\n",
              "      <div>\n",
              "<style scoped>\n",
              "    .dataframe tbody tr th:only-of-type {\n",
              "        vertical-align: middle;\n",
              "    }\n",
              "\n",
              "    .dataframe tbody tr th {\n",
              "        vertical-align: top;\n",
              "    }\n",
              "\n",
              "    .dataframe thead th {\n",
              "        text-align: right;\n",
              "    }\n",
              "</style>\n",
              "<table border=\"1\" class=\"dataframe\">\n",
              "  <thead>\n",
              "    <tr style=\"text-align: right;\">\n",
              "      <th></th>\n",
              "      <th>lat</th>\n",
              "      <th>lon</th>\n",
              "      <th>lat_pred</th>\n",
              "      <th>lon_pred</th>\n",
              "      <th>lat_diff</th>\n",
              "      <th>lon_diff</th>\n",
              "      <th>lat_diff_metros</th>\n",
              "      <th>lon_diff_metros</th>\n",
              "    </tr>\n",
              "  </thead>\n",
              "  <tbody>\n",
              "    <tr>\n",
              "      <th>1197</th>\n",
              "      <td>-8.063300</td>\n",
              "      <td>-34.888748</td>\n",
              "      <td>-8.062676</td>\n",
              "      <td>-34.888401</td>\n",
              "      <td>-0.6242</td>\n",
              "      <td>-0.3472</td>\n",
              "      <td>-19.269054</td>\n",
              "      <td>-10.718064</td>\n",
              "    </tr>\n",
              "    <tr>\n",
              "      <th>1198</th>\n",
              "      <td>-8.073273</td>\n",
              "      <td>-34.896534</td>\n",
              "      <td>-8.073425</td>\n",
              "      <td>-34.897158</td>\n",
              "      <td>0.1524</td>\n",
              "      <td>0.6240</td>\n",
              "      <td>4.704588</td>\n",
              "      <td>19.262880</td>\n",
              "    </tr>\n",
              "    <tr>\n",
              "      <th>1199</th>\n",
              "      <td>-8.072737</td>\n",
              "      <td>-34.896683</td>\n",
              "      <td>-8.072295</td>\n",
              "      <td>-34.896599</td>\n",
              "      <td>-0.4418</td>\n",
              "      <td>-0.0842</td>\n",
              "      <td>-13.638366</td>\n",
              "      <td>-2.599254</td>\n",
              "    </tr>\n",
              "    <tr>\n",
              "      <th>1200</th>\n",
              "      <td>-8.072272</td>\n",
              "      <td>-34.896671</td>\n",
              "      <td>-8.072301</td>\n",
              "      <td>-34.896546</td>\n",
              "      <td>0.0286</td>\n",
              "      <td>-0.1250</td>\n",
              "      <td>0.882882</td>\n",
              "      <td>-3.858750</td>\n",
              "    </tr>\n",
              "    <tr>\n",
              "      <th>1201</th>\n",
              "      <td>-8.062998</td>\n",
              "      <td>-34.897293</td>\n",
              "      <td>-8.063231</td>\n",
              "      <td>-34.897045</td>\n",
              "      <td>0.2326</td>\n",
              "      <td>-0.2478</td>\n",
              "      <td>7.180362</td>\n",
              "      <td>-7.649586</td>\n",
              "    </tr>\n",
              "  </tbody>\n",
              "</table>\n",
              "</div>\n",
              "      <button class=\"colab-df-convert\" onclick=\"convertToInteractive('df-3100f0ea-325d-471b-9666-88c46b7f25ec')\"\n",
              "              title=\"Convert this dataframe to an interactive table.\"\n",
              "              style=\"display:none;\">\n",
              "        \n",
              "  <svg xmlns=\"http://www.w3.org/2000/svg\" height=\"24px\"viewBox=\"0 0 24 24\"\n",
              "       width=\"24px\">\n",
              "    <path d=\"M0 0h24v24H0V0z\" fill=\"none\"/>\n",
              "    <path d=\"M18.56 5.44l.94 2.06.94-2.06 2.06-.94-2.06-.94-.94-2.06-.94 2.06-2.06.94zm-11 1L8.5 8.5l.94-2.06 2.06-.94-2.06-.94L8.5 2.5l-.94 2.06-2.06.94zm10 10l.94 2.06.94-2.06 2.06-.94-2.06-.94-.94-2.06-.94 2.06-2.06.94z\"/><path d=\"M17.41 7.96l-1.37-1.37c-.4-.4-.92-.59-1.43-.59-.52 0-1.04.2-1.43.59L10.3 9.45l-7.72 7.72c-.78.78-.78 2.05 0 2.83L4 21.41c.39.39.9.59 1.41.59.51 0 1.02-.2 1.41-.59l7.78-7.78 2.81-2.81c.8-.78.8-2.07 0-2.86zM5.41 20L4 18.59l7.72-7.72 1.47 1.35L5.41 20z\"/>\n",
              "  </svg>\n",
              "      </button>\n",
              "      \n",
              "  <style>\n",
              "    .colab-df-container {\n",
              "      display:flex;\n",
              "      flex-wrap:wrap;\n",
              "      gap: 12px;\n",
              "    }\n",
              "\n",
              "    .colab-df-convert {\n",
              "      background-color: #E8F0FE;\n",
              "      border: none;\n",
              "      border-radius: 50%;\n",
              "      cursor: pointer;\n",
              "      display: none;\n",
              "      fill: #1967D2;\n",
              "      height: 32px;\n",
              "      padding: 0 0 0 0;\n",
              "      width: 32px;\n",
              "    }\n",
              "\n",
              "    .colab-df-convert:hover {\n",
              "      background-color: #E2EBFA;\n",
              "      box-shadow: 0px 1px 2px rgba(60, 64, 67, 0.3), 0px 1px 3px 1px rgba(60, 64, 67, 0.15);\n",
              "      fill: #174EA6;\n",
              "    }\n",
              "\n",
              "    [theme=dark] .colab-df-convert {\n",
              "      background-color: #3B4455;\n",
              "      fill: #D2E3FC;\n",
              "    }\n",
              "\n",
              "    [theme=dark] .colab-df-convert:hover {\n",
              "      background-color: #434B5C;\n",
              "      box-shadow: 0px 1px 3px 1px rgba(0, 0, 0, 0.15);\n",
              "      filter: drop-shadow(0px 1px 2px rgba(0, 0, 0, 0.3));\n",
              "      fill: #FFFFFF;\n",
              "    }\n",
              "  </style>\n",
              "\n",
              "      <script>\n",
              "        const buttonEl =\n",
              "          document.querySelector('#df-3100f0ea-325d-471b-9666-88c46b7f25ec button.colab-df-convert');\n",
              "        buttonEl.style.display =\n",
              "          google.colab.kernel.accessAllowed ? 'block' : 'none';\n",
              "\n",
              "        async function convertToInteractive(key) {\n",
              "          const element = document.querySelector('#df-3100f0ea-325d-471b-9666-88c46b7f25ec');\n",
              "          const dataTable =\n",
              "            await google.colab.kernel.invokeFunction('convertToInteractive',\n",
              "                                                     [key], {});\n",
              "          if (!dataTable) return;\n",
              "\n",
              "          const docLinkHtml = 'Like what you see? Visit the ' +\n",
              "            '<a target=\"_blank\" href=https://colab.research.google.com/notebooks/data_table.ipynb>data table notebook</a>'\n",
              "            + ' to learn more about interactive tables.';\n",
              "          element.innerHTML = '';\n",
              "          dataTable['output_type'] = 'display_data';\n",
              "          await google.colab.output.renderOutput(dataTable, element);\n",
              "          const docLink = document.createElement('div');\n",
              "          docLink.innerHTML = docLinkHtml;\n",
              "          element.appendChild(docLink);\n",
              "        }\n",
              "      </script>\n",
              "    </div>\n",
              "  </div>\n",
              "  "
            ]
          },
          "metadata": {},
          "execution_count": 48
        }
      ]
    },
    {
      "cell_type": "code",
      "source": [
        "df2.describe()"
      ],
      "metadata": {
        "colab": {
          "base_uri": "https://localhost:8080/",
          "height": 300
        },
        "id": "yGC3fH2S1Wqr",
        "outputId": "594dce45-dbac-4d16-b950-83abf6f30144"
      },
      "execution_count": 49,
      "outputs": [
        {
          "output_type": "execute_result",
          "data": {
            "text/plain": [
              "              lat         lon    lat_pred    lon_pred    lat_diff    lon_diff  \\\n",
              "count  302.000000  302.000000  302.000000  302.000000  302.000000  302.000000   \n",
              "mean    -8.070061  -34.895115   -8.070158  -34.895156    0.097304    0.040940   \n",
              "std      0.004441    0.004547    0.004331    0.004288    0.846868    1.195071   \n",
              "min     -8.077541  -34.906830   -8.077450  -34.904887   -4.058600   -7.669400   \n",
              "25%     -8.073686  -34.898548   -8.073796  -34.898349   -0.245950   -0.263800   \n",
              "50%     -8.070069  -34.895865   -8.070190  -34.896095    0.053100   -0.002400   \n",
              "75%     -8.066989  -34.891205   -8.067003  -34.891778    0.373950    0.365250   \n",
              "max     -8.059339  -34.885319   -8.060262  -34.885755    3.343200    7.748200   \n",
              "\n",
              "       lat_diff_metros  lon_diff_metros  \n",
              "count       302.000000       302.000000  \n",
              "mean          3.003774         1.263830  \n",
              "std          26.142829        36.891845  \n",
              "min        -125.288982      -236.754378  \n",
              "25%          -7.592476        -8.143506  \n",
              "50%           1.639197        -0.074088  \n",
              "75%          11.543837        11.275267  \n",
              "max         103.204584       239.186934  "
            ],
            "text/html": [
              "\n",
              "  <div id=\"df-ca5b2351-db7c-4180-87d7-0ebbf5be9622\">\n",
              "    <div class=\"colab-df-container\">\n",
              "      <div>\n",
              "<style scoped>\n",
              "    .dataframe tbody tr th:only-of-type {\n",
              "        vertical-align: middle;\n",
              "    }\n",
              "\n",
              "    .dataframe tbody tr th {\n",
              "        vertical-align: top;\n",
              "    }\n",
              "\n",
              "    .dataframe thead th {\n",
              "        text-align: right;\n",
              "    }\n",
              "</style>\n",
              "<table border=\"1\" class=\"dataframe\">\n",
              "  <thead>\n",
              "    <tr style=\"text-align: right;\">\n",
              "      <th></th>\n",
              "      <th>lat</th>\n",
              "      <th>lon</th>\n",
              "      <th>lat_pred</th>\n",
              "      <th>lon_pred</th>\n",
              "      <th>lat_diff</th>\n",
              "      <th>lon_diff</th>\n",
              "      <th>lat_diff_metros</th>\n",
              "      <th>lon_diff_metros</th>\n",
              "    </tr>\n",
              "  </thead>\n",
              "  <tbody>\n",
              "    <tr>\n",
              "      <th>count</th>\n",
              "      <td>302.000000</td>\n",
              "      <td>302.000000</td>\n",
              "      <td>302.000000</td>\n",
              "      <td>302.000000</td>\n",
              "      <td>302.000000</td>\n",
              "      <td>302.000000</td>\n",
              "      <td>302.000000</td>\n",
              "      <td>302.000000</td>\n",
              "    </tr>\n",
              "    <tr>\n",
              "      <th>mean</th>\n",
              "      <td>-8.070061</td>\n",
              "      <td>-34.895115</td>\n",
              "      <td>-8.070158</td>\n",
              "      <td>-34.895156</td>\n",
              "      <td>0.097304</td>\n",
              "      <td>0.040940</td>\n",
              "      <td>3.003774</td>\n",
              "      <td>1.263830</td>\n",
              "    </tr>\n",
              "    <tr>\n",
              "      <th>std</th>\n",
              "      <td>0.004441</td>\n",
              "      <td>0.004547</td>\n",
              "      <td>0.004331</td>\n",
              "      <td>0.004288</td>\n",
              "      <td>0.846868</td>\n",
              "      <td>1.195071</td>\n",
              "      <td>26.142829</td>\n",
              "      <td>36.891845</td>\n",
              "    </tr>\n",
              "    <tr>\n",
              "      <th>min</th>\n",
              "      <td>-8.077541</td>\n",
              "      <td>-34.906830</td>\n",
              "      <td>-8.077450</td>\n",
              "      <td>-34.904887</td>\n",
              "      <td>-4.058600</td>\n",
              "      <td>-7.669400</td>\n",
              "      <td>-125.288982</td>\n",
              "      <td>-236.754378</td>\n",
              "    </tr>\n",
              "    <tr>\n",
              "      <th>25%</th>\n",
              "      <td>-8.073686</td>\n",
              "      <td>-34.898548</td>\n",
              "      <td>-8.073796</td>\n",
              "      <td>-34.898349</td>\n",
              "      <td>-0.245950</td>\n",
              "      <td>-0.263800</td>\n",
              "      <td>-7.592476</td>\n",
              "      <td>-8.143506</td>\n",
              "    </tr>\n",
              "    <tr>\n",
              "      <th>50%</th>\n",
              "      <td>-8.070069</td>\n",
              "      <td>-34.895865</td>\n",
              "      <td>-8.070190</td>\n",
              "      <td>-34.896095</td>\n",
              "      <td>0.053100</td>\n",
              "      <td>-0.002400</td>\n",
              "      <td>1.639197</td>\n",
              "      <td>-0.074088</td>\n",
              "    </tr>\n",
              "    <tr>\n",
              "      <th>75%</th>\n",
              "      <td>-8.066989</td>\n",
              "      <td>-34.891205</td>\n",
              "      <td>-8.067003</td>\n",
              "      <td>-34.891778</td>\n",
              "      <td>0.373950</td>\n",
              "      <td>0.365250</td>\n",
              "      <td>11.543837</td>\n",
              "      <td>11.275267</td>\n",
              "    </tr>\n",
              "    <tr>\n",
              "      <th>max</th>\n",
              "      <td>-8.059339</td>\n",
              "      <td>-34.885319</td>\n",
              "      <td>-8.060262</td>\n",
              "      <td>-34.885755</td>\n",
              "      <td>3.343200</td>\n",
              "      <td>7.748200</td>\n",
              "      <td>103.204584</td>\n",
              "      <td>239.186934</td>\n",
              "    </tr>\n",
              "  </tbody>\n",
              "</table>\n",
              "</div>\n",
              "      <button class=\"colab-df-convert\" onclick=\"convertToInteractive('df-ca5b2351-db7c-4180-87d7-0ebbf5be9622')\"\n",
              "              title=\"Convert this dataframe to an interactive table.\"\n",
              "              style=\"display:none;\">\n",
              "        \n",
              "  <svg xmlns=\"http://www.w3.org/2000/svg\" height=\"24px\"viewBox=\"0 0 24 24\"\n",
              "       width=\"24px\">\n",
              "    <path d=\"M0 0h24v24H0V0z\" fill=\"none\"/>\n",
              "    <path d=\"M18.56 5.44l.94 2.06.94-2.06 2.06-.94-2.06-.94-.94-2.06-.94 2.06-2.06.94zm-11 1L8.5 8.5l.94-2.06 2.06-.94-2.06-.94L8.5 2.5l-.94 2.06-2.06.94zm10 10l.94 2.06.94-2.06 2.06-.94-2.06-.94-.94-2.06-.94 2.06-2.06.94z\"/><path d=\"M17.41 7.96l-1.37-1.37c-.4-.4-.92-.59-1.43-.59-.52 0-1.04.2-1.43.59L10.3 9.45l-7.72 7.72c-.78.78-.78 2.05 0 2.83L4 21.41c.39.39.9.59 1.41.59.51 0 1.02-.2 1.41-.59l7.78-7.78 2.81-2.81c.8-.78.8-2.07 0-2.86zM5.41 20L4 18.59l7.72-7.72 1.47 1.35L5.41 20z\"/>\n",
              "  </svg>\n",
              "      </button>\n",
              "      \n",
              "  <style>\n",
              "    .colab-df-container {\n",
              "      display:flex;\n",
              "      flex-wrap:wrap;\n",
              "      gap: 12px;\n",
              "    }\n",
              "\n",
              "    .colab-df-convert {\n",
              "      background-color: #E8F0FE;\n",
              "      border: none;\n",
              "      border-radius: 50%;\n",
              "      cursor: pointer;\n",
              "      display: none;\n",
              "      fill: #1967D2;\n",
              "      height: 32px;\n",
              "      padding: 0 0 0 0;\n",
              "      width: 32px;\n",
              "    }\n",
              "\n",
              "    .colab-df-convert:hover {\n",
              "      background-color: #E2EBFA;\n",
              "      box-shadow: 0px 1px 2px rgba(60, 64, 67, 0.3), 0px 1px 3px 1px rgba(60, 64, 67, 0.15);\n",
              "      fill: #174EA6;\n",
              "    }\n",
              "\n",
              "    [theme=dark] .colab-df-convert {\n",
              "      background-color: #3B4455;\n",
              "      fill: #D2E3FC;\n",
              "    }\n",
              "\n",
              "    [theme=dark] .colab-df-convert:hover {\n",
              "      background-color: #434B5C;\n",
              "      box-shadow: 0px 1px 3px 1px rgba(0, 0, 0, 0.15);\n",
              "      filter: drop-shadow(0px 1px 2px rgba(0, 0, 0, 0.3));\n",
              "      fill: #FFFFFF;\n",
              "    }\n",
              "  </style>\n",
              "\n",
              "      <script>\n",
              "        const buttonEl =\n",
              "          document.querySelector('#df-ca5b2351-db7c-4180-87d7-0ebbf5be9622 button.colab-df-convert');\n",
              "        buttonEl.style.display =\n",
              "          google.colab.kernel.accessAllowed ? 'block' : 'none';\n",
              "\n",
              "        async function convertToInteractive(key) {\n",
              "          const element = document.querySelector('#df-ca5b2351-db7c-4180-87d7-0ebbf5be9622');\n",
              "          const dataTable =\n",
              "            await google.colab.kernel.invokeFunction('convertToInteractive',\n",
              "                                                     [key], {});\n",
              "          if (!dataTable) return;\n",
              "\n",
              "          const docLinkHtml = 'Like what you see? Visit the ' +\n",
              "            '<a target=\"_blank\" href=https://colab.research.google.com/notebooks/data_table.ipynb>data table notebook</a>'\n",
              "            + ' to learn more about interactive tables.';\n",
              "          element.innerHTML = '';\n",
              "          dataTable['output_type'] = 'display_data';\n",
              "          await google.colab.output.renderOutput(dataTable, element);\n",
              "          const docLink = document.createElement('div');\n",
              "          docLink.innerHTML = docLinkHtml;\n",
              "          element.appendChild(docLink);\n",
              "        }\n",
              "      </script>\n",
              "    </div>\n",
              "  </div>\n",
              "  "
            ]
          },
          "metadata": {},
          "execution_count": 49
        }
      ]
    },
    {
      "cell_type": "code",
      "source": [
        "import math\n",
        "df2['diff_metros'] = [math.sqrt(lat_diff**2+lon_diff**2) for lat_diff,lon_diff in zip(df2['lat_diff_metros'],df2['lon_diff_metros'])]"
      ],
      "metadata": {
        "id": "yGXQt2b81rmY"
      },
      "execution_count": 50,
      "outputs": []
    },
    {
      "cell_type": "code",
      "source": [
        "df2['diff_metros'].describe()"
      ],
      "metadata": {
        "colab": {
          "base_uri": "https://localhost:8080/"
        },
        "id": "X3ycD5Yg2ISY",
        "outputId": "891d4459-d8a0-41d1-efd0-ba9b8442a77f"
      },
      "execution_count": 51,
      "outputs": [
        {
          "output_type": "execute_result",
          "data": {
            "text/plain": [
              "count    302.000000\n",
              "mean      29.257133\n",
              "std       34.587387\n",
              "min        0.171210\n",
              "25%        9.109061\n",
              "50%       18.473928\n",
              "75%       34.792298\n",
              "max      254.439222\n",
              "Name: diff_metros, dtype: float64"
            ]
          },
          "metadata": {},
          "execution_count": 51
        }
      ]
    },
    {
      "cell_type": "code",
      "source": [
        "df2['diff_metros'].hist()"
      ],
      "metadata": {
        "colab": {
          "base_uri": "https://localhost:8080/",
          "height": 287
        },
        "id": "bxgrJ4MN2Pjs",
        "outputId": "df43b33b-94f0-447b-a636-2e8a878a28ef"
      },
      "execution_count": 52,
      "outputs": [
        {
          "output_type": "execute_result",
          "data": {
            "text/plain": [
              "<matplotlib.axes._subplots.AxesSubplot at 0x7f3ad7620590>"
            ]
          },
          "metadata": {},
          "execution_count": 52
        },
        {
          "output_type": "display_data",
          "data": {
            "text/plain": [
              "<Figure size 432x288 with 1 Axes>"
            ],
            "image/png": "[encoded data removed]"
          },
          "metadata": {
            "needs_background": "light"
          }
        }
      ]
    },
    {
      "cell_type": "code",
      "source": [
        "df2['diff_metros'].plot(kind='box')"
      ],
      "metadata": {
        "colab": {
          "base_uri": "https://localhost:8080/",
          "height": 284
        },
        "id": "U9SnT8682VPe",
        "outputId": "6478ca40-1511-43e8-f939-511b89796f10"
      },
      "execution_count": 53,
      "outputs": [
        {
          "output_type": "execute_result",
          "data": {
            "text/plain": [
              "<matplotlib.axes._subplots.AxesSubplot at 0x7f3ad7670650>"
            ]
          },
          "metadata": {},
          "execution_count": 53
        },
        {
          "output_type": "display_data",
          "data": {
            "text/plain": [
              "<Figure size 432x288 with 1 Axes>"
            ],
            "image/png": "[encoded data removed]"
          },
          "metadata": {
            "needs_background": "light"
          }
        }
      ]
    },
    {
      "cell_type": "code",
      "source": [
        "fig, (ax1, ax2, ax3) = plt.subplots(3)\n",
        "ax1.scatter(df2['lat'],df2['lon'], c='green')\n",
        "ax1.scatter(df2['lat_pred'],df2['lon_pred'], c='red')\n",
        "#ax1.title('Mapa de comparação:')\n",
        "ax1.legend([\"reais\",\"preditas\"])\n",
        "\n",
        "ax2.scatter(df2['lat'],df2['lon'], c='green')\n",
        "#ax2.title('Reais:')\n",
        "\n",
        "ax3.scatter(df2['lat_pred'],df2['lon_pred'], c='red')\n",
        "#ax3.title('Preditas')\n",
        "\n",
        "\n",
        "fig.show()"
      ],
      "metadata": {
        "colab": {
          "base_uri": "https://localhost:8080/",
          "height": 264
        },
        "id": "XFuLtELG3J-E",
        "outputId": "68cf7fc1-985f-4c3b-8b2f-388f58016857"
      },
      "execution_count": 54,
      "outputs": [
        {
          "output_type": "display_data",
          "data": {
            "text/plain": [
              "<Figure size 432x288 with 3 Axes>"
            ],
            "image/png": "[encoded data removed]"
          },
          "metadata": {
            "needs_background": "light"
          }
        }
      ]
    },
    {
      "cell_type": "markdown",
      "source": [
        "## DecisionTreeRegressor"
      ],
      "metadata": {
        "id": "jo25Pj18tRf0"
      }
    },
    {
      "cell_type": "code",
      "source": [
        "from sklearn.tree import DecisionTreeRegressor\n"
      ],
      "metadata": {
        "id": "RMWERfPkgGpq"
      },
      "execution_count": null,
      "outputs": []
    },
    {
      "cell_type": "code",
      "source": [
        "model = DecisionTreeRegressor()\n"
      ],
      "metadata": {
        "id": "pnSymgLMgL6w"
      },
      "execution_count": null,
      "outputs": []
    },
    {
      "cell_type": "code",
      "source": [
        "model.fit(x_train,Y_train)"
      ],
      "metadata": {
        "colab": {
          "base_uri": "https://localhost:8080/"
        },
        "id": "tijAdkX6gMRZ",
        "outputId": "eb82984a-7f38-4a08-f1fb-98a762961bde"
      },
      "execution_count": null,
      "outputs": [
        {
          "output_type": "execute_result",
          "data": {
            "text/plain": [
              "DecisionTreeRegressor()"
            ]
          },
          "metadata": {},
          "execution_count": 117
        }
      ]
    },
    {
      "cell_type": "code",
      "source": [
        "Y_pred = model.predict(x_test)"
      ],
      "metadata": {
        "id": "J59Pw3owgNue"
      },
      "execution_count": null,
      "outputs": []
    },
    {
      "cell_type": "code",
      "source": [
        "model.score(x_test, Y_test)"
      ],
      "metadata": {
        "colab": {
          "base_uri": "https://localhost:8080/"
        },
        "id": "QZ-_ZMangOf3",
        "outputId": "ae8e0c75-4b1a-491a-c9fb-dcb4c988a61e"
      },
      "execution_count": null,
      "outputs": [
        {
          "output_type": "execute_result",
          "data": {
            "text/plain": [
              "0.6196285164455926"
            ]
          },
          "metadata": {},
          "execution_count": 119
        }
      ]
    },
    {
      "cell_type": "markdown",
      "source": [
        "KneighborsRegressor teve o melhor resultado..."
      ],
      "metadata": {
        "id": "WEXNecVHwV4b"
      }
    },
    {
      "cell_type": "code",
      "source": [
        ""
      ],
      "metadata": {
        "id": "4ryzvqacqeSl"
      },
      "execution_count": null,
      "outputs": []
    },
    {
      "cell_type": "code",
      "source": [
        ""
      ],
      "metadata": {
        "id": "iGSvta0xwMdW"
      },
      "execution_count": null,
      "outputs": []
    },
    {
      "cell_type": "markdown",
      "source": [
        "# SUBMIT"
      ],
      "metadata": {
        "id": "ILs58PBdX4li"
      }
    },
    {
      "cell_type": "code",
      "source": [
        "df = pd.read_csv(\"submit.csv\")"
      ],
      "metadata": {
        "id": "E5V40g9yXgkH"
      },
      "execution_count": null,
      "outputs": []
    },
    {
      "cell_type": "code",
      "source": [
        "df.head()"
      ],
      "metadata": {
        "colab": {
          "base_uri": "https://localhost:8080/",
          "height": 206
        },
        "id": "kVz8LApHY1iK",
        "outputId": "a92ce626-578c-4ac1-a9f2-6ba559be9941"
      },
      "execution_count": null,
      "outputs": [
        {
          "output_type": "execute_result",
          "data": {
            "text/plain": [
              "   pontoId   lat    lon\n",
              "0     1365 -8.51 -34.51\n",
              "1     2381 -8.51 -34.51\n",
              "2     2644 -8.51 -34.51\n",
              "3     2224 -8.51 -34.51\n",
              "4     2568 -8.51 -34.51"
            ],
            "text/html": [
              "\n",
              "  <div id=\"df-be657f9c-0584-4168-bdb0-126fe5d56003\">\n",
              "    <div class=\"colab-df-container\">\n",
              "      <div>\n",
              "<style scoped>\n",
              "    .dataframe tbody tr th:only-of-type {\n",
              "        vertical-align: middle;\n",
              "    }\n",
              "\n",
              "    .dataframe tbody tr th {\n",
              "        vertical-align: top;\n",
              "    }\n",
              "\n",
              "    .dataframe thead th {\n",
              "        text-align: right;\n",
              "    }\n",
              "</style>\n",
              "<table border=\"1\" class=\"dataframe\">\n",
              "  <thead>\n",
              "    <tr style=\"text-align: right;\">\n",
              "      <th></th>\n",
              "      <th>pontoId</th>\n",
              "      <th>lat</th>\n",
              "      <th>lon</th>\n",
              "    </tr>\n",
              "  </thead>\n",
              "  <tbody>\n",
              "    <tr>\n",
              "      <th>0</th>\n",
              "      <td>1365</td>\n",
              "      <td>-8.51</td>\n",
              "      <td>-34.51</td>\n",
              "    </tr>\n",
              "    <tr>\n",
              "      <th>1</th>\n",
              "      <td>2381</td>\n",
              "      <td>-8.51</td>\n",
              "      <td>-34.51</td>\n",
              "    </tr>\n",
              "    <tr>\n",
              "      <th>2</th>\n",
              "      <td>2644</td>\n",
              "      <td>-8.51</td>\n",
              "      <td>-34.51</td>\n",
              "    </tr>\n",
              "    <tr>\n",
              "      <th>3</th>\n",
              "      <td>2224</td>\n",
              "      <td>-8.51</td>\n",
              "      <td>-34.51</td>\n",
              "    </tr>\n",
              "    <tr>\n",
              "      <th>4</th>\n",
              "      <td>2568</td>\n",
              "      <td>-8.51</td>\n",
              "      <td>-34.51</td>\n",
              "    </tr>\n",
              "  </tbody>\n",
              "</table>\n",
              "</div>\n",
              "      <button class=\"colab-df-convert\" onclick=\"convertToInteractive('df-be657f9c-0584-4168-bdb0-126fe5d56003')\"\n",
              "              title=\"Convert this dataframe to an interactive table.\"\n",
              "              style=\"display:none;\">\n",
              "        \n",
              "  <svg xmlns=\"http://www.w3.org/2000/svg\" height=\"24px\"viewBox=\"0 0 24 24\"\n",
              "       width=\"24px\">\n",
              "    <path d=\"M0 0h24v24H0V0z\" fill=\"none\"/>\n",
              "    <path d=\"M18.56 5.44l.94 2.06.94-2.06 2.06-.94-2.06-.94-.94-2.06-.94 2.06-2.06.94zm-11 1L8.5 8.5l.94-2.06 2.06-.94-2.06-.94L8.5 2.5l-.94 2.06-2.06.94zm10 10l.94 2.06.94-2.06 2.06-.94-2.06-.94-.94-2.06-.94 2.06-2.06.94z\"/><path d=\"M17.41 7.96l-1.37-1.37c-.4-.4-.92-.59-1.43-.59-.52 0-1.04.2-1.43.59L10.3 9.45l-7.72 7.72c-.78.78-.78 2.05 0 2.83L4 21.41c.39.39.9.59 1.41.59.51 0 1.02-.2 1.41-.59l7.78-7.78 2.81-2.81c.8-.78.8-2.07 0-2.86zM5.41 20L4 18.59l7.72-7.72 1.47 1.35L5.41 20z\"/>\n",
              "  </svg>\n",
              "      </button>\n",
              "      \n",
              "  <style>\n",
              "    .colab-df-container {\n",
              "      display:flex;\n",
              "      flex-wrap:wrap;\n",
              "      gap: 12px;\n",
              "    }\n",
              "\n",
              "    .colab-df-convert {\n",
              "      background-color: #E8F0FE;\n",
              "      border: none;\n",
              "      border-radius: 50%;\n",
              "      cursor: pointer;\n",
              "      display: none;\n",
              "      fill: #1967D2;\n",
              "      height: 32px;\n",
              "      padding: 0 0 0 0;\n",
              "      width: 32px;\n",
              "    }\n",
              "\n",
              "    .colab-df-convert:hover {\n",
              "      background-color: #E2EBFA;\n",
              "      box-shadow: 0px 1px 2px rgba(60, 64, 67, 0.3), 0px 1px 3px 1px rgba(60, 64, 67, 0.15);\n",
              "      fill: #174EA6;\n",
              "    }\n",
              "\n",
              "    [theme=dark] .colab-df-convert {\n",
              "      background-color: #3B4455;\n",
              "      fill: #D2E3FC;\n",
              "    }\n",
              "\n",
              "    [theme=dark] .colab-df-convert:hover {\n",
              "      background-color: #434B5C;\n",
              "      box-shadow: 0px 1px 3px 1px rgba(0, 0, 0, 0.15);\n",
              "      filter: drop-shadow(0px 1px 2px rgba(0, 0, 0, 0.3));\n",
              "      fill: #FFFFFF;\n",
              "    }\n",
              "  </style>\n",
              "\n",
              "      <script>\n",
              "        const buttonEl =\n",
              "          document.querySelector('#df-be657f9c-0584-4168-bdb0-126fe5d56003 button.colab-df-convert');\n",
              "        buttonEl.style.display =\n",
              "          google.colab.kernel.accessAllowed ? 'block' : 'none';\n",
              "\n",
              "        async function convertToInteractive(key) {\n",
              "          const element = document.querySelector('#df-be657f9c-0584-4168-bdb0-126fe5d56003');\n",
              "          const dataTable =\n",
              "            await google.colab.kernel.invokeFunction('convertToInteractive',\n",
              "                                                     [key], {});\n",
              "          if (!dataTable) return;\n",
              "\n",
              "          const docLinkHtml = 'Like what you see? Visit the ' +\n",
              "            '<a target=\"_blank\" href=https://colab.research.google.com/notebooks/data_table.ipynb>data table notebook</a>'\n",
              "            + ' to learn more about interactive tables.';\n",
              "          element.innerHTML = '';\n",
              "          dataTable['output_type'] = 'display_data';\n",
              "          await google.colab.output.renderOutput(dataTable, element);\n",
              "          const docLink = document.createElement('div');\n",
              "          docLink.innerHTML = docLinkHtml;\n",
              "          element.appendChild(docLink);\n",
              "        }\n",
              "      </script>\n",
              "    </div>\n",
              "  </div>\n",
              "  "
            ]
          },
          "metadata": {},
          "execution_count": 17
        }
      ]
    },
    {
      "cell_type": "code",
      "source": [
        "df.describe(include=\"all\")"
      ],
      "metadata": {
        "colab": {
          "base_uri": "https://localhost:8080/",
          "height": 300
        },
        "id": "nndhh4ybX9Px",
        "outputId": "3c933b4b-93e9-43b8-8ad9-bd3d18ff028b"
      },
      "execution_count": null,
      "outputs": [
        {
          "output_type": "execute_result",
          "data": {
            "text/plain": [
              "           pontoId           lat           lon\n",
              "count   200.000000  2.000000e+02  2.000000e+02\n",
              "mean   1415.625000 -8.510000e+00 -3.451000e+01\n",
              "std     884.330064  7.123258e-15  1.495884e-13\n",
              "min      17.000000 -8.510000e+00 -3.451000e+01\n",
              "25%     624.750000 -8.510000e+00 -3.451000e+01\n",
              "50%    1381.000000 -8.510000e+00 -3.451000e+01\n",
              "75%    2215.250000 -8.510000e+00 -3.451000e+01\n",
              "max    2954.000000 -8.510000e+00 -3.451000e+01"
            ],
            "text/html": [
              "\n",
              "  <div id=\"df-bd48dd10-08e2-4f9a-83e0-dccd5bb230b1\">\n",
              "    <div class=\"colab-df-container\">\n",
              "      <div>\n",
              "<style scoped>\n",
              "    .dataframe tbody tr th:only-of-type {\n",
              "        vertical-align: middle;\n",
              "    }\n",
              "\n",
              "    .dataframe tbody tr th {\n",
              "        vertical-align: top;\n",
              "    }\n",
              "\n",
              "    .dataframe thead th {\n",
              "        text-align: right;\n",
              "    }\n",
              "</style>\n",
              "<table border=\"1\" class=\"dataframe\">\n",
              "  <thead>\n",
              "    <tr style=\"text-align: right;\">\n",
              "      <th></th>\n",
              "      <th>pontoId</th>\n",
              "      <th>lat</th>\n",
              "      <th>lon</th>\n",
              "    </tr>\n",
              "  </thead>\n",
              "  <tbody>\n",
              "    <tr>\n",
              "      <th>count</th>\n",
              "      <td>200.000000</td>\n",
              "      <td>2.000000e+02</td>\n",
              "      <td>2.000000e+02</td>\n",
              "    </tr>\n",
              "    <tr>\n",
              "      <th>mean</th>\n",
              "      <td>1415.625000</td>\n",
              "      <td>-8.510000e+00</td>\n",
              "      <td>-3.451000e+01</td>\n",
              "    </tr>\n",
              "    <tr>\n",
              "      <th>std</th>\n",
              "      <td>884.330064</td>\n",
              "      <td>7.123258e-15</td>\n",
              "      <td>1.495884e-13</td>\n",
              "    </tr>\n",
              "    <tr>\n",
              "      <th>min</th>\n",
              "      <td>17.000000</td>\n",
              "      <td>-8.510000e+00</td>\n",
              "      <td>-3.451000e+01</td>\n",
              "    </tr>\n",
              "    <tr>\n",
              "      <th>25%</th>\n",
              "      <td>624.750000</td>\n",
              "      <td>-8.510000e+00</td>\n",
              "      <td>-3.451000e+01</td>\n",
              "    </tr>\n",
              "    <tr>\n",
              "      <th>50%</th>\n",
              "      <td>1381.000000</td>\n",
              "      <td>-8.510000e+00</td>\n",
              "      <td>-3.451000e+01</td>\n",
              "    </tr>\n",
              "    <tr>\n",
              "      <th>75%</th>\n",
              "      <td>2215.250000</td>\n",
              "      <td>-8.510000e+00</td>\n",
              "      <td>-3.451000e+01</td>\n",
              "    </tr>\n",
              "    <tr>\n",
              "      <th>max</th>\n",
              "      <td>2954.000000</td>\n",
              "      <td>-8.510000e+00</td>\n",
              "      <td>-3.451000e+01</td>\n",
              "    </tr>\n",
              "  </tbody>\n",
              "</table>\n",
              "</div>\n",
              "      <button class=\"colab-df-convert\" onclick=\"convertToInteractive('df-bd48dd10-08e2-4f9a-83e0-dccd5bb230b1')\"\n",
              "              title=\"Convert this dataframe to an interactive table.\"\n",
              "              style=\"display:none;\">\n",
              "        \n",
              "  <svg xmlns=\"http://www.w3.org/2000/svg\" height=\"24px\"viewBox=\"0 0 24 24\"\n",
              "       width=\"24px\">\n",
              "    <path d=\"M0 0h24v24H0V0z\" fill=\"none\"/>\n",
              "    <path d=\"M18.56 5.44l.94 2.06.94-2.06 2.06-.94-2.06-.94-.94-2.06-.94 2.06-2.06.94zm-11 1L8.5 8.5l.94-2.06 2.06-.94-2.06-.94L8.5 2.5l-.94 2.06-2.06.94zm10 10l.94 2.06.94-2.06 2.06-.94-2.06-.94-.94-2.06-.94 2.06-2.06.94z\"/><path d=\"M17.41 7.96l-1.37-1.37c-.4-.4-.92-.59-1.43-.59-.52 0-1.04.2-1.43.59L10.3 9.45l-7.72 7.72c-.78.78-.78 2.05 0 2.83L4 21.41c.39.39.9.59 1.41.59.51 0 1.02-.2 1.41-.59l7.78-7.78 2.81-2.81c.8-.78.8-2.07 0-2.86zM5.41 20L4 18.59l7.72-7.72 1.47 1.35L5.41 20z\"/>\n",
              "  </svg>\n",
              "      </button>\n",
              "      \n",
              "  <style>\n",
              "    .colab-df-container {\n",
              "      display:flex;\n",
              "      flex-wrap:wrap;\n",
              "      gap: 12px;\n",
              "    }\n",
              "\n",
              "    .colab-df-convert {\n",
              "      background-color: #E8F0FE;\n",
              "      border: none;\n",
              "      border-radius: 50%;\n",
              "      cursor: pointer;\n",
              "      display: none;\n",
              "      fill: #1967D2;\n",
              "      height: 32px;\n",
              "      padding: 0 0 0 0;\n",
              "      width: 32px;\n",
              "    }\n",
              "\n",
              "    .colab-df-convert:hover {\n",
              "      background-color: #E2EBFA;\n",
              "      box-shadow: 0px 1px 2px rgba(60, 64, 67, 0.3), 0px 1px 3px 1px rgba(60, 64, 67, 0.15);\n",
              "      fill: #174EA6;\n",
              "    }\n",
              "\n",
              "    [theme=dark] .colab-df-convert {\n",
              "      background-color: #3B4455;\n",
              "      fill: #D2E3FC;\n",
              "    }\n",
              "\n",
              "    [theme=dark] .colab-df-convert:hover {\n",
              "      background-color: #434B5C;\n",
              "      box-shadow: 0px 1px 3px 1px rgba(0, 0, 0, 0.15);\n",
              "      filter: drop-shadow(0px 1px 2px rgba(0, 0, 0, 0.3));\n",
              "      fill: #FFFFFF;\n",
              "    }\n",
              "  </style>\n",
              "\n",
              "      <script>\n",
              "        const buttonEl =\n",
              "          document.querySelector('#df-bd48dd10-08e2-4f9a-83e0-dccd5bb230b1 button.colab-df-convert');\n",
              "        buttonEl.style.display =\n",
              "          google.colab.kernel.accessAllowed ? 'block' : 'none';\n",
              "\n",
              "        async function convertToInteractive(key) {\n",
              "          const element = document.querySelector('#df-bd48dd10-08e2-4f9a-83e0-dccd5bb230b1');\n",
              "          const dataTable =\n",
              "            await google.colab.kernel.invokeFunction('convertToInteractive',\n",
              "                                                     [key], {});\n",
              "          if (!dataTable) return;\n",
              "\n",
              "          const docLinkHtml = 'Like what you see? Visit the ' +\n",
              "            '<a target=\"_blank\" href=https://colab.research.google.com/notebooks/data_table.ipynb>data table notebook</a>'\n",
              "            + ' to learn more about interactive tables.';\n",
              "          element.innerHTML = '';\n",
              "          dataTable['output_type'] = 'display_data';\n",
              "          await google.colab.output.renderOutput(dataTable, element);\n",
              "          const docLink = document.createElement('div');\n",
              "          docLink.innerHTML = docLinkHtml;\n",
              "          element.appendChild(docLink);\n",
              "        }\n",
              "      </script>\n",
              "    </div>\n",
              "  </div>\n",
              "  "
            ]
          },
          "metadata": {},
          "execution_count": 18
        }
      ]
    },
    {
      "cell_type": "code",
      "source": [
        "df.info()"
      ],
      "metadata": {
        "colab": {
          "base_uri": "https://localhost:8080/"
        },
        "id": "8rPAn-6YYAl8",
        "outputId": "05034420-bc86-4b61-e410-28db447b36f7"
      },
      "execution_count": null,
      "outputs": [
        {
          "output_type": "stream",
          "name": "stdout",
          "text": [
            "<class 'pandas.core.frame.DataFrame'>\n",
            "RangeIndex: 200 entries, 0 to 199\n",
            "Data columns (total 3 columns):\n",
            " #   Column   Non-Null Count  Dtype  \n",
            "---  ------   --------------  -----  \n",
            " 0   pontoId  200 non-null    int64  \n",
            " 1   lat      200 non-null    float64\n",
            " 2   lon      200 non-null    float64\n",
            "dtypes: float64(2), int64(1)\n",
            "memory usage: 4.8 KB\n"
          ]
        }
      ]
    },
    {
      "cell_type": "markdown",
      "source": [
        "# DADOS BTS"
      ],
      "metadata": {
        "id": "nDMk1lpEXVCD"
      }
    },
    {
      "cell_type": "code",
      "source": [
        "df = pd.read_csv(\"Dados_BTSs.csv\")"
      ],
      "metadata": {
        "id": "tYwIb_hqXXYP"
      },
      "execution_count": null,
      "outputs": []
    },
    {
      "cell_type": "code",
      "source": [
        "df"
      ],
      "metadata": {
        "colab": {
          "base_uri": "https://localhost:8080/",
          "height": 237
        },
        "id": "5J6lovuVYQdZ",
        "outputId": "4c77be39-21e1-4f6d-d258-f5ef6dba4bf6"
      },
      "execution_count": null,
      "outputs": [
        {
          "output_type": "execute_result",
          "data": {
            "text/plain": [
              "    name       lat        lon     band  bcch   eirp    bts\n",
              "0  136_2 -8.068361 -34.892722  GSM1800   662  55.59  BTS-1\n",
              "1  137_3 -8.075917 -34.894611  GSM1800   806  55.59  BTS-2\n",
              "2  197_1 -8.076361 -34.908000  GSM1800   666  55.59  BTS-3\n",
              "3  137_1 -8.075917 -34.894611  GSM1800   690  55.59  BTS-4\n",
              "4  138_2 -8.066000 -34.889444  GSM1800   673  55.59  BTS-5\n",
              "5  245_2 -8.064583 -34.894583  GSM1800   682  55.59  BTS-6"
            ],
            "text/html": [
              "\n",
              "  <div id=\"df-8a59eb17-0830-42a2-bfa2-b958a23fcb23\">\n",
              "    <div class=\"colab-df-container\">\n",
              "      <div>\n",
              "<style scoped>\n",
              "    .dataframe tbody tr th:only-of-type {\n",
              "        vertical-align: middle;\n",
              "    }\n",
              "\n",
              "    .dataframe tbody tr th {\n",
              "        vertical-align: top;\n",
              "    }\n",
              "\n",
              "    .dataframe thead th {\n",
              "        text-align: right;\n",
              "    }\n",
              "</style>\n",
              "<table border=\"1\" class=\"dataframe\">\n",
              "  <thead>\n",
              "    <tr style=\"text-align: right;\">\n",
              "      <th></th>\n",
              "      <th>name</th>\n",
              "      <th>lat</th>\n",
              "      <th>lon</th>\n",
              "      <th>band</th>\n",
              "      <th>bcch</th>\n",
              "      <th>eirp</th>\n",
              "      <th>bts</th>\n",
              "    </tr>\n",
              "  </thead>\n",
              "  <tbody>\n",
              "    <tr>\n",
              "      <th>0</th>\n",
              "      <td>136_2</td>\n",
              "      <td>-8.068361</td>\n",
              "      <td>-34.892722</td>\n",
              "      <td>GSM1800</td>\n",
              "      <td>662</td>\n",
              "      <td>55.59</td>\n",
              "      <td>BTS-1</td>\n",
              "    </tr>\n",
              "    <tr>\n",
              "      <th>1</th>\n",
              "      <td>137_3</td>\n",
              "      <td>-8.075917</td>\n",
              "      <td>-34.894611</td>\n",
              "      <td>GSM1800</td>\n",
              "      <td>806</td>\n",
              "      <td>55.59</td>\n",
              "      <td>BTS-2</td>\n",
              "    </tr>\n",
              "    <tr>\n",
              "      <th>2</th>\n",
              "      <td>197_1</td>\n",
              "      <td>-8.076361</td>\n",
              "      <td>-34.908000</td>\n",
              "      <td>GSM1800</td>\n",
              "      <td>666</td>\n",
              "      <td>55.59</td>\n",
              "      <td>BTS-3</td>\n",
              "    </tr>\n",
              "    <tr>\n",
              "      <th>3</th>\n",
              "      <td>137_1</td>\n",
              "      <td>-8.075917</td>\n",
              "      <td>-34.894611</td>\n",
              "      <td>GSM1800</td>\n",
              "      <td>690</td>\n",
              "      <td>55.59</td>\n",
              "      <td>BTS-4</td>\n",
              "    </tr>\n",
              "    <tr>\n",
              "      <th>4</th>\n",
              "      <td>138_2</td>\n",
              "      <td>-8.066000</td>\n",
              "      <td>-34.889444</td>\n",
              "      <td>GSM1800</td>\n",
              "      <td>673</td>\n",
              "      <td>55.59</td>\n",
              "      <td>BTS-5</td>\n",
              "    </tr>\n",
              "    <tr>\n",
              "      <th>5</th>\n",
              "      <td>245_2</td>\n",
              "      <td>-8.064583</td>\n",
              "      <td>-34.894583</td>\n",
              "      <td>GSM1800</td>\n",
              "      <td>682</td>\n",
              "      <td>55.59</td>\n",
              "      <td>BTS-6</td>\n",
              "    </tr>\n",
              "  </tbody>\n",
              "</table>\n",
              "</div>\n",
              "      <button class=\"colab-df-convert\" onclick=\"convertToInteractive('df-8a59eb17-0830-42a2-bfa2-b958a23fcb23')\"\n",
              "              title=\"Convert this dataframe to an interactive table.\"\n",
              "              style=\"display:none;\">\n",
              "        \n",
              "  <svg xmlns=\"http://www.w3.org/2000/svg\" height=\"24px\"viewBox=\"0 0 24 24\"\n",
              "       width=\"24px\">\n",
              "    <path d=\"M0 0h24v24H0V0z\" fill=\"none\"/>\n",
              "    <path d=\"M18.56 5.44l.94 2.06.94-2.06 2.06-.94-2.06-.94-.94-2.06-.94 2.06-2.06.94zm-11 1L8.5 8.5l.94-2.06 2.06-.94-2.06-.94L8.5 2.5l-.94 2.06-2.06.94zm10 10l.94 2.06.94-2.06 2.06-.94-2.06-.94-.94-2.06-.94 2.06-2.06.94z\"/><path d=\"M17.41 7.96l-1.37-1.37c-.4-.4-.92-.59-1.43-.59-.52 0-1.04.2-1.43.59L10.3 9.45l-7.72 7.72c-.78.78-.78 2.05 0 2.83L4 21.41c.39.39.9.59 1.41.59.51 0 1.02-.2 1.41-.59l7.78-7.78 2.81-2.81c.8-.78.8-2.07 0-2.86zM5.41 20L4 18.59l7.72-7.72 1.47 1.35L5.41 20z\"/>\n",
              "  </svg>\n",
              "      </button>\n",
              "      \n",
              "  <style>\n",
              "    .colab-df-container {\n",
              "      display:flex;\n",
              "      flex-wrap:wrap;\n",
              "      gap: 12px;\n",
              "    }\n",
              "\n",
              "    .colab-df-convert {\n",
              "      background-color: #E8F0FE;\n",
              "      border: none;\n",
              "      border-radius: 50%;\n",
              "      cursor: pointer;\n",
              "      display: none;\n",
              "      fill: #1967D2;\n",
              "      height: 32px;\n",
              "      padding: 0 0 0 0;\n",
              "      width: 32px;\n",
              "    }\n",
              "\n",
              "    .colab-df-convert:hover {\n",
              "      background-color: #E2EBFA;\n",
              "      box-shadow: 0px 1px 2px rgba(60, 64, 67, 0.3), 0px 1px 3px 1px rgba(60, 64, 67, 0.15);\n",
              "      fill: #174EA6;\n",
              "    }\n",
              "\n",
              "    [theme=dark] .colab-df-convert {\n",
              "      background-color: #3B4455;\n",
              "      fill: #D2E3FC;\n",
              "    }\n",
              "\n",
              "    [theme=dark] .colab-df-convert:hover {\n",
              "      background-color: #434B5C;\n",
              "      box-shadow: 0px 1px 3px 1px rgba(0, 0, 0, 0.15);\n",
              "      filter: drop-shadow(0px 1px 2px rgba(0, 0, 0, 0.3));\n",
              "      fill: #FFFFFF;\n",
              "    }\n",
              "  </style>\n",
              "\n",
              "      <script>\n",
              "        const buttonEl =\n",
              "          document.querySelector('#df-8a59eb17-0830-42a2-bfa2-b958a23fcb23 button.colab-df-convert');\n",
              "        buttonEl.style.display =\n",
              "          google.colab.kernel.accessAllowed ? 'block' : 'none';\n",
              "\n",
              "        async function convertToInteractive(key) {\n",
              "          const element = document.querySelector('#df-8a59eb17-0830-42a2-bfa2-b958a23fcb23');\n",
              "          const dataTable =\n",
              "            await google.colab.kernel.invokeFunction('convertToInteractive',\n",
              "                                                     [key], {});\n",
              "          if (!dataTable) return;\n",
              "\n",
              "          const docLinkHtml = 'Like what you see? Visit the ' +\n",
              "            '<a target=\"_blank\" href=https://colab.research.google.com/notebooks/data_table.ipynb>data table notebook</a>'\n",
              "            + ' to learn more about interactive tables.';\n",
              "          element.innerHTML = '';\n",
              "          dataTable['output_type'] = 'display_data';\n",
              "          await google.colab.output.renderOutput(dataTable, element);\n",
              "          const docLink = document.createElement('div');\n",
              "          docLink.innerHTML = docLinkHtml;\n",
              "          element.appendChild(docLink);\n",
              "        }\n",
              "      </script>\n",
              "    </div>\n",
              "  </div>\n",
              "  "
            ]
          },
          "metadata": {},
          "execution_count": 13
        }
      ]
    },
    {
      "cell_type": "code",
      "source": [
        "df.describe(include=\"all\")"
      ],
      "metadata": {
        "colab": {
          "base_uri": "https://localhost:8080/",
          "height": 394
        },
        "id": "Kzl6fmgCXbls",
        "outputId": "4c3c493c-211d-4554-e87c-62fb4dc133d8"
      },
      "execution_count": null,
      "outputs": [
        {
          "output_type": "execute_result",
          "data": {
            "text/plain": [
              "         name       lat        lon     band        bcch          eirp    bts\n",
              "count       6  6.000000   6.000000        6    6.000000  6.000000e+00      6\n",
              "unique      6       NaN        NaN        1         NaN           NaN      6\n",
              "top     136_2       NaN        NaN  GSM1800         NaN           NaN  BTS-1\n",
              "freq        1       NaN        NaN        6         NaN           NaN      1\n",
              "mean      NaN -8.071190 -34.895662      NaN  696.500000  5.559000e+01    NaN\n",
              "std       NaN  0.005477   0.006370      NaN   54.617763  7.783606e-15    NaN\n",
              "min       NaN -8.076361 -34.908000      NaN  662.000000  5.559000e+01    NaN\n",
              "25%       NaN -8.075917 -34.894611      NaN  667.750000  5.559000e+01    NaN\n",
              "50%       NaN -8.072139 -34.894597      NaN  677.500000  5.559000e+01    NaN\n",
              "75%       NaN -8.066590 -34.893187      NaN  688.000000  5.559000e+01    NaN\n",
              "max       NaN -8.064583 -34.889444      NaN  806.000000  5.559000e+01    NaN"
            ],
            "text/html": [
              "\n",
              "  <div id=\"df-5c1be0c3-abc3-455f-af84-b1b1cee7fda7\">\n",
              "    <div class=\"colab-df-container\">\n",
              "      <div>\n",
              "<style scoped>\n",
              "    .dataframe tbody tr th:only-of-type {\n",
              "        vertical-align: middle;\n",
              "    }\n",
              "\n",
              "    .dataframe tbody tr th {\n",
              "        vertical-align: top;\n",
              "    }\n",
              "\n",
              "    .dataframe thead th {\n",
              "        text-align: right;\n",
              "    }\n",
              "</style>\n",
              "<table border=\"1\" class=\"dataframe\">\n",
              "  <thead>\n",
              "    <tr style=\"text-align: right;\">\n",
              "      <th></th>\n",
              "      <th>name</th>\n",
              "      <th>lat</th>\n",
              "      <th>lon</th>\n",
              "      <th>band</th>\n",
              "      <th>bcch</th>\n",
              "      <th>eirp</th>\n",
              "      <th>bts</th>\n",
              "    </tr>\n",
              "  </thead>\n",
              "  <tbody>\n",
              "    <tr>\n",
              "      <th>count</th>\n",
              "      <td>6</td>\n",
              "      <td>6.000000</td>\n",
              "      <td>6.000000</td>\n",
              "      <td>6</td>\n",
              "      <td>6.000000</td>\n",
              "      <td>6.000000e+00</td>\n",
              "      <td>6</td>\n",
              "    </tr>\n",
              "    <tr>\n",
              "      <th>unique</th>\n",
              "      <td>6</td>\n",
              "      <td>NaN</td>\n",
              "      <td>NaN</td>\n",
              "      <td>1</td>\n",
              "      <td>NaN</td>\n",
              "      <td>NaN</td>\n",
              "      <td>6</td>\n",
              "    </tr>\n",
              "    <tr>\n",
              "      <th>top</th>\n",
              "      <td>136_2</td>\n",
              "      <td>NaN</td>\n",
              "      <td>NaN</td>\n",
              "      <td>GSM1800</td>\n",
              "      <td>NaN</td>\n",
              "      <td>NaN</td>\n",
              "      <td>BTS-1</td>\n",
              "    </tr>\n",
              "    <tr>\n",
              "      <th>freq</th>\n",
              "      <td>1</td>\n",
              "      <td>NaN</td>\n",
              "      <td>NaN</td>\n",
              "      <td>6</td>\n",
              "      <td>NaN</td>\n",
              "      <td>NaN</td>\n",
              "      <td>1</td>\n",
              "    </tr>\n",
              "    <tr>\n",
              "      <th>mean</th>\n",
              "      <td>NaN</td>\n",
              "      <td>-8.071190</td>\n",
              "      <td>-34.895662</td>\n",
              "      <td>NaN</td>\n",
              "      <td>696.500000</td>\n",
              "      <td>5.559000e+01</td>\n",
              "      <td>NaN</td>\n",
              "    </tr>\n",
              "    <tr>\n",
              "      <th>std</th>\n",
              "      <td>NaN</td>\n",
              "      <td>0.005477</td>\n",
              "      <td>0.006370</td>\n",
              "      <td>NaN</td>\n",
              "      <td>54.617763</td>\n",
              "      <td>7.783606e-15</td>\n",
              "      <td>NaN</td>\n",
              "    </tr>\n",
              "    <tr>\n",
              "      <th>min</th>\n",
              "      <td>NaN</td>\n",
              "      <td>-8.076361</td>\n",
              "      <td>-34.908000</td>\n",
              "      <td>NaN</td>\n",
              "      <td>662.000000</td>\n",
              "      <td>5.559000e+01</td>\n",
              "      <td>NaN</td>\n",
              "    </tr>\n",
              "    <tr>\n",
              "      <th>25%</th>\n",
              "      <td>NaN</td>\n",
              "      <td>-8.075917</td>\n",
              "      <td>-34.894611</td>\n",
              "      <td>NaN</td>\n",
              "      <td>667.750000</td>\n",
              "      <td>5.559000e+01</td>\n",
              "      <td>NaN</td>\n",
              "    </tr>\n",
              "    <tr>\n",
              "      <th>50%</th>\n",
              "      <td>NaN</td>\n",
              "      <td>-8.072139</td>\n",
              "      <td>-34.894597</td>\n",
              "      <td>NaN</td>\n",
              "      <td>677.500000</td>\n",
              "      <td>5.559000e+01</td>\n",
              "      <td>NaN</td>\n",
              "    </tr>\n",
              "    <tr>\n",
              "      <th>75%</th>\n",
              "      <td>NaN</td>\n",
              "      <td>-8.066590</td>\n",
              "      <td>-34.893187</td>\n",
              "      <td>NaN</td>\n",
              "      <td>688.000000</td>\n",
              "      <td>5.559000e+01</td>\n",
              "      <td>NaN</td>\n",
              "    </tr>\n",
              "    <tr>\n",
              "      <th>max</th>\n",
              "      <td>NaN</td>\n",
              "      <td>-8.064583</td>\n",
              "      <td>-34.889444</td>\n",
              "      <td>NaN</td>\n",
              "      <td>806.000000</td>\n",
              "      <td>5.559000e+01</td>\n",
              "      <td>NaN</td>\n",
              "    </tr>\n",
              "  </tbody>\n",
              "</table>\n",
              "</div>\n",
              "      <button class=\"colab-df-convert\" onclick=\"convertToInteractive('df-5c1be0c3-abc3-455f-af84-b1b1cee7fda7')\"\n",
              "              title=\"Convert this dataframe to an interactive table.\"\n",
              "              style=\"display:none;\">\n",
              "        \n",
              "  <svg xmlns=\"http://www.w3.org/2000/svg\" height=\"24px\"viewBox=\"0 0 24 24\"\n",
              "       width=\"24px\">\n",
              "    <path d=\"M0 0h24v24H0V0z\" fill=\"none\"/>\n",
              "    <path d=\"M18.56 5.44l.94 2.06.94-2.06 2.06-.94-2.06-.94-.94-2.06-.94 2.06-2.06.94zm-11 1L8.5 8.5l.94-2.06 2.06-.94-2.06-.94L8.5 2.5l-.94 2.06-2.06.94zm10 10l.94 2.06.94-2.06 2.06-.94-2.06-.94-.94-2.06-.94 2.06-2.06.94z\"/><path d=\"M17.41 7.96l-1.37-1.37c-.4-.4-.92-.59-1.43-.59-.52 0-1.04.2-1.43.59L10.3 9.45l-7.72 7.72c-.78.78-.78 2.05 0 2.83L4 21.41c.39.39.9.59 1.41.59.51 0 1.02-.2 1.41-.59l7.78-7.78 2.81-2.81c.8-.78.8-2.07 0-2.86zM5.41 20L4 18.59l7.72-7.72 1.47 1.35L5.41 20z\"/>\n",
              "  </svg>\n",
              "      </button>\n",
              "      \n",
              "  <style>\n",
              "    .colab-df-container {\n",
              "      display:flex;\n",
              "      flex-wrap:wrap;\n",
              "      gap: 12px;\n",
              "    }\n",
              "\n",
              "    .colab-df-convert {\n",
              "      background-color: #E8F0FE;\n",
              "      border: none;\n",
              "      border-radius: 50%;\n",
              "      cursor: pointer;\n",
              "      display: none;\n",
              "      fill: #1967D2;\n",
              "      height: 32px;\n",
              "      padding: 0 0 0 0;\n",
              "      width: 32px;\n",
              "    }\n",
              "\n",
              "    .colab-df-convert:hover {\n",
              "      background-color: #E2EBFA;\n",
              "      box-shadow: 0px 1px 2px rgba(60, 64, 67, 0.3), 0px 1px 3px 1px rgba(60, 64, 67, 0.15);\n",
              "      fill: #174EA6;\n",
              "    }\n",
              "\n",
              "    [theme=dark] .colab-df-convert {\n",
              "      background-color: #3B4455;\n",
              "      fill: #D2E3FC;\n",
              "    }\n",
              "\n",
              "    [theme=dark] .colab-df-convert:hover {\n",
              "      background-color: #434B5C;\n",
              "      box-shadow: 0px 1px 3px 1px rgba(0, 0, 0, 0.15);\n",
              "      filter: drop-shadow(0px 1px 2px rgba(0, 0, 0, 0.3));\n",
              "      fill: #FFFFFF;\n",
              "    }\n",
              "  </style>\n",
              "\n",
              "      <script>\n",
              "        const buttonEl =\n",
              "          document.querySelector('#df-5c1be0c3-abc3-455f-af84-b1b1cee7fda7 button.colab-df-convert');\n",
              "        buttonEl.style.display =\n",
              "          google.colab.kernel.accessAllowed ? 'block' : 'none';\n",
              "\n",
              "        async function convertToInteractive(key) {\n",
              "          const element = document.querySelector('#df-5c1be0c3-abc3-455f-af84-b1b1cee7fda7');\n",
              "          const dataTable =\n",
              "            await google.colab.kernel.invokeFunction('convertToInteractive',\n",
              "                                                     [key], {});\n",
              "          if (!dataTable) return;\n",
              "\n",
              "          const docLinkHtml = 'Like what you see? Visit the ' +\n",
              "            '<a target=\"_blank\" href=https://colab.research.google.com/notebooks/data_table.ipynb>data table notebook</a>'\n",
              "            + ' to learn more about interactive tables.';\n",
              "          element.innerHTML = '';\n",
              "          dataTable['output_type'] = 'display_data';\n",
              "          await google.colab.output.renderOutput(dataTable, element);\n",
              "          const docLink = document.createElement('div');\n",
              "          docLink.innerHTML = docLinkHtml;\n",
              "          element.appendChild(docLink);\n",
              "        }\n",
              "      </script>\n",
              "    </div>\n",
              "  </div>\n",
              "  "
            ]
          },
          "metadata": {},
          "execution_count": 14
        }
      ]
    },
    {
      "cell_type": "code",
      "source": [
        "df.info()"
      ],
      "metadata": {
        "colab": {
          "base_uri": "https://localhost:8080/"
        },
        "id": "9TjWTABQXeZB",
        "outputId": "c468aacc-6f10-4756-89aa-a18d98208ccf"
      },
      "execution_count": null,
      "outputs": [
        {
          "output_type": "stream",
          "name": "stdout",
          "text": [
            "<class 'pandas.core.frame.DataFrame'>\n",
            "RangeIndex: 6 entries, 0 to 5\n",
            "Data columns (total 7 columns):\n",
            " #   Column  Non-Null Count  Dtype  \n",
            "---  ------  --------------  -----  \n",
            " 0   name    6 non-null      object \n",
            " 1   lat     6 non-null      float64\n",
            " 2   lon     6 non-null      float64\n",
            " 3   band    6 non-null      object \n",
            " 4   bcch    6 non-null      int64  \n",
            " 5   eirp    6 non-null      float64\n",
            " 6   bts     6 non-null      object \n",
            "dtypes: float64(3), int64(1), object(3)\n",
            "memory usage: 464.0+ bytes\n"
          ]
        }
      ]
    }
  ]
}